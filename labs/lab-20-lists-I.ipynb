{
 "cells": [
  {
   "cell_type": "markdown",
   "id": "d5c1a753",
   "metadata": {},
   "source": [
    "# Lab 20: Lists I\n",
    "\n",
    "## The Basics\n",
    "\n",
    "#### First, read sections 7.1 through 7.4 of the textbook before proceeding with this lab.\n",
    "\n",
    "A \"sequence\" is a structure that acts as a container or storage for some objects. A list is one such sequence/container, and is mutable or changeable. A tuple is another, but is immutable (cannot be changed once it's declared).\n",
    "\n",
    "Lists use square brackets and commas, such as this list of the numbers 1-5: [1, 2, 3, 4, 5]. A list can hold data of different datatypes, however it's most common to have one data type (we'd use objects to store multiple data types; we'll learn about this later this semester).\n",
    "\n",
    "You declare your list just like any other variable. Here, the list name is 'values' and it holds those floats: \n",
    "\n",
    "    values = [32.95, 44.25, 33.82]\n",
    "\n",
    "Here's another that holds strings:\n",
    "\n",
    "    names = ['Jess', 'Juan', 'Jill', 'Jeff']\n",
    "\n",
    "You can use the repetition operator * with lists. Normally, this operator * is multiplication, but when used with a list, it becomes the list repetition operator. This statement:\n",
    "\n",
    "    randoms = [45, 62, 84, 23] * 3\n",
    "    \n",
    "...will result in the 'randoms' list now being assigned these elements: [45, 62, 84, 23, 45, 62, 84, 23, 45, 62, 84, 23]\n",
    "\n",
    "#### This is very common in programming\n",
    "\n",
    "To create a list of a certain size and initialized to all 0's, do this:\n",
    "\n",
    "    list_a = [0] * SIZE\n",
    "\n",
    "#### Fun Facts\n",
    "\n",
    "The spaces that separate the list elements are optional. Many programmers leave them out to compact their code a bit. I usually do, too. \n",
    "\n",
    "Python lists are closest to C++ vectors, but actually have more capabilities.\n",
    "\n",
    "## 20-1 ==================\n",
    "\n",
    "Create a list named 'days' which contains the days of the week (use 3-letter abbreviations such as 'Mon').\n",
    "\n",
    "Do a simple print(days) statement to output the list in list notation."
   ]
  },
  {
   "cell_type": "code",
   "execution_count": 1,
   "id": "4d02fb7e",
   "metadata": {},
   "outputs": [
    {
     "name": "stdout",
     "output_type": "stream",
     "text": [
      "['Mon', 'Tue', 'Wed', 'Thu', 'Fri', 'Sat', 'Sun']\n"
     ]
    }
   ],
   "source": [
    "# code in this cell\n"
   ]
  },
  {
   "cell_type": "markdown",
   "id": "4afb5685",
   "metadata": {},
   "source": [
    "## 20-2 ==================\n",
    "\n",
    "Create a list named 'months' which contains the twelve months (use 3-letter abbreviations such as 'Jan')."
   ]
  },
  {
   "cell_type": "code",
   "execution_count": 2,
   "id": "1a6ecfd0",
   "metadata": {},
   "outputs": [
    {
     "name": "stdout",
     "output_type": "stream",
     "text": [
      "['Jan', 'Feb', 'Mar', 'Apr', 'May', 'Jun', 'Jul', 'Aug', 'Sep', 'Oct', 'Nov', 'Dec']\n"
     ]
    }
   ],
   "source": [
    "# code in this cell\n"
   ]
  },
  {
   "cell_type": "markdown",
   "id": "6f1ee970",
   "metadata": {},
   "source": [
    "## Lists Can Be Iterated Through\n",
    "\n",
    "We use a for loop to iterate through a list. Rather than using, say, 'i' in a statement like 'for i in range(5)', we use a variable that's descriptive of the values, if possible. This for loop uses 'day' as the temporary variable. Every time through the loop, 'day' will refer to the next element in the list 'days'. \n",
    "\n",
    "Here, rather than using the native print() statement, we want to iterate though the list and use different formatting.\n",
    "\n",
    "Run the cell below to see how this works."
   ]
  },
  {
   "cell_type": "code",
   "execution_count": 3,
   "id": "a1d5c443",
   "metadata": {},
   "outputs": [
    {
     "name": "stdout",
     "output_type": "stream",
     "text": [
      "Mon Tue Wed Thu Fri Sat Sun "
     ]
    }
   ],
   "source": [
    "for day in days:\n",
    "    print(f'{day} ', end='')"
   ]
  },
  {
   "cell_type": "markdown",
   "id": "3466d0e4",
   "metadata": {},
   "source": [
    "## 20-3 ==================\n",
    "\n",
    "Iterate through the 'months' list."
   ]
  },
  {
   "cell_type": "code",
   "execution_count": 4,
   "id": "0b7b22ed",
   "metadata": {},
   "outputs": [
    {
     "name": "stdout",
     "output_type": "stream",
     "text": [
      "Jan Feb Mar Apr May Jun Jul Aug Sep Oct Nov Dec "
     ]
    }
   ],
   "source": [
    "# code in this cell\n"
   ]
  },
  {
   "cell_type": "markdown",
   "id": "3126e8a5",
   "metadata": {},
   "source": [
    "## Lists Can Be Accessed Using Index Numbers\n",
    "\n",
    "We use square brackets and an index number to access individual list elements. Take this list:\n",
    "\n",
    "    teams = ['Braves','Red Sox','Pirates','Giants']\n",
    "\n",
    "We can refer to the first element, 'Braves', with this syntax: teams[0].\n",
    "    \n",
    "Similarly, the second element in the list, 'Red Sox', is at teams[1].\n",
    "\n",
    "Why do the elements seem off by one in the count? It's because in programming we start counting at 0. The first list element is list[0], the second is list[1], and so forth. This sometimes challenges introductory programmers who forget about the off-by-one errors possible. Make sure this is clear in your mind: we start counting with 0.\n",
    "\n",
    "#### While Loop With Indexing\n",
    "\n",
    "In the cell below, there's an index variable 'i' that we can use as the index subscript. We use a while loop for this example. Run it and experiment with it."
   ]
  },
  {
   "cell_type": "code",
   "execution_count": 5,
   "id": "bc95d11b",
   "metadata": {},
   "outputs": [
    {
     "name": "stdout",
     "output_type": "stream",
     "text": [
      "Jan Feb Mar Apr May Jun Jul Aug Sep Oct Nov Dec "
     ]
    }
   ],
   "source": [
    "i = 0\n",
    "while i < 12:\n",
    "    print(f'{months[i]} ', end='')\n",
    "    i += 1"
   ]
  },
  {
   "cell_type": "markdown",
   "id": "efbfd44e",
   "metadata": {},
   "source": [
    "#### For Loop With Indexing\n",
    "\n",
    "We can also use a for loop with indexing. Remember that this for loop:\n",
    "\n",
    "    for i in range(12)\n",
    "\n",
    "...will generate values of 'i' that start with 0 and end at 11 (the 12 is never included). This gives us 12 iterations, and we can use that index variable 'i' as our list index. Run this code:"
   ]
  },
  {
   "cell_type": "code",
   "execution_count": 6,
   "id": "47eaf1e4",
   "metadata": {},
   "outputs": [
    {
     "name": "stdout",
     "output_type": "stream",
     "text": [
      "Jan Feb Mar Apr May Jun Jul Aug Sep Oct Nov Dec "
     ]
    }
   ],
   "source": [
    "for i in range(12):\n",
    "    print(f'{months[i]} ', end='')"
   ]
  },
  {
   "cell_type": "markdown",
   "id": "1ece0555",
   "metadata": {},
   "source": [
    "## Lists Can Report Their Length With len()\n",
    "\n",
    "It will be quite common to have an unknown number of elements in your list. We might think this would pose a problem because we couldn't properly iterate through the list using indexing since we don't know when to end.\n",
    "\n",
    "Fortunately, a Python list can always return its own length with the len() function. It takes the list name as the argument, and it returns the number of elements currently in the list. Here are some examples:\n",
    "\n",
    "    print(len(months))      # prints 12\n",
    "    a = len(months) + 15    # assigns 27 to a\n",
    "    b = len(days) / 2       # assigns 3.5 to b\n",
    "\n",
    "## 20-4 ==================\n",
    "\n",
    "Using a while loop and an index variable, iterate through the months array using the len() function rather than the integer literal '12."
   ]
  },
  {
   "cell_type": "code",
   "execution_count": 7,
   "id": "1eae5369",
   "metadata": {},
   "outputs": [
    {
     "name": "stdout",
     "output_type": "stream",
     "text": [
      "Jan Feb Mar Apr May Jun Jul Aug Sep Oct Nov Dec "
     ]
    }
   ],
   "source": [
    "# code in this cell\n"
   ]
  },
  {
   "cell_type": "markdown",
   "id": "9d63a024",
   "metadata": {},
   "source": [
    "## 20-5 ==================\n",
    "\n",
    "Using a for loop, iterate through the days array using the len() function rather than the integer literal '7'."
   ]
  },
  {
   "cell_type": "code",
   "execution_count": 8,
   "id": "d03e58e5",
   "metadata": {},
   "outputs": [
    {
     "name": "stdout",
     "output_type": "stream",
     "text": [
      "Mon Tue Wed Thu Fri Sat Sun "
     ]
    }
   ],
   "source": [
    "# code in this cell\n"
   ]
  },
  {
   "cell_type": "markdown",
   "id": "44898c29",
   "metadata": {},
   "source": [
    "## List Elements Can Be Changed\n",
    "\n",
    "'Mutable' means changeable. In this code we have a 'values' list with some integers. The first and second elements are changed. The output lets us visualize the changed elements."
   ]
  },
  {
   "cell_type": "code",
   "execution_count": 9,
   "id": "1df50a3f",
   "metadata": {},
   "outputs": [
    {
     "name": "stdout",
     "output_type": "stream",
     "text": [
      "Original values: 64 24 30 85 94 12 \n",
      "Changed values: 5000 -9999 30 85 94 12 "
     ]
    }
   ],
   "source": [
    "values = [64,24,30,85,94,12]\n",
    "print('Original values: ', end='')\n",
    "for val in values:\n",
    "    print(f'{val } ', end='')\n",
    "values[0] = 5000\n",
    "values[1] = -9999\n",
    "print('\\nChanged values: ', end='')\n",
    "for val in values:\n",
    "    print(f'{val } ', end='')"
   ]
  },
  {
   "cell_type": "markdown",
   "id": "6b2f84d1",
   "metadata": {},
   "source": [
    "## Lists Can Be Concatenated\n",
    "\n",
    "We can join two lists together using the concatenation operator + similar to how we concatenated strings using the same operator. Run the code below for a demonstration."
   ]
  },
  {
   "cell_type": "code",
   "execution_count": 10,
   "id": "9c869c30",
   "metadata": {},
   "outputs": [
    {
     "name": "stdout",
     "output_type": "stream",
     "text": [
      "[1, 2, 3, 'a', 'b', 'c']\n"
     ]
    }
   ],
   "source": [
    "a = [1,2,3]\n",
    "b = ['a','b','c']\n",
    "c = a + b\n",
    "print(c)"
   ]
  },
  {
   "cell_type": "markdown",
   "id": "25414966",
   "metadata": {},
   "source": [
    "## Lists Can Be Sliced Up\n",
    "\n",
    "List slicing means referencing a specific span of a list, a contiguous subset. In square brackets, rather than using an index variable such as 'i' (days[i]), we use the starting and ending index numbers. The first number is the starting index, the second number is the EXCLUSIVE ending index, meaning this number is not included in the results. \n",
    "\n",
    "    days[2:4] gives us days[2] (Wed) and days[3] (Thu) (but not days[4] (Fri) since that's the end of the slice)\n",
    "    months[9:11] gives us Oct, Nov, and Dec\n",
    "\n",
    "If we omit a number in the syntax, it means either 'beginning' or 'end':\n",
    "\n",
    "    days[5:] gives us days[5] to the end\n",
    "    months[:3] gives us the first three months\n",
    "\n",
    "It's most common to store these extracted slices into other lists:\n",
    "\n",
    "    days_s = days[2:4]\n",
    "    months_s = months[9:11]\n",
    "\n",
    "## 20-6 ==================\n",
    "\n",
    "Run the cell below to set the 'values' list in memory. Then code successive print statements (just print(list) statements, not a loop) that will return these list slices:\n",
    "\n",
    "    [85, 94, 12, 42]\n",
    "    [64, 24, 30]\n",
    "    [86, 77, 58]"
   ]
  },
  {
   "cell_type": "code",
   "execution_count": 11,
   "id": "8050568d",
   "metadata": {},
   "outputs": [],
   "source": [
    "# run this cell first\n",
    "values = [64,24,30,85,94,12,42,86,77,58]"
   ]
  },
  {
   "cell_type": "code",
   "execution_count": 12,
   "id": "be872b6e",
   "metadata": {},
   "outputs": [
    {
     "name": "stdout",
     "output_type": "stream",
     "text": [
      "[85, 94, 12, 42]\n",
      "[64, 24, 30]\n",
      "[86, 77, 58]\n"
     ]
    }
   ],
   "source": [
    "# write your code in this cell\n"
   ]
  },
  {
   "cell_type": "markdown",
   "id": "3bbbad84",
   "metadata": {},
   "source": [
    "## Finding List Items with the IN operator\n",
    "\n",
    "The 'in' operator will return 'True' if a value is found within a list, and 'False' otherwise. Run this code as an example:"
   ]
  },
  {
   "cell_type": "code",
   "execution_count": 13,
   "id": "f74ffb92",
   "metadata": {},
   "outputs": [
    {
     "name": "stdout",
     "output_type": "stream",
     "text": [
      "Found!\n"
     ]
    }
   ],
   "source": [
    "if 24 in values:\n",
    "    print('Found!')\n",
    "else:\n",
    "    print('Not found!')"
   ]
  },
  {
   "cell_type": "markdown",
   "id": "4fde1c51",
   "metadata": {},
   "source": [
    "## 20-7 ==================\n",
    "\n",
    "Obtain an integer input from the user that represents a search term. Search the 'values' list for that element. Output the results in this format:\n",
    "\n",
    "    Enter search term: 86\n",
    "    86 is in the list!"
   ]
  },
  {
   "cell_type": "code",
   "execution_count": 14,
   "id": "97119d73",
   "metadata": {},
   "outputs": [],
   "source": [
    "# run this cell first\n",
    "values = [64,24,30,85,94,12,42,86,77,58]"
   ]
  },
  {
   "cell_type": "code",
   "execution_count": 15,
   "id": "14a6cd1b",
   "metadata": {},
   "outputs": [
    {
     "name": "stdout",
     "output_type": "stream",
     "text": [
      "Enter search term: 64\n",
      "64 is in the list!\n"
     ]
    }
   ],
   "source": [
    "# write your code in this cell\n"
   ]
  },
  {
   "cell_type": "markdown",
   "id": "76266421",
   "metadata": {},
   "source": [
    "## 20-8 ==================\n",
    "\n",
    "Write a program that stores daily ticket sales at a movie theater. Create a list of size 7 (use a constant) and initialize it to all 0's. Remember we can do this by: new_list = [0] * SIZE.\n",
    "\n",
    "Then iterate through the list and perform these tasks: \n",
    "\n",
    "- Assign a random integer (range 5000-10000) to the current list element. \n",
    "- Keep a running total. \n",
    "- Display the sales as you iterate. \n",
    "\n",
    "At the end, display the sum and average (use 2 decimal places). Use the 'days' list to obtain the day labels. Sample output:\n",
    "\n",
    "    Daily sales:\n",
    "        Mon: 7656\n",
    "        Tue: 9801\n",
    "        Wed: 9172\n",
    "        Thu: 6253\n",
    "        Fri: 7768\n",
    "        Sat: 7782\n",
    "        Sun: 9118\n",
    "    Sum: 57550\n",
    "    Avg: 8221.43"
   ]
  },
  {
   "cell_type": "code",
   "execution_count": 16,
   "id": "f36a4bba",
   "metadata": {},
   "outputs": [
    {
     "name": "stdout",
     "output_type": "stream",
     "text": [
      "Daily Sales:\n",
      "\tMon: 6998\n",
      "\tTue: 5395\n",
      "\tWed: 9615\n",
      "\tThu: 8622\n",
      "\tFri: 9691\n",
      "\tSat: 6507\n",
      "\tSun: 9649\n",
      "Sum: 9649\n",
      "Avg: 1378.43\n"
     ]
    }
   ],
   "source": [
    "# code in this cell\n"
   ]
  },
  {
   "cell_type": "markdown",
   "id": "0ac160f3",
   "metadata": {},
   "source": [
    "## 20-9 ==================\n",
    "\n",
    "Continue building on your 20-8 code. We will now abstract our functionality and add a new layer: weeks. Update your code. Generate daily totals like before, but we will store the weekly sums into a separate list.\n",
    "\n",
    "Create a constant for WEEKS and set it to 2.\n",
    "\n",
    "Create a second empty list, 'week_totals', of size WEEKS.\n",
    "\n",
    "Use nested for loops. The outer one is for weeks, and runs WEEKS times. The inner one is the same one as before. It's between the two loops that you'll update the week_totals[i] element with 'sum' that was generated by the inner for loop.\n",
    "\n",
    "Sample output (without my comment arrows, of course):\n",
    "\n",
    "    Week #1 Sales:\n",
    "        Mon: 9080\n",
    "        Tue: 8802\n",
    "        Wed: 5536\n",
    "        Thu: 8683\n",
    "        Fri: 9362\n",
    "        Sat: 8452\n",
    "        Sun: 7294\n",
    "        Total: 57209    <-- note the total is displayed at the end of each week\n",
    "    Week #2 Sales:\n",
    "        Mon: 6621\n",
    "        Tue: 6826\n",
    "        Wed: 8524\n",
    "        Thu: 9826\n",
    "        Fri: 7930\n",
    "        Sat: 8687\n",
    "        Sun: 9670\n",
    "        Total: 115293   <-- here's the other total\n",
    "\n",
    "    Weekly Totals:\n",
    "        Week 1: 57209   <-- these are the same totals\n",
    "        Week 2: 115293  <-- they're just in a different report format"
   ]
  },
  {
   "cell_type": "code",
   "execution_count": 17,
   "id": "cca824c8",
   "metadata": {},
   "outputs": [
    {
     "name": "stdout",
     "output_type": "stream",
     "text": [
      "Week #1 Sales:\n",
      "\tMon: 9124\n",
      "\tTue: 6491\n",
      "\tWed: 5001\n",
      "\tThu: 8079\n",
      "\tFri: 7882\n",
      "\tSat: 7145\n",
      "\tSun: 9571\n",
      "\tTotal: 53293\n",
      "Week #2 Sales:\n",
      "\tMon: 6581\n",
      "\tTue: 8790\n",
      "\tWed: 7276\n",
      "\tThu: 7938\n",
      "\tFri: 6946\n",
      "\tSat: 5785\n",
      "\tSun: 7180\n",
      "\tTotal: 103789\n",
      "\n",
      "Weekly Totals:\n",
      "\tWeek 1: 53293\n",
      "\tWeek 2: 103789\n"
     ]
    }
   ],
   "source": [
    "# code in this cell\n"
   ]
  },
  {
   "cell_type": "markdown",
   "id": "8c4fcb2c",
   "metadata": {},
   "source": [
    "## 20-10 ==================\n",
    "\n",
    "We have a list of teams and a list of cities, and we want to use that data to create a new list that includes the city name and the team name, such as 'Atlanta Braves' or 'San Francisco Giants'.\n",
    "\n",
    "Concatenate the elements in this list and store the results in a new list. Output the new list.\n",
    "\n",
    "    teams = ['Braves','Red Sox','Pirates','Giants']\n",
    "    cities = ['Atlanta','Boston','Philadephia','San Francisco']\n",
    "\n",
    "To initialize a list of strings of size SIZE, use new_list = [''] * SIZE\n",
    "\n",
    "Sample output:\n",
    "\n",
    "['Atlanta Braves', 'Boston Red Sox', 'Philadephia Pirates', 'San Francisco Giants']"
   ]
  },
  {
   "cell_type": "code",
   "execution_count": 18,
   "id": "a3df6137",
   "metadata": {},
   "outputs": [
    {
     "name": "stdout",
     "output_type": "stream",
     "text": [
      "['Atlanta Braves', 'Boston Red Sox', 'Philadephia Pirates', 'San Francisco Giants']\n"
     ]
    }
   ],
   "source": [
    "# code in this cell\n",
    "teams = ['Braves','Red Sox','Pirates','Giants']\n",
    "cities = ['Atlanta','Boston','Philadephia','San Francisco']\n"
   ]
  }
 ],
 "metadata": {
  "kernelspec": {
   "display_name": "Python 3",
   "language": "python",
   "name": "python3"
  },
  "language_info": {
   "codemirror_mode": {
    "name": "ipython",
    "version": 3
   },
   "file_extension": ".py",
   "mimetype": "text/x-python",
   "name": "python",
   "nbconvert_exporter": "python",
   "pygments_lexer": "ipython3",
   "version": "3.8.8"
  }
 },
 "nbformat": 4,
 "nbformat_minor": 5
}
