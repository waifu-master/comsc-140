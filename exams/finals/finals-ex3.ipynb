{
 "cells": [
  {
   "cell_type": "code",
   "execution_count": 19,
   "metadata": {},
   "outputs": [
    {
     "name": "stdout",
     "output_type": "stream",
     "text": [
      "A9E9:  595 1680 \n",
      "B1O2:  1680 \n",
      "B8D7:  595 1522 \n",
      "C8D7:  840 1842 \n",
      "E9X0:  124 840 1842 \n",
      "F9R9:  1522 1680 \n",
      "G4I6:  124 595 1522 1842 \n",
      "K3B6:  1522 \n",
      "P2W4:  595 840 1842 \n",
      "R2D2:  124 1522 1680 \n",
      "R8D0:  840 1522 1842 \n",
      "S0P9:  124 1680 \n",
      "S8Q4:  124 595 \n",
      "T4B4:  840 \n",
      "U3W9:  124 595 1680 1842 \n",
      "X8I9:  840 \n"
     ]
    }
   ],
   "source": [
    "def main():\n",
    "    '''Entry point'''\n",
    "    # read data\n",
    "    file = open('data.txt', 'r')\n",
    "    content = file.read().split('\\n')\n",
    "    del content[-1] # last line is just empty\n",
    "\n",
    "    # records which flights each droid is in\n",
    "    droid_flights: dict[str, list[int]] = {}\n",
    "\n",
    "    # parse the flights\n",
    "    for line in content:\n",
    "        data = line.split(' ')\n",
    "        # get flight no & del 0th element\n",
    "        flight = int(data.pop(0))\n",
    "        # data is now just the droids\n",
    "        for droid in data:\n",
    "            if droid in droid_flights:\n",
    "                droid_flights[droid].append(flight)\n",
    "            else: # initialize this droid's history\n",
    "                droid_flights.update({droid: [flight]})\n",
    "            \n",
    "    # print the droids' flight info in alphabetical order\n",
    "    for droid in sorted(droid_flights):\n",
    "        flights = droid_flights[droid]\n",
    "        printed = f'{droid}:  '\n",
    "        for flight in sorted(flights):\n",
    "            printed += f'{flight} '\n",
    "        print(printed)\n",
    "\n",
    "main()"
   ]
  },
  {
   "cell_type": "code",
   "execution_count": 8,
   "metadata": {},
   "outputs": [
    {
     "name": "stdout",
     "output_type": "stream",
     "text": [
      "0.517894\n"
     ]
    }
   ],
   "source": [
    "import random\n",
    "\n",
    "wallets = [[500, 500, 500, 500, 500, 100, 100], [500, 100, 100, 100]]\n",
    "trials = 1000000\n",
    "count_100 = 0\n",
    "\n",
    "for _ in range(trials):\n",
    "    choice = random.randint(0,1)\n",
    "    wallet = wallets[choice]\n",
    "    i = random.randint(0, len(wallet) - 1)\n",
    "    coin = wallet[i]\n",
    "    if coin == 100:\n",
    "        count_100 += 1\n",
    "print(count_100 / trials)"
   ]
  }
 ],
 "metadata": {
  "kernelspec": {
   "display_name": "base",
   "language": "python",
   "name": "python3"
  },
  "language_info": {
   "codemirror_mode": {
    "name": "ipython",
    "version": 3
   },
   "file_extension": ".py",
   "mimetype": "text/x-python",
   "name": "python",
   "nbconvert_exporter": "python",
   "pygments_lexer": "ipython3",
   "version": "3.9.13"
  },
  "orig_nbformat": 4
 },
 "nbformat": 4,
 "nbformat_minor": 2
}
