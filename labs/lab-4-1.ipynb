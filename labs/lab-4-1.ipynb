{
 "cells": [
  {
   "cell_type": "markdown",
   "id": "96c062ec",
   "metadata": {},
   "source": [
    "# Lab 4\n",
    "## Input, Output, Variables, Calculations\n",
    "\n",
    "Read Sections 2.1 to 2.8 in the textbook before doing this lab."
   ]
  },
  {
   "cell_type": "markdown",
   "id": "bb48e72f",
   "metadata": {},
   "source": [
    "## 4-1: Output using print\n",
    "\n",
    "Ref: Section 2.3\n",
    "\n",
    "In Python we use the 'print' instruction to output. We can print a sentence like this:\n",
    "\n",
    "    print(\"Welcome to COMSC-140!\")\n",
    "\n",
    "Note how the sentence is bound by double quote marks. You can also use single quote marks.\n",
    "\n",
    "Copy and paste that statement above into the cell below and run it to see the results."
   ]
  },
  {
   "cell_type": "code",
   "execution_count": 1,
   "id": "bcc4bc67",
   "metadata": {},
   "outputs": [
    {
     "name": "stdout",
     "output_type": "stream",
     "text": [
      "Welcome to COMSC-140!\n"
     ]
    }
   ],
   "source": [
    "print(\"Welcome to COMSC-140!\")"
   ]
  },
  {
   "cell_type": "markdown",
   "id": "fd6958ab",
   "metadata": {},
   "source": [
    "Now modify the string to print any other sentence you want and run it in the cell below."
   ]
  },
  {
   "cell_type": "code",
   "execution_count": 8,
   "id": "1f8ec7fd",
   "metadata": {},
   "outputs": [
    {
     "name": "stdout",
     "output_type": "stream",
     "text": [
      "Never gonna give you up\n"
     ]
    }
   ],
   "source": [
    "print(\"Never gonna give you up\")"
   ]
  },
  {
   "cell_type": "markdown",
   "id": "dda0ff7e",
   "metadata": {},
   "source": [
    "Now output your name."
   ]
  },
  {
   "cell_type": "code",
   "execution_count": 1,
   "id": "10de9ea7",
   "metadata": {},
   "outputs": [
    {
     "name": "stdout",
     "output_type": "stream",
     "text": [
      "Wenzel\n"
     ]
    }
   ],
   "source": [
    "print(\"Wenzel\")"
   ]
  },
  {
   "cell_type": "markdown",
   "id": "bc1c2fc1",
   "metadata": {},
   "source": [
    "## 4-2: Comments\n",
    "\n",
    "Ref: Section 2.4.\n",
    "\n",
    "We comment our code by prefacing the comment with the pound sign # character. These lines of code are not processed by the interpreter.\n",
    "\n",
    "Comments can take up their own line, or can be placed on the same line after an instruction.\n",
    "\n",
    "In the cell below, place a comment (\"print section\") above the print statement: \"This is my first comment.\""
   ]
  },
  {
   "cell_type": "code",
   "execution_count": 3,
   "id": "df70d552",
   "metadata": {},
   "outputs": [
    {
     "name": "stdout",
     "output_type": "stream",
     "text": [
      "Welcome to COMSC-140!\n"
     ]
    }
   ],
   "source": [
    "# this is my first comment\n",
    "print(\"Welcome to COMSC-140!\")"
   ]
  },
  {
   "cell_type": "markdown",
   "id": "ad5363ed",
   "metadata": {},
   "source": [
    "## 4-3: Variables & Literals\n",
    "\n",
    "Ref: Section 2.5.\n",
    "\n",
    "In Jupyter notebooks, once you declare a variable and \"run\" it within the notebook, that variable stays in memory and you can reference it later. Here's an example. In the next cell I will declare a variable and assign it an integer. In the subsequent cell, I'll use that variable. Note that it's a different cell, but I can still access the variable because it's been loaded into memory."
   ]
  },
  {
   "cell_type": "code",
   "execution_count": 2,
   "id": "4fcb46d2",
   "metadata": {},
   "outputs": [],
   "source": [
    "# make sure to run this cell\n",
    "a = 5"
   ]
  },
  {
   "cell_type": "markdown",
   "id": "80aa7aa4",
   "metadata": {},
   "source": [
    "Now to reference that variable in another cell. Here, I'm going to print the variable \"a\" using the print instruction."
   ]
  },
  {
   "cell_type": "code",
   "execution_count": 3,
   "id": "10d4d765",
   "metadata": {},
   "outputs": [
    {
     "name": "stdout",
     "output_type": "stream",
     "text": [
      "5\n"
     ]
    }
   ],
   "source": [
    "print(a)"
   ]
  },
  {
   "cell_type": "markdown",
   "id": "f3f498fb",
   "metadata": {},
   "source": [
    "By the way you can print multiple elements in a print statement. Here, I'll create variables a, b, and c, and print them all (with labels) on one line using one print statement:"
   ]
  },
  {
   "cell_type": "code",
   "execution_count": 6,
   "id": "3ef5933b",
   "metadata": {},
   "outputs": [
    {
     "name": "stdout",
     "output_type": "stream",
     "text": [
      "a: 5 b: 10 c: 15\n"
     ]
    }
   ],
   "source": [
    "b = 10\n",
    "c = 15\n",
    "print('a:', a, 'b:', b, 'c:', c)"
   ]
  },
  {
   "cell_type": "markdown",
   "id": "13b0867b",
   "metadata": {},
   "source": [
    "#### Literals\n",
    "\n",
    "In the cell above, these are the integer literals: 10 and 15.\n",
    "\n",
    "These are the string literals: 'a:', 'b:', and 'c:'."
   ]
  },
  {
   "cell_type": "markdown",
   "id": "7ab834d1",
   "metadata": {},
   "source": [
    "### Exercise 4-3\n",
    "\n",
    "In the cell below, create a variable 'grade1' and assign it the integer literal 98. Create 'grade2' and assign it 87. \n",
    "\n",
    "Then output it such that it matches this output:\n",
    "\n",
    "    Grade 1: 98\n",
    "    Grade 2: 87"
   ]
  },
  {
   "cell_type": "code",
   "execution_count": 5,
   "id": "ad527a8d",
   "metadata": {},
   "outputs": [
    {
     "name": "stdout",
     "output_type": "stream",
     "text": [
      "Grade 1: 98\n",
      "Grade 2: 87\n"
     ]
    }
   ],
   "source": [
    "grade1 = \"98\"\n",
    "grade2 = \"87\"\n",
    "\n",
    "print(\"Grade 1:\", grade1)\n",
    "print(\"Grade 2:\", grade2)"
   ]
  },
  {
   "cell_type": "markdown",
   "id": "16ba1e73",
   "metadata": {},
   "source": [
    "## 4-4: Input from the Keyboard\n",
    "\n",
    "Ref: Section 2.6.\n",
    "\n",
    "The key thing to remember is that all keyboard input is read by the interpreter as a string -- even numbers. We have to change the input to numbers before we can start using those variables as numbers for math operations and such.\n",
    "\n",
    "This is the difference between the string data type and a numeric data type: a string can contain all numbers and look like a numerical data type, but you cannot use math operations on strings.\n",
    "\n",
    "This will be the typical way to obtain an integer or floating point input from the user:\n",
    "\n",
    "    value = int(input('Enter mileage:'))\n",
    "    value = float(input('Enter rate:'))\n",
    "\n",
    "The first line receives input from the user at the console, converts it to an integer with 'int', and assigns that to the variable 'value'. The second line does the same, except the conversion is to a float.\n",
    "\n",
    "### Exercise 4-4\n",
    "\n",
    "Get the user's age and store it in a variable 'age'. Once they've input it, output what they entered. The output might look like this:\n",
    "\n",
    "    Enter your age: 15\n",
    "    Your age is 15"
   ]
  },
  {
   "cell_type": "code",
   "execution_count": 6,
   "id": "1bb7fab5",
   "metadata": {},
   "outputs": [
    {
     "name": "stdout",
     "output_type": "stream",
     "text": [
      "Your age is 22\n"
     ]
    }
   ],
   "source": [
    "age = int(input(\"Enter your age:\"))\n",
    "print(\"Your age is\", age)"
   ]
  },
  {
   "cell_type": "markdown",
   "id": "df701670",
   "metadata": {},
   "source": [
    "Change 'int' to 'float' for floating point numbers (numbers with a decimal point).\n",
    "\n",
    "### Exercise 4-5\n",
    "\n",
    "We'll use a float this time, not an int. Ask the user for their temperature (such as 98.6) and then output it. Sample output:\n",
    "\n",
    "    Enter your temperature: 97.9\n",
    "    Your temperature is 97.9"
   ]
  },
  {
   "cell_type": "code",
   "execution_count": 7,
   "id": "3b7dea82",
   "metadata": {},
   "outputs": [
    {
     "name": "stdout",
     "output_type": "stream",
     "text": [
      "Your tempareature is: 36.5\n"
     ]
    }
   ],
   "source": [
    "temp = float(input(\"Enter your temperature:\"))\n",
    "print(\"Your tempareature is:\", temp)"
   ]
  }
 ],
 "metadata": {
  "kernelspec": {
   "display_name": "base",
   "language": "python",
   "name": "python3"
  },
  "language_info": {
   "codemirror_mode": {
    "name": "ipython",
    "version": 3
   },
   "file_extension": ".py",
   "mimetype": "text/x-python",
   "name": "python",
   "nbconvert_exporter": "python",
   "pygments_lexer": "ipython3",
   "version": "3.9.13"
  },
  "vscode": {
   "interpreter": {
    "hash": "136f7659ec1489f5ebdb35c5f2966560ff09dbc7850cb17af6c2b1b671121bd9"
   }
  }
 },
 "nbformat": 4,
 "nbformat_minor": 5
}
