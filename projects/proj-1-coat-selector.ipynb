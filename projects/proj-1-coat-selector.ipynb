{
 "cells": [
  {
   "cell_type": "markdown",
   "id": "40e523f0",
   "metadata": {},
   "source": [
    "# Project 1: Coat Selector 3000\n",
    "\n",
    "Code a coat selector script. Start with the welcome banner. Ask the user two questions, using the answers to guide you in selecting a proper coat for the conditions. The two questions are related to temperature and precipitation.\n",
    "\n",
    "Declare booleans for temp and precip and set them to a default of 'false'.\n",
    "\n",
    "Obtain the user's input to these questions:\n",
    "\n",
    "    - Enter [1] cool temperature [2] warm temperature: \n",
    "    - Enter [1] rain or snow [2] dry conditions\n",
    "\n",
    "If the user selects warm, assign 'temp' to true. If they select rain/snow, assign 'precip' to true.\n",
    "\n",
    "Then output the recommendation as shown below. Code standalone if statements using shortened boolean expressions, not full ones (e.g. 'if rain:' instead of 'if rain = True:')\n",
    "\n",
    "    for temp = false (cool) and precip = false (dry): winter coat\n",
    "    for temp = false (cool) and precip = true (rain): winter rain coat\n",
    "    for temp = true (warm) and precip = false (dry): light jacket\n",
    "    for temp = true (warm) and precip = true (rain): light rain jacket\n",
    "\n",
    "Output the recommendation a second time, prefacing the output with \"Repeating the calculation another way:\"\n",
    "\n",
    "This time, rather than coding standalone if statements, use nested if/else statements. You should get the same output.\n",
    "\n",
    "### Sample output\n",
    "Match or improve on this sample output:\n",
    "\n",
    "    COAT SELECTOR 3000: Find your perfect coat today!\n",
    "\n",
    "    Enter [1] cool temperature [2] warm temperature: 2\n",
    "    Enter [1] rain or snow [2] dry conditions: 1\n",
    "\n",
    "    Your Coat Selecter 3000's recommendation today: Light rain jacket\n",
    "\n",
    "    Repeating the calculation another way: Light rain jacket"
   ]
  },
  {
   "cell_type": "code",
   "execution_count": 6,
   "id": "ec0567d6",
   "metadata": {},
   "outputs": [
    {
     "name": "stdout",
     "output_type": "stream",
     "text": [
      "COAT SELECTOR 3000: Find your perfect coat today!\n",
      "-------------------------------------------------\n",
      "\n",
      "Is today cool or warm?\n",
      "[1] Cool\n",
      "[2] Warm\n",
      "> 1 \n",
      "\n",
      "How about the rain?\n",
      "[1] It's raining / snowing\n",
      "[2] It's dry\n",
      "> 2 \n",
      "\n",
      "Your Coat Selector 3000's recommendation today: Winter coat\n",
      "Repeating calculation the other way: Winter coat\n"
     ]
    }
   ],
   "source": [
    "# welcome banner\n",
    "print(\"COAT SELECTOR 3000: Find your perfect coat today!\")\n",
    "print(\"-------------------------------------------------\\n\")\n",
    "\n",
    "# ask user for temperature condition\n",
    "msg = \"Is today cool or warm?\\n[1] Cool\\n[2] Warm\\n>\"\n",
    "temp = int(input(msg))\n",
    "print(msg, temp, \"\\n\")\n",
    "is_cool = (temp == 1)\n",
    "\n",
    "# ask user for precipitation condition\n",
    "msg = \"How about the rain?\\n[1] It's raining / snowing\\n[2] It's dry\\n>\"\n",
    "precip = int(input(msg))\n",
    "print(msg, precip, \"\\n\")\n",
    "is_raining = (precip == 1)\n",
    "\n",
    "# helper variables for the next blocks\n",
    "coat = \"\" \n",
    "msg = \"Your Coat Selector 3000's recommendation today:\"\n",
    "\n",
    "# determines the clothing with 4 if statements\n",
    "if is_cool and is_raining:\n",
    "    coat = \"Winter rain coat\"\n",
    "elif is_cool and not(is_raining):\n",
    "    coat = \"Winter coat\"\n",
    "elif not(is_cool) and is_raining:\n",
    "    coat = \"Light rain jacket\"\n",
    "elif not(is_cool) and not(is_raining):\n",
    "    coat = \"Light jacket\"\n",
    "print(msg, coat)\n",
    "\n",
    "# determines the clothing using nested ifs\n",
    "msg = \"Repeating calculation the other way:\"\n",
    "if is_cool:\n",
    "    if is_raining:\n",
    "        coat = \"Winter rain coat\"\n",
    "    else:\n",
    "        coat = \"Winter coat\"\n",
    "elif not(is_cool):\n",
    "    if is_raining:\n",
    "        coat = \"Light rain jacket\"\n",
    "    else:\n",
    "        coat = \"Light jacket\"\n",
    "print(msg, coat)"
   ]
  }
 ],
 "metadata": {
  "kernelspec": {
   "display_name": "base",
   "language": "python",
   "name": "python3"
  },
  "language_info": {
   "codemirror_mode": {
    "name": "ipython",
    "version": 3
   },
   "file_extension": ".py",
   "mimetype": "text/x-python",
   "name": "python",
   "nbconvert_exporter": "python",
   "pygments_lexer": "ipython3",
   "version": "3.9.13"
  },
  "vscode": {
   "interpreter": {
    "hash": "136f7659ec1489f5ebdb35c5f2966560ff09dbc7850cb17af6c2b1b671121bd9"
   }
  }
 },
 "nbformat": 4,
 "nbformat_minor": 5
}
