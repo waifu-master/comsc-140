{
 "cells": [
  {
   "cell_type": "code",
   "execution_count": 3,
   "metadata": {},
   "outputs": [],
   "source": [
    "# setup the canvas\n",
    "import turtle\n",
    "turtle.setup(500, 500)\n",
    "turtle.bgcolor('#1a1a1a')\n",
    "turtle.pencolor('white')\n",
    "MOVEMENT_DISTANCE = 50\n",
    "\n",
    "# input\n",
    "dir = 'x' # initialized to invalid direction\n",
    "valid_dirs = ['f', 'l', 'r', 'q'] # ok direction values\n",
    "\n",
    "# get direction, ask again if invalid, quit if q\n",
    "while not(dir in valid_dirs):\n",
    "    dir = turtle.textinput('Input', 'Please enter direction').lower()\n",
    "    if dir == 'q':\n",
    "        break # quit immediately\n",
    "    if dir == 'f':\n",
    "        turtle.forward(MOVEMENT_DISTANCE)\n",
    "    if dir == 'l':\n",
    "        turtle.left(90)\n",
    "        turtle.forward(MOVEMENT_DISTANCE)\n",
    "    if dir == 'r':\n",
    "        turtle.right(90)\n",
    "        turtle.forward(MOVEMENT_DISTANCE)\n",
    "    if dir in valid_dirs:\n",
    "        dir = 'x' # invalidate the input, bc it's a valid dir that's not quit\n",
    "\n",
    "# end turtle\n",
    "turtle.done()"
   ]
  }
 ],
 "metadata": {
  "kernelspec": {
   "display_name": "base",
   "language": "python",
   "name": "python3"
  },
  "language_info": {
   "codemirror_mode": {
    "name": "ipython",
    "version": 3
   },
   "file_extension": ".py",
   "mimetype": "text/x-python",
   "name": "python",
   "nbconvert_exporter": "python",
   "pygments_lexer": "ipython3",
   "version": "3.9.13"
  },
  "orig_nbformat": 4,
  "vscode": {
   "interpreter": {
    "hash": "136f7659ec1489f5ebdb35c5f2966560ff09dbc7850cb17af6c2b1b671121bd9"
   }
  }
 },
 "nbformat": 4,
 "nbformat_minor": 2
}
