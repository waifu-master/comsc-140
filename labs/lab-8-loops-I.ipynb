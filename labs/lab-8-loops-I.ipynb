{
 "cells": [
  {
   "cell_type": "markdown",
   "id": "26686068",
   "metadata": {},
   "source": [
    "# Lab 8: Calculator using a sentinel value of 0\n",
    "\n",
    "Write a program in which a user enters a series of numbers to be summed. The user can signal that they're done entering values by entering the sentinel value '0'. The sum is then displayed.\n",
    "\n",
    "Use an accumulator variable as necessary to store the running total.\n",
    "\n",
    "Use augmented assignment operators.\n",
    "\n",
    "### Sample Output\n",
    "\n",
    "    This program will calculate the sum of values\n",
    "    that you enter. Enter a 0 to quit entering data.\n",
    "    Please enter an integer, 0 to sum: 123\n",
    "    Please enter an integer, 0 to sum: 456\n",
    "    Please enter an integer, 0 to sum: 789\n",
    "    Please enter an integer, 0 to sum: 0\n",
    "    The sum of your numbers is 1368."
   ]
  },
  {
   "cell_type": "code",
   "execution_count": null,
   "id": "abb03a4c",
   "metadata": {},
   "outputs": [],
   "source": []
  }
 ],
 "metadata": {
  "kernelspec": {
   "display_name": "Python 3",
   "language": "python",
   "name": "python3"
  },
  "language_info": {
   "codemirror_mode": {
    "name": "ipython",
    "version": 3
   },
   "file_extension": ".py",
   "mimetype": "text/x-python",
   "name": "python",
   "nbconvert_exporter": "python",
   "pygments_lexer": "ipython3",
   "version": "3.8.8"
  }
 },
 "nbformat": 4,
 "nbformat_minor": 5
}
