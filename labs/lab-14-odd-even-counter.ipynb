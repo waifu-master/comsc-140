{
 "cells": [
  {
   "cell_type": "code",
   "execution_count": 2,
   "metadata": {},
   "outputs": [
    {
     "name": "stdout",
     "output_type": "stream",
     "text": [
      "Total numbers generated:    150\n",
      "Count of even numbers:       71\n",
      "Count of odd numbers:        79\n",
      "High number generated:      993\n",
      "Low number generated:        24\n"
     ]
    }
   ],
   "source": [
    "import random\n",
    "TARGET = 150\n",
    "MIN = 1\n",
    "MAX = 1000\n",
    "\n",
    "def check_even(num: int) -> bool:\n",
    "    '''Checks if a number is even'''\n",
    "    return (num % 2 == 0)\n",
    "\n",
    "def print_results(generated: int, even: int, odd: int, high: int, low: int):\n",
    "    '''Prints the results of the randomizer'''\n",
    "    label_total = 'Total numbers generated: '\n",
    "    label_evens = 'Count of even numbers: '\n",
    "    label_odds = 'Count of odd numbers: '\n",
    "    label_high = 'High number generated: '\n",
    "    label_low = 'Low number generated: '\n",
    "    print(f'{label_total:26}{generated:5}')\n",
    "    print(f'{label_evens:26}{even:5}')\n",
    "    print(f'{label_odds:26}{odd:5}')\n",
    "    print(f'{label_high:26}{high:5}')\n",
    "    print(f'{label_low:26}{low:5}')\n",
    "\n",
    "def generate():\n",
    "    '''Generates the random number for this particular exercise'''\n",
    "    return random.randint(MIN, MAX)\n",
    "\n",
    "def main():\n",
    "    # counters\n",
    "    even_count = 0\n",
    "    odd_count = 0\n",
    "\n",
    "    # initialize the min & max\n",
    "    first_rand = generate()\n",
    "    max_val = first_rand\n",
    "    min_val = first_rand\n",
    "    # determine even / odd for first rand\n",
    "    if check_even(first_rand):\n",
    "        even_count += 1\n",
    "    else:\n",
    "        odd_count += 1\n",
    "\n",
    "    # because the 1st random has been initialized, do this loop TARGET - 1 reps\n",
    "    for i in range(1, TARGET):\n",
    "        rand_val = generate()\n",
    "\n",
    "        # determine even / odd\n",
    "        if check_even(rand_val):\n",
    "            even_count += 1\n",
    "        else:\n",
    "            odd_count += 1\n",
    "\n",
    "        # determine max / min\n",
    "        if rand_val > max_val:\n",
    "            max_val = rand_val\n",
    "        if rand_val < min_val:\n",
    "            min_val = rand_val\n",
    "\n",
    "    print_results(even_count + odd_count, even_count, odd_count, max_val, min_val)\n",
    "\n",
    "main()\n",
    "\n"
   ]
  }
 ],
 "metadata": {
  "kernelspec": {
   "display_name": "base",
   "language": "python",
   "name": "python3"
  },
  "language_info": {
   "codemirror_mode": {
    "name": "ipython",
    "version": 3
   },
   "file_extension": ".py",
   "mimetype": "text/x-python",
   "name": "python",
   "nbconvert_exporter": "python",
   "pygments_lexer": "ipython3",
   "version": "3.9.13"
  },
  "orig_nbformat": 4,
  "vscode": {
   "interpreter": {
    "hash": "136f7659ec1489f5ebdb35c5f2966560ff09dbc7850cb17af6c2b1b671121bd9"
   }
  }
 },
 "nbformat": 4,
 "nbformat_minor": 2
}
