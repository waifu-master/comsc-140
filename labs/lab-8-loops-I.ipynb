{
 "cells": [
  {
   "cell_type": "markdown",
   "id": "26686068",
   "metadata": {},
   "source": [
    "# Lab 8: Calculator using a sentinel value of 0\n",
    "\n",
    "Write a program in which a user enters a series of numbers to be summed. The user can signal that they're done entering values by entering the sentinel value '0'. The sum is then displayed.\n",
    "\n",
    "Use an accumulator variable as necessary to store the running total.\n",
    "\n",
    "Use augmented assignment operators.\n",
    "\n",
    "### Sample Output\n",
    "\n",
    "    This program will calculate the sum of values\n",
    "    that you enter. Enter a 0 to quit entering data.\n",
    "    Please enter an integer, 0 to sum: 123\n",
    "    Please enter an integer, 0 to sum: 456\n",
    "    Please enter an integer, 0 to sum: 789\n",
    "    Please enter an integer, 0 to sum: 0\n",
    "    The sum of your numbers is 1368."
   ]
  },
  {
   "cell_type": "code",
   "execution_count": 1,
   "id": "abb03a4c",
   "metadata": {},
   "outputs": [
    {
     "name": "stdout",
     "output_type": "stream",
     "text": [
      "This program will calculate the sum of integers. Enter 0 to quit entering data.\n",
      "\n",
      "Please enter an integer, 0 to exit: 1\n",
      "Please enter an integer, 0 to exit: 100\n",
      "Please enter an integer, 0 to exit: 10000\n",
      "Please enter an integer, 0 to exit: 0\n",
      "\n",
      "The sum of your numbers is 10101\n"
     ]
    }
   ],
   "source": [
    "# introduce the program\n",
    "print(\"This program will calculate the sum of integers. Enter 0 to quit entering data.\\n\")\n",
    "\n",
    "# helper variables\n",
    "total = 0\n",
    "input_val = 1 # initialized to 1 to start the loop at least once\n",
    "input_msg = \"Please enter an integer, 0 to exit:\"\n",
    "\n",
    "# loop & add\n",
    "while input_val != 0:\n",
    "    input_val = int(input(input_msg))\n",
    "    print(input_msg, input_val)\n",
    "    total += input_val\n",
    "print(\"\\nThe sum of your numbers is\", total)"
   ]
  }
 ],
 "metadata": {
  "kernelspec": {
   "display_name": "base",
   "language": "python",
   "name": "python3"
  },
  "language_info": {
   "codemirror_mode": {
    "name": "ipython",
    "version": 3
   },
   "file_extension": ".py",
   "mimetype": "text/x-python",
   "name": "python",
   "nbconvert_exporter": "python",
   "pygments_lexer": "ipython3",
   "version": "3.9.13"
  },
  "vscode": {
   "interpreter": {
    "hash": "136f7659ec1489f5ebdb35c5f2966560ff09dbc7850cb17af6c2b1b671121bd9"
   }
  }
 },
 "nbformat": 4,
 "nbformat_minor": 5
}
