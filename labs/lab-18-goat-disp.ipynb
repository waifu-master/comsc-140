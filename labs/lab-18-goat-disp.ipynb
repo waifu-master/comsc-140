{
 "cells": [
  {
   "cell_type": "code",
   "execution_count": 14,
   "metadata": {},
   "outputs": [
    {
     "name": "stdout",
     "output_type": "stream",
     "text": [
      " ID  Name                Color               Weight\n",
      "  1  alpha               white                    1\n",
      "  2  bravo               light brown              2\n",
      "  3  charlie             brown                    3\n",
      "  4  delta               black                   10\n",
      "  5  echo                white and brown          8\n",
      "  6  foxtrot             white and black         12\n",
      "  7  golf                black                   14\n",
      "  8  hotel               white                    9\n"
     ]
    }
   ],
   "source": [
    "import json # to store the database in JSON format to easily read/write\n",
    "from typing import TypedDict\n",
    "\n",
    "class Goat(TypedDict):\n",
    "    '''\n",
    "    The properties of a goat, including name, color, and weight.\n",
    "    This is to make sure the data will be uniform\n",
    "    '''\n",
    "    name: str\n",
    "    color: str\n",
    "    weight: int\n",
    "\n",
    "def parse_file() -> list[Goat]:\n",
    "    '''\n",
    "    Parses the JSON in the text database\n",
    "    '''\n",
    "    filename = 'goats.txt'\n",
    "    file = open(filename, 'r')\n",
    "    return json.loads(file.read())\n",
    "\n",
    "def print_goat_data(index: int, goat: Goat):\n",
    "    '''\n",
    "    Prints the goat's data\n",
    "    '''\n",
    "    print(f'{index:>3}  {goat[\"name\"]:20}{goat[\"color\"]:20}{goat[\"weight\"]:>6}')\n",
    "\n",
    "def main():\n",
    "    '''\n",
    "    Entry point of the program\n",
    "    '''\n",
    "    goats = parse_file()\n",
    "    i = 1\n",
    "    cols = ['ID', 'Name', 'Color', 'Weight']\n",
    "    print(f'{cols[0]:>3}  {cols[1]:20}{cols[2]:20}{cols[3]:>6}')\n",
    "    for goat in goats:\n",
    "        print_goat_data(i, goat)\n",
    "        i += 1\n",
    "\n",
    "main()"
   ]
  }
 ],
 "metadata": {
  "kernelspec": {
   "display_name": "base",
   "language": "python",
   "name": "python3"
  },
  "language_info": {
   "codemirror_mode": {
    "name": "ipython",
    "version": 3
   },
   "file_extension": ".py",
   "mimetype": "text/x-python",
   "name": "python",
   "nbconvert_exporter": "python",
   "pygments_lexer": "ipython3",
   "version": "3.9.13"
  },
  "orig_nbformat": 4
 },
 "nbformat": 4,
 "nbformat_minor": 2
}
