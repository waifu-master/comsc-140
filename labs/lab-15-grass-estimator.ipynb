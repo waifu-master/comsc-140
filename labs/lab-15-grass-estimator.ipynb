{
 "cells": [
  {
   "cell_type": "code",
   "execution_count": 5,
   "metadata": {},
   "outputs": [
    {
     "name": "stdout",
     "output_type": "stream",
     "text": [
      "No. of lawns in subdivision:              100\n",
      "Avg. length of lawns:                  123.45\n",
      "Avg. width of lawns:                    6.789\n",
      "\n",
      "***RESULTS***\n",
      "Total lawn area:                     83810.21\n",
      "Bags needed:                              839\n"
     ]
    }
   ],
   "source": [
    "# how much area 1 bag of grass can handle\n",
    "BAG_COVERAGE = 100 \n",
    "\n",
    "def get_bag_count(area: float) -> int:\n",
    "    '''Estimates how many bags of grass that can cover specified area'''\n",
    "    # round up the division\n",
    "    return int(area // BAG_COVERAGE + 1)\n",
    "\n",
    "def get_total_area(num_lawns: int, length: float, width: float) -> float:\n",
    "    '''Gets total lawn area'''\n",
    "    return num_lawns * length * width\n",
    "\n",
    "def print_msg_pairs(pairs):\n",
    "    for data in pairs:\n",
    "        print(f'{data[\"msg\"]:30}{data[\"val\"]:15}')\n",
    "\n",
    "def main():\n",
    "    '''Entry point of program'''\n",
    "    msg = 'Enter no. of lawns, avg. length, and avg. width separated by spaces, then press ENTER'\n",
    "    num_lawns, length, width = input(msg).split()\n",
    "    num_lawns, length, width = int(num_lawns), float(length), float(width)\n",
    "\n",
    "    area = get_total_area(num_lawns, length, width)\n",
    "    bags = get_bag_count(area)\n",
    "\n",
    "    # print the data\n",
    "    print_msg_pairs([\n",
    "        {\n",
    "            'msg': 'No. of lawns in subdivision:',\n",
    "            'val': num_lawns,\n",
    "        },\n",
    "        {\n",
    "            'msg': 'Avg. length of lawns:',\n",
    "            'val': length,\n",
    "        },\n",
    "        {\n",
    "            'msg': 'Avg. width of lawns:',\n",
    "            'val': width\n",
    "        },\n",
    "    ])\n",
    "\n",
    "    # print the results\n",
    "    print('\\n***RESULTS***')\n",
    "    print_msg_pairs([\n",
    "        {\n",
    "            'msg': 'Total lawn area:',\n",
    "            'val': round(area, 2),\n",
    "        },\n",
    "        {\n",
    "            'msg': 'Bags needed:',\n",
    "            'val': bags\n",
    "        },\n",
    "    ]) \n",
    "\n",
    "main()"
   ]
  }
 ],
 "metadata": {
  "kernelspec": {
   "display_name": "base",
   "language": "python",
   "name": "python3"
  },
  "language_info": {
   "codemirror_mode": {
    "name": "ipython",
    "version": 3
   },
   "file_extension": ".py",
   "mimetype": "text/x-python",
   "name": "python",
   "nbconvert_exporter": "python",
   "pygments_lexer": "ipython3",
   "version": "3.9.13"
  },
  "orig_nbformat": 4,
  "vscode": {
   "interpreter": {
    "hash": "136f7659ec1489f5ebdb35c5f2966560ff09dbc7850cb17af6c2b1b671121bd9"
   }
  }
 },
 "nbformat": 4,
 "nbformat_minor": 2
}
