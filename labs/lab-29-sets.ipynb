{
 "cells": [
  {
   "cell_type": "markdown",
   "id": "c2eff30f",
   "metadata": {},
   "source": [
    "# Lab 29: Python Sets\n",
    "\n",
    "First read Section 9.2 of the textbook or this won't make any sense to you.\n",
    "\n",
    "## Exercise 29-1\n",
    "\n",
    "Since sets contain unique elements, write a small script that will attempt to add several elements to a set that are the same and several that are different. Use a for loop to iterate over and output the set. Verify that the set doesn't contain duplicates."
   ]
  },
  {
   "cell_type": "code",
   "execution_count": null,
   "id": "af08fde5",
   "metadata": {},
   "outputs": [],
   "source": []
  },
  {
   "cell_type": "markdown",
   "id": "7995d2a8",
   "metadata": {},
   "source": [
    "## Exercise 29-2\n",
    "\n",
    "Using set comprehension, create a set of 25 random numbers in the range 1-75. Use a for loop to print.\n",
    "\n",
    "Create a second set of 25 randoms 1-75, and print with a for loop.\n",
    "\n",
    "Sample output:\n",
    "\n",
    "    7 11 13 18 29 33 34 38 39 40 44 46 48 52 56 57 62 63 65 71 72 \n",
    "    2 4 6 12 17 18 24 32 36 38 41 42 47 51 56 59 60 63 68 74 "
   ]
  },
  {
   "cell_type": "code",
   "execution_count": null,
   "id": "43ded248",
   "metadata": {},
   "outputs": [],
   "source": []
  },
  {
   "cell_type": "markdown",
   "id": "84ad6767",
   "metadata": {},
   "source": [
    "## Exercise 29-3\n",
    "\n",
    "With these two sets, determine and output the union, intersection, difference, and symmetric difference between the sets.\n",
    "\n",
    "Sample output:\n",
    "\n",
    "    Union: \n",
    "    {2, 4, 6, 7, 11, 12, 13, 17, 18, 24, 29, 32, 33, 34, 36, 38, 39, 40, 41, 42, 44, 46, 47, 48, 51, 52, 56, 57, 59, 60, 62, 63, 65, 68, 71, 72, 74}\n",
    "\n",
    "    Intersection: \n",
    "    {56, 18, 38, 63}\n",
    "\n",
    "    Difference: \n",
    "    {33, 34, 65, 7, 39, 40, 71, 11, 44, 13, 46, 72, 48, 52, 57, 29, 62}\n",
    "\n",
    "    Symmetric difference: \n",
    "    {65, 2, 4, 68, 6, 7, 71, 72, 74, 11, 12, 13, 17, 24, 29, 32, 33, 34, 36, 39, 40, 41, 42, 44, 46, 47, 48, 51, 52, 57, 59, 60, 62}"
   ]
  },
  {
   "cell_type": "code",
   "execution_count": null,
   "id": "9795d017",
   "metadata": {},
   "outputs": [],
   "source": []
  }
 ],
 "metadata": {
  "kernelspec": {
   "display_name": "Python 3",
   "language": "python",
   "name": "python3"
  },
  "language_info": {
   "codemirror_mode": {
    "name": "ipython",
    "version": 3
   },
   "file_extension": ".py",
   "mimetype": "text/x-python",
   "name": "python",
   "nbconvert_exporter": "python",
   "pygments_lexer": "ipython3",
   "version": "3.8.8"
  }
 },
 "nbformat": 4,
 "nbformat_minor": 5
}
