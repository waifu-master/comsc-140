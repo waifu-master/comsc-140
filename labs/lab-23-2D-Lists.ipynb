{
 "cells": [
  {
   "cell_type": "markdown",
   "id": "ad01421f",
   "metadata": {},
   "source": [
    "# Lab 23: 2D Lists\n",
    "\n",
    "First, **read Section 7.9** or this lab won't make much sense.\n",
    "\n",
    "A 2D list in Python is really a list of lists.\n",
    "\n",
    "Imagine we have list1: [1,2,3,4,5] and list2: [2,3,4,5,6] and list3: [3,4,5,6,7]\n",
    "\n",
    "Now imagine we have a list, where each element in the list is itself a list. The list output would be: \n",
    "\n",
    "    [list1, list2, list3]\n",
    "    \n",
    "Now by substitution we get:\n",
    "\n",
    "    [[1,2,3,4,5],[2,3,4,5,6],[3,4,5,6,7]]\n",
    "    \n",
    "And if we output the 2D list with some formatting to make the rows and columns cleaner, it'd look like:\n",
    "\n",
    "    1   2   3   4   5\n",
    "    2   3   4   5   6\n",
    "    3   4   5   6   7\n",
    "\n",
    "## List Comprehension to Create 2D Lists\n",
    "\n",
    "To create a single 1D list of size 7 of all 0's, we'd use:\n",
    "\n",
    "    [0 for i in range(7)]\n",
    "    \n",
    "Or rather than 0, we do a random.\n",
    "\n",
    "Run this code for a demonstration."
   ]
  },
  {
   "cell_type": "code",
   "execution_count": 1,
   "id": "78927673",
   "metadata": {},
   "outputs": [
    {
     "name": "stdout",
     "output_type": "stream",
     "text": [
      "[0, 0, 0, 0, 0, 0, 0]\n",
      "[9, 7, 8, 3, 9, 10, 5]\n"
     ]
    }
   ],
   "source": [
    "import random\n",
    "COLS = 7\n",
    "\n",
    "# generate list of 0's\n",
    "values = [0 for i in range(COLS)]\n",
    "print(values)\n",
    "\n",
    "# generate list of randoms\n",
    "values = [random.randint(1, 10) for i in range(COLS)]\n",
    "print(values)"
   ]
  },
  {
   "cell_type": "markdown",
   "id": "655e3c0e",
   "metadata": {},
   "source": [
    "We abstract this by one layer to **initialize a 2D list with all 0's** using list comprehension.\n",
    "\n",
    "To create a separate list of 0's for the number of rows, we'd use:\n",
    "\n",
    "    values = [0 for j in range(ROWS)]\n",
    "    \n",
    "Suppose that y equals this code: y = [0 for i in range(COLS)]\n",
    "\n",
    "Now substitute y in the following code to get the full Python statement:\n",
    "\n",
    "    values = [y for j in range(ROWS)]\n",
    "    \n",
    "    and if y = [0 for i in range(COLS)]\n",
    "    \n",
    "    then the statement after substitution is: \n",
    "    values = [[0 for i in range(COLS)] for j in range(ROWS)]\n",
    "    \n",
    "If we want to initialize with other values, we just put the value we want in place of the '0' in this code:\n",
    "\n",
    "    values = [[0 for i in range(COLS)] for j in range(ROWS)]\n",
    "\n",
    "For example, a random number 1-10:\n",
    "\n",
    "    values = [[random.randint(1,10) for i in range(COLS)] for j in range(ROWS)]"
   ]
  },
  {
   "cell_type": "markdown",
   "id": "407f8278",
   "metadata": {},
   "source": [
    "## Exercise 23-1: Use List Comprehension to Initialize a 2D List to 0's\n",
    "\n",
    "Create a 5x5 2D list initialized to 0's. Use list comprehension to do so. Output the list without formatting by using this simple for loop:\n",
    "\n",
    "    for row in arr:\n",
    "        print(Row)\n",
    "\n",
    "Then do the same for another 5x5 list of random 0's or 1's.\n",
    "\n",
    "Expected output:\n",
    "\n",
    "    [0, 0, 0, 0, 0]\n",
    "    [0, 0, 0, 0, 0]\n",
    "    [0, 0, 0, 0, 0]\n",
    "    [0, 0, 0, 0, 0]\n",
    "    [0, 0, 0, 0, 0]\n",
    "\n",
    "    [0, 0, 1, 0, 1]\n",
    "    [1, 1, 1, 1, 0]\n",
    "    [1, 1, 0, 0, 0]\n",
    "    [1, 0, 0, 0, 0]\n",
    "    [1, 0, 0, 0, 1]"
   ]
  },
  {
   "cell_type": "code",
   "execution_count": 2,
   "id": "8f2caf5a",
   "metadata": {},
   "outputs": [
    {
     "name": "stdout",
     "output_type": "stream",
     "text": [
      "[0, 0, 0, 0, 0]\n",
      "[0, 0, 0, 0, 0]\n",
      "[0, 0, 0, 0, 0]\n",
      "[0, 0, 0, 0, 0]\n",
      "[0, 0, 0, 0, 0]\n",
      "\n",
      "[0, 0, 0, 0, 0]\n",
      "[1, 0, 1, 0, 0]\n",
      "[1, 0, 1, 0, 1]\n",
      "[0, 1, 0, 0, 0]\n",
      "[0, 1, 0, 1, 0]\n"
     ]
    }
   ],
   "source": []
  },
  {
   "cell_type": "markdown",
   "id": "ebef5156",
   "metadata": {},
   "source": [
    "## Traversing a 2D List\n",
    "\n",
    "Now that we can create and initialize a 2D list to 0's, let's figure out how to traverse the list.\n",
    "\n",
    "We do so using nested for loops. The outermost for loop traverses the rows, while the innermost for loop traverses the columns. \n",
    "\n",
    "It's analagous to a clock: the outer for loop is the hours, and the inner for loop is the minutes. The  minutes for loop has to spin 60 times. Then the hour loop is incremented and the minutes loop restarts. Here's an example:\n",
    "\n",
    "    hour  minute\n",
    "    02    57   <-- inner minutes loop spins faster\n",
    "    02    58\n",
    "    02    59   <-- at the end of the loop, increment hours and reset\n",
    "    03    00\n",
    "    03    01\n",
    "    \n",
    "Typically we store the number of rows and columns in a 2D list as CONSTANTS, for easy reference.\n",
    "\n",
    "The format of the nested for loops is:\n",
    "\n",
    "    for r in range(ROWS):\n",
    "        for c in range(COLS):\n",
    "            # inside the loop, access the element with arr[r][c]\n",
    "\n",
    "## Exercise 23-2: Combination Hacker\n",
    "\n",
    "A certain combination lock has 2 dials, and each dial can only be the numbers 1-4. Write a program to enumerate all possible combinations. Use two nested for loops (one for each dial), each running 4 times. Expected output:\n",
    "\n",
    "    11\n",
    "    12\n",
    "    13\n",
    "    14\n",
    "    21\n",
    "    22\n",
    "    23\n",
    "    24\n",
    "    31\n",
    "    32\n",
    "    33\n",
    "    34\n",
    "    41\n",
    "    42\n",
    "    43\n",
    "    44"
   ]
  },
  {
   "cell_type": "code",
   "execution_count": 3,
   "id": "0b154094",
   "metadata": {},
   "outputs": [
    {
     "name": "stdout",
     "output_type": "stream",
     "text": [
      "11\n",
      "12\n",
      "13\n",
      "14\n",
      "21\n",
      "22\n",
      "23\n",
      "24\n",
      "31\n",
      "32\n",
      "33\n",
      "34\n",
      "41\n",
      "42\n",
      "43\n",
      "44\n"
     ]
    }
   ],
   "source": []
  },
  {
   "cell_type": "markdown",
   "id": "4eb5d16b",
   "metadata": {},
   "source": [
    "## Exercise 23-3: Write a Function to Print a Formatted 2D List\n",
    "\n",
    "You still have the 2D list 'arr' in memory from the code above.\n",
    "\n",
    "Write a function to print a formatted 2D list. Name your function 'print2D(). It will receive a 2D list as a parameter. It will have to step through the 2D list element by element and print them in a well-formatted table. **Make your field width 6 for good readability.** Use your print(f'{}') statements for this.\n",
    "\n",
    "Note you can't use the same simple for loop that we used in the code above, because that output is unformatted.\n",
    "\n",
    "Test your function by sending your 2D list of 0's to it and get the formatted output shown here:\n",
    "\n",
    "     0     0     0     0     0\n",
    "     0     0     0     0     0\n",
    "     0     0     0     0     0\n",
    "     0     0     0     0     0\n",
    "     0     0     0     0     0"
   ]
  },
  {
   "cell_type": "code",
   "execution_count": 4,
   "id": "9c2a3002",
   "metadata": {},
   "outputs": [
    {
     "name": "stdout",
     "output_type": "stream",
     "text": [
      "     0     0     0     0     0\n",
      "     0     0     0     0     0\n",
      "     0     0     0     0     0\n",
      "     0     0     0     0     0\n",
      "     0     0     0     0     0\n"
     ]
    }
   ],
   "source": []
  },
  {
   "cell_type": "markdown",
   "id": "4dc377b5",
   "metadata": {},
   "source": [
    "## Exercise 23-4: Write Randoms to File\n",
    "\n",
    "Write a program that will write 120 random integers in the range (10, 200) to an external file named 'data.txt'. Program 6-6 in the textbook might be a refresher."
   ]
  },
  {
   "cell_type": "code",
   "execution_count": 5,
   "id": "ea001a6e",
   "metadata": {},
   "outputs": [],
   "source": []
  },
  {
   "cell_type": "markdown",
   "id": "a6362328",
   "metadata": {},
   "source": [
    "## Exercise 23-5: Read External Values Into 2D List\n",
    "\n",
    "Write a program that reads the 120 integers in 'data.txt' and stores them in a 10x12 2D list. Program 6-7 in the textbook might be a refresher. Use your print2D() function to output the list. "
   ]
  },
  {
   "cell_type": "code",
   "execution_count": 6,
   "id": "81b3e0a4",
   "metadata": {},
   "outputs": [
    {
     "name": "stdout",
     "output_type": "stream",
     "text": [
      "   102    23   125   162    41   135    94   122    76   153    96   106\n",
      "    76    48   179   108   180    62    48   136   197   153    62   150\n",
      "    24    90    52    93   142   195   199   154   197    43    65    22\n",
      "    69   103   186    23   190   183    92   191   178    37   135    86\n",
      "   101   184    32    38   150    68   197    85    88    89    74    15\n",
      "    47   124   139    58    36   105    64    32    60   119    81    48\n",
      "    99   107    30    38    48    65    81    72    58    35   139   156\n",
      "   172   137    97   200    29    66   114   116    49   161   174   120\n",
      "   125   170   136    17   199    53    36   183   143    31   164   150\n",
      "    62   123    45   157   116   117   100   154   148   194   150    83\n"
     ]
    }
   ],
   "source": []
  },
  {
   "cell_type": "markdown",
   "id": "c31e424b",
   "metadata": {},
   "source": [
    "## Practical Application: Dog Trainer\n",
    "\n",
    "Suppose you're a dog trainer. You want to keep track of each dog's skill test scores. \n",
    "\n",
    "If you had one dog, the list might look like this: [88,92,68,50,100]\n",
    "\n",
    "Another dog's list might be: [95,94,77,90,87] and another's [100,100,50,88,98].\n",
    "\n",
    "If we stack these lists, the rows would represent which dog it is (perhaps it's Dog #0, Dog #1, or Dog #2 based on what row their data is on). The columns represent each individual dog's skill test scores. \n",
    "\n",
    "So the rows dimension is dogs; the column dimension is scores. Creating the 2D list looks like:\n",
    "\n",
    "     88   92   68   50  100\n",
    "     95   94   77   90   87\n",
    "    100  100   50   88   98\n",
    "\n",
    "We could sum the rows, sum the columns, total the whole list, etc.\n",
    "\n",
    "### Summing Rows\n",
    "\n",
    "Here's the sleekest way I know of summing the rows. We could code this manually, using an accumulator in that inner for loop. But this way is better and it does the trick in one line of code.\n",
    "\n",
    "    row_totals = [sum(r) for r in list]\n",
    "\n",
    "This returns a list and assigns it to 'row_totals'. \n",
    "\n",
    "The list comprehension says, \"for every row in list, use the sum() function on that row.\" We can use sum() here because since sum() takes a list as an argument, we can give the variable 'r' as that argument since 'r' represents one of the inner lists."
   ]
  },
  {
   "cell_type": "code",
   "execution_count": 7,
   "id": "edd80f49",
   "metadata": {},
   "outputs": [
    {
     "name": "stdout",
     "output_type": "stream",
     "text": [
      "    88    92    68    50   100\n",
      "    95    94    77    90    87\n",
      "   100   100    50    88    98\n",
      "\n",
      "Row 0 sum: 398\n",
      "Row 1 sum: 443\n",
      "Row 2 sum: 436\n"
     ]
    }
   ],
   "source": [
    "DOGS, TESTS = 3, 5\n",
    "def main():\n",
    "    dog1 = [88,92,68,50,100]\n",
    "    dog2 = [95,94,77,90,87]\n",
    "    dog3 = [100,100,50,88,98]\n",
    "    scores = [dog1, dog2, dog3]\n",
    "    print2D(scores)\n",
    "    \n",
    "    # calculate row sums\n",
    "    row_totals = [sum(r) for r in scores]\n",
    "    for i in range(DOGS):\n",
    "        print(f'Row {i} sum: {row_totals[i]}')\n",
    "\n",
    "def print2D(lst):\n",
    "    for row in lst:\n",
    "        for col in row:\n",
    "            print(f'{col:6d}', end='')\n",
    "        print()\n",
    "    print()\n",
    "    \n",
    "main()"
   ]
  },
  {
   "cell_type": "markdown",
   "id": "40097bec",
   "metadata": {},
   "source": [
    "### Summing Columns\n",
    "\n",
    "Summing columns is a bit tougher, so we use a little trick: we just reverse the traditional order of the indices 'row' and 'col' in the for loop structure. COL will come first, then ROW. We use an accumulator variable inside. It works, try it!"
   ]
  },
  {
   "cell_type": "code",
   "execution_count": 8,
   "id": "592924c2",
   "metadata": {},
   "outputs": [
    {
     "name": "stdout",
     "output_type": "stream",
     "text": [
      "    88    92    68    50   100\n",
      "    95    94    77    90    87\n",
      "   100   100    50    88    98\n",
      "\n",
      "Row 0 sum: 398\n",
      "Row 1 sum: 443\n",
      "Row 2 sum: 436\n",
      "\n",
      "Column 0 sum: 283\n",
      "Column 1 sum: 286\n",
      "Column 2 sum: 195\n",
      "Column 3 sum: 228\n",
      "Column 4 sum: 285\n"
     ]
    }
   ],
   "source": [
    "DOGS, TESTS = 3, 5\n",
    "def main():\n",
    "    dog1 = [88,92,68,50,100]\n",
    "    dog2 = [95,94,77,90,87]\n",
    "    dog3 = [100,100,50,88,98]\n",
    "    scores = [dog1, dog2, dog3]\n",
    "    print2D(scores)\n",
    "    \n",
    "    # calculate row sums\n",
    "    row_totals = [sum(r) for r in scores]\n",
    "    \n",
    "    # print row sums\n",
    "    for i in range(DOGS):\n",
    "        print(f'Row {i} sum: {row_totals[i]}')\n",
    "    print()\n",
    "\n",
    "    # calculate and print column sums\n",
    "    for t in range(TESTS):\n",
    "        col_sum = 0  \n",
    "        for d in range(DOGS):\n",
    "            col_sum += scores[d][t]\n",
    "        print(f'Column {t} sum: {col_sum}')\n",
    "\n",
    "def print2D(lst):\n",
    "    for row in lst:\n",
    "        for col in row:\n",
    "            print(f'{col:6d}', end='')\n",
    "        print()\n",
    "    print()\n",
    "    \n",
    "main()"
   ]
  },
  {
   "cell_type": "markdown",
   "id": "631053ae",
   "metadata": {},
   "source": [
    "## Exercise 23-6: Sum Rows & Columns\n",
    "\n",
    "First, using **list comprehension**, generate a 8x10 list of random values (range: 0, 500). We're not reading from the file for this exercise; we're using list comprehension that we looked at earlier.\n",
    "\n",
    "Output the list using your print2D() function.\n",
    "\n",
    "Then output the row and column sums. To do so, you will have had to have stored the sums in separate lists that you can now access. You already have code that will sum the rows; the syntax is (this is from the cell above):\n",
    "\n",
    "    row_totals = [sum(r) for r in scores]\n",
    "\n",
    "To **create the list of column sums**, first create a list of size COLS named 'sum_cols'. Then check out this code block:\n",
    "\n",
    "    # calculate column sums\n",
    "    for c in range(COLS):\n",
    "        for r in range(ROWS):\n",
    "            sum_cols[c] += arr[r][c]\n",
    "\n",
    "\n",
    "Output these two lists in this format. Note that there are only 10 rows, so the last two fields on that 'Row sum' row are empty:\n",
    "\n",
    "                0    1    2    3    4    5    6    7    8    9   10   11\n",
    "    Row sum: 1397 1449 1477 1304 1034 1100 1129 1049 1122  954\n",
    "    Col sum: 1094  668 1091  970  950  895 1107 1052 1012  984 1326  866\n",
    "\n",
    "Then calculate and output statistics:\n",
    "\n",
    "    ***STATISTICS***\n",
    "        Grand total: 12015\n",
    "        Average value: 100.125\n",
    "        Max value: 186\n",
    "        Min value: 18\n",
    "\n",
    "**max(lst)** is a function that will **return the maximum element** in the list 'lst'. Experiment with **nesting this function** in order to return the maximum value from the 2D list. Also code minimum. \n",
    "\n",
    "Sample output:\n",
    "\n",
    "       182   278    66   312   175   268    30   460     9   380\n",
    "       148   490   171   390   237   269   370   184   221   320\n",
    "       361    92   175   288   117   240   343   238    39   459\n",
    "       252   361   385   388   351   299   297   450   190    73\n",
    "       348   302   247   489   427   146   293    39   288   336\n",
    "       482   209    57   267   409    57   177   163   462   358\n",
    "       309   373   326   388   408   181   196   355   199   432\n",
    "        12   227   268   259    80    73   262   374   339   460\n",
    "\n",
    "                0    1    2    3    4    5    6    7    8    9\n",
    "    Row sum: 2160 2800 2352 3046 2915 2641 3167 2354\n",
    "    Col sum: 2094 2332 1695 2781 2204 1533 1968 2263 1747 2818\n",
    "\n",
    "    ***STATISTICS***\n",
    "    Grand total: 21435\n",
    "    Average value: 267.9375\n",
    "    Max value: 482\n",
    "    Min value: 12"
   ]
  },
  {
   "cell_type": "code",
   "execution_count": 9,
   "id": "5813a2e0",
   "metadata": {},
   "outputs": [
    {
     "name": "stdout",
     "output_type": "stream",
     "text": [
      "   133   367   410   476    74    41    83   492   104    99\n",
      "   196   423   487   185   480   370    94   415    89   431\n",
      "   419   282    64    17    80   356   344   319   429   179\n",
      "   434   349   429    98   110   193   178    61    90   195\n",
      "    66   388   113   108   227   236   190   142   321   434\n",
      "    86   290   438   434   120   145   178   171   203   262\n",
      "   158   197     4   312    11   335   310    53   431   207\n",
      "   455   465   315   386    15   443   241   456   289   164\n",
      "\n",
      "            0    1    2    3    4    5    6    7    8    9\n",
      "Row sum: 2279 3170 2489 2137 2225 2327 2018 3229\n",
      "Col sum: 1947 2761 2260 2016 1117 2119 1618 2109 1956 1971\n",
      "\n",
      "***STATISTICS***\n",
      "Grand total: 19874\n",
      "Average value: 248.425\n",
      "Max value: 465\n",
      "Min value: 66\n"
     ]
    }
   ],
   "source": []
  }
 ],
 "metadata": {
  "kernelspec": {
   "display_name": "Python 3",
   "language": "python",
   "name": "python3"
  },
  "language_info": {
   "codemirror_mode": {
    "name": "ipython",
    "version": 3
   },
   "file_extension": ".py",
   "mimetype": "text/x-python",
   "name": "python",
   "nbconvert_exporter": "python",
   "pygments_lexer": "ipython3",
   "version": "3.8.8"
  }
 },
 "nbformat": 4,
 "nbformat_minor": 5
}
