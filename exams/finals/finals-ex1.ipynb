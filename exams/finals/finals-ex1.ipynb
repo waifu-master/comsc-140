{
 "cells": [
  {
   "cell_type": "code",
   "execution_count": 5,
   "metadata": {},
   "outputs": [
    {
     "name": "stdout",
     "output_type": "stream",
     "text": [
      "-------------------------\n",
      "DICT STRUCTURE\n",
      "-------------------------\n",
      "Week  Staff\n",
      "  12  Joe\n",
      "  13  Jane\n",
      "  14  Jeff\n",
      "  15  Jess\n",
      "  16  Jett\n",
      "-------------------------\n",
      "LIST STRUCTURE\n",
      "-------------------------\n",
      "Week  Staff\n",
      "  12  Joe\n",
      "  13  Jane\n",
      "  14  Jeff\n",
      "  15  Jess\n",
      "  16  Jett\n",
      "-------------------------\n",
      "TUPLE STRUCTURE\n",
      "-------------------------\n",
      "Week  Staff\n",
      "  12  Joe\n",
      "  13  Jane\n",
      "  14  Jeff\n",
      "  15  Jess\n",
      "  16  Jett\n"
     ]
    }
   ],
   "source": [
    "def output_schedule(schedule: dict[int, str]):\n",
    "    '''Outputs the staff schedule where the keys are weeks & values are staff names'''\n",
    "    print('Week  Staff')\n",
    "    for week in schedule:\n",
    "        print(f'{week:>4}  {schedule[week]}')\n",
    "\n",
    "def output_lists(weeks: list[int], staff: list[str]) -> None:\n",
    "    '''Outputs the parallel lists of weeks & staff'''\n",
    "    if (len(weeks) != len(staff)):\n",
    "        return # exit if not matching\n",
    "    \n",
    "    print('Week  Staff')\n",
    "    for i in range(len(weeks)):\n",
    "        print(f'{weeks[i]:>4}  {staff[i]}')\n",
    "\n",
    "def output_tuples(weeks, staff) -> None:\n",
    "    '''Outputs the parallel tuples of weeks & staff'''\n",
    "    if (len(weeks) != len(staff)):\n",
    "        return # exit if not matching\n",
    "    \n",
    "    print('Week  Staff')\n",
    "    for i in range(len(weeks)):\n",
    "        print(f'{weeks[i]:>4}  {staff[i]}')\n",
    "\n",
    "def main():\n",
    "    '''Entry point of the program'''\n",
    "    a1, a2, a3, a4, a5 = 12, 13, 14, 15, 16 # week no\n",
    "    b1, b2, b3, b4, b5 = 'Joe', 'Jane', 'Jeff', 'Jess', 'Jett' # staff name\n",
    "    \n",
    "    # dict, keys are weeks & values are staff\n",
    "    print('-' * 25) # limiter\n",
    "    print('DICT STRUCTURE')\n",
    "    print('-' * 25) # limiter\n",
    "    output_schedule({a1:b1, a2:b2, a3:b3, a4:b4, a5:b5})\n",
    "    print('-' * 25) # limiter\n",
    "\n",
    "    # list\n",
    "    print('LIST STRUCTURE')\n",
    "    print('-' * 25) # limiter\n",
    "    output_lists([a1, a2, a3, a4, a5], [b1, b2, b3, b4, b5])\n",
    "    print('-' * 25) # limiter\n",
    "\n",
    "    # tuple\n",
    "    print('TUPLE STRUCTURE')\n",
    "    print('-' * 25) # limiter\n",
    "    output_tuples((a1, a2, a3, a4, a5), (b1, b2, b3, b4, b5))\n",
    "\n",
    "main()"
   ]
  }
 ],
 "metadata": {
  "kernelspec": {
   "display_name": "base",
   "language": "python",
   "name": "python3"
  },
  "language_info": {
   "codemirror_mode": {
    "name": "ipython",
    "version": 3
   },
   "file_extension": ".py",
   "mimetype": "text/x-python",
   "name": "python",
   "nbconvert_exporter": "python",
   "pygments_lexer": "ipython3",
   "version": "3.9.13"
  },
  "orig_nbformat": 4
 },
 "nbformat": 4,
 "nbformat_minor": 2
}
