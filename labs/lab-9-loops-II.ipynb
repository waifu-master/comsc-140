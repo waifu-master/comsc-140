{
 "cells": [
  {
   "cell_type": "markdown",
   "id": "e129c432",
   "metadata": {},
   "source": [
    "# Lab 9: Calculator using a Y/N value\n",
    "\n",
    "## Exercise 9-1\n",
    "\n",
    "Alter your program from Lab 8 such that no longer uses a sentinel value; it insteads uses a Y/N response from the user to determine if the user wants to stop entering values. The user enters a Y or N in response to a question if they have additional entries to enter. In your prompts, make sure you tell the user exactly what's expected to be entered. See my output below for an example.\n",
    "\n",
    "Use an accumulator variable as necessary to store the running total.\n",
    "\n",
    "Use augmented assignment operators.\n",
    "\n",
    "Use either .lower() or .upper() to convert the user's input to upper/lowercase. Then your while loop only needs to test against one case like this: while(choice == 'y')  This will simplify how complex your while loop header needs to be.\n",
    "\n",
    "Use the tab character to indent your output accordingly: \\t\n",
    "\n",
    "### Sample Output\n",
    "\n",
    "    Please enter a value: 13\n",
    "        Do you have more values to enter? Y/N: y\n",
    "    Please enter a value: 13\n",
    "        Do you have more values to enter? Y/N: y\n",
    "    Please enter a value: 16\n",
    "        Do you have more values to enter? Y/N: y\n",
    "    Please enter a value: 45\n",
    "        Do you have more values to enter? Y/N: n\n",
    "    The sum is: 87"
   ]
  },
  {
   "cell_type": "code",
   "execution_count": null,
   "id": "095ade1e",
   "metadata": {},
   "outputs": [],
   "source": []
  },
  {
   "cell_type": "markdown",
   "id": "4bac2b8f",
   "metadata": {},
   "source": [
    "## Exercise 9-2: Calculator using input validation\n",
    "\n",
    "Take your code and add to it. Add an additional input validation loop (a while loop) to enforce the user entering Yy/Nn when being asked to continue. You must convert the user's input into either uppercase or lowercase with .upper() or .lower(), and test against either uppercase or lowercase.\n",
    "\n",
    "### Sample Output\n",
    "\n",
    "    Please enter a value: 13\n",
    "        Do you have more values to enter? Y/N: y\n",
    "    Please enter a value: 14\n",
    "        Do you have more values to enter? Y/N: u\n",
    "        ERROR: Y/N only: u                        <-- note the input validation here\n",
    "        ERROR: Y/N only: u                        <-- only Y/y/N/n are accepted\n",
    "        ERROR: Y/N only: y\n",
    "    Please enter a value: 15\n",
    "        Do you have more values to enter? Y/N: n\n",
    "    The sum is: 42"
   ]
  },
  {
   "cell_type": "code",
   "execution_count": null,
   "id": "f836d183",
   "metadata": {},
   "outputs": [],
   "source": []
  }
 ],
 "metadata": {
  "kernelspec": {
   "display_name": "Python 3",
   "language": "python",
   "name": "python3"
  },
  "language_info": {
   "codemirror_mode": {
    "name": "ipython",
    "version": 3
   },
   "file_extension": ".py",
   "mimetype": "text/x-python",
   "name": "python",
   "nbconvert_exporter": "python",
   "pygments_lexer": "ipython3",
   "version": "3.8.8"
  }
 },
 "nbformat": 4,
 "nbformat_minor": 5
}
