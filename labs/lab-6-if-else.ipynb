{
 "cells": [
  {
   "cell_type": "markdown",
   "id": "33339c34",
   "metadata": {},
   "source": [
    "# Lab 6: If/else and nested if/else\n",
    "\n",
    "\n",
    "## Exercise 6-1: Rectangle Areas\n",
    "\n",
    "This program will output which of two rectangles has the greatest area.\n",
    "\n",
    "The area of a rectangle is length times width. Have the user enter the length and width of two different rectangles. Output which rectangle has the greater area _or if they have the same area_.\n",
    "\n",
    "### Sample Output\n",
    "\n",
    "    Enter the dimensions of 2 rectangles, and I'll calculate which one\n",
    "    has the greater area.\n",
    "\n",
    "    RECTANGLE ONE:\n",
    "    Length: 13.6\n",
    "    Width: 42.1\n",
    "\n",
    "    RECTANGLE TWO:\n",
    "    Length: 54.32\n",
    "    Width: 11.9\n",
    "\n",
    "    Results: Rectangle 2 has the greater area: 646.4 vs. 572.6\n",
    "\n",
    "BEFORE YOU START: think what the step-by-step process would be to code this problem. Place each step you create in your program as a comment. This provides a coding framework for you.\n",
    "\n",
    "See the example below. This problem has these distinct steps:\n",
    "\n",
    "    -- introduction\n",
    "    -- obtain input for rectangle one\n",
    "    -- obtain input for rectangle two\n",
    "    -- calculate areas\n",
    "    -- determine which is larger and output results\n",
    "\n",
    "Code in the proper code blocks. Each code block has a comment above it, introducing what the code block does."
   ]
  },
  {
   "cell_type": "code",
   "execution_count": 1,
   "id": "26e7fa3a",
   "metadata": {},
   "outputs": [
    {
     "name": "stdout",
     "output_type": "stream",
     "text": [
      "Enter the dimensions of 2 rectangles, and the program will tell you which one has a larger area\n",
      "\n",
      "RECTANGLE ONE:\n",
      "Length: 10.0\n",
      "Width:  20.0\n",
      "\n",
      "RECTANGLE TWO:\n",
      "Length: 33.3333\n",
      "Width:  44.4444\n",
      "\n",
      "RESULTS: Rectangle 2 has the greater area: 1481.47851852 vs 200.0\n"
     ]
    }
   ],
   "source": [
    "# introduction\n",
    "print(\"Enter the dimensions of 2 rectangles, and the program will tell you which one has a larger area\")\n",
    "\n",
    "# input first rectangle dimensions\n",
    "print(\"\\nRECTANGLE ONE:\")\n",
    "length1 = float(input(\"Length:\"))\n",
    "print(\"Length:\", length1)\n",
    "width1 = float(input(\"Width\"))\n",
    "print(\"Width: \", width1)\n",
    "\n",
    "# input second rectangle dimensions\n",
    "print(\"\\nRECTANGLE TWO:\")\n",
    "length2 = float(input(\"Length:\"))\n",
    "print(\"Length:\", length2)\n",
    "width2 = float(input(\"Width\"))\n",
    "print(\"Width: \", width2)\n",
    "\n",
    "# calculate area of each rectangle & show results\n",
    "area1 = length1 * width1\n",
    "area2 = length2 * width2\n",
    "bigger = 1\n",
    "if area2 > area1:\n",
    "    bigger = 2\n",
    "\n",
    "# print the results\n",
    "if bigger == 1:\n",
    "    print(\"\\nRESULTS: Rectangle\", bigger, \"has the greater area:\", area1, \"vs\", area2)\n",
    "elif bigger == 2:\n",
    "    print(\"\\nRESULTS: Rectangle\", bigger, \"has the greater area:\", area2, \"vs\", area1)"
   ]
  },
  {
   "cell_type": "markdown",
   "id": "4176e461",
   "metadata": {},
   "source": [
    "## Exercise 6-2: Alphabetize Names\n",
    "\n",
    "This program will alphabetize two names that the user provides.\n",
    "\n",
    "Write a program that asks the user to enter two first names. Use getline() for this input and not cin >>, because the cin object will only read up to the first whitespace. This means a first name like \"Daisy Mae\" wouldn't get read properly.\n",
    "\n",
    "Display those names in alphabetical order, or output that the names are the same.\n",
    "\n",
    "### Output Format Examples\n",
    "\n",
    "Here are three different output examples.\n",
    "\n",
    "    Enter two first names and I'll sort them.\n",
    "    Name #1: Joe\n",
    "    Name #2: Jane\n",
    "    Alphabetized: Jane Joe\n",
    "    Program ending.\n",
    "\n",
    "    Enter two first names and I'll sort them.\n",
    "    Name #1: Joe\n",
    "    Name #2: Joe\n",
    "    These names are the same.\n",
    "    Program ending.\n",
    "\n",
    "    Enter two first names and I'll sort them.\n",
    "    Name #1: Jack\n",
    "    Name #2: Jung\n",
    "    Alphabetized: Jack Jung\n",
    "    Program ending.\n",
    "\n",
    "Code block suggestions:\n",
    "\n",
    "    # introduction\n",
    "    \n",
    "    # obtain names from user\n",
    "    \n",
    "    # determine the sorted order and output results"
   ]
  },
  {
   "cell_type": "code",
   "execution_count": 3,
   "id": "bb25d558",
   "metadata": {},
   "outputs": [
    {
     "name": "stdout",
     "output_type": "stream",
     "text": [
      "Enter two first names and I'll sort them\n",
      "Name #1: zendaya\n",
      "Name #2: tom\n",
      "Alphabetized: tom zendaya\n",
      "Program ending\n"
     ]
    }
   ],
   "source": [
    "# introduction\n",
    "msg = \"Enter two first names and I'll sort them\"\n",
    "print(msg)\n",
    "\n",
    "# user input\n",
    "msg = \"Name #1:\"\n",
    "name_1 = input(msg)\n",
    "print(msg, name_1)\n",
    "\n",
    "msg = \"Name #2:\"\n",
    "name_2 = input(msg)\n",
    "print(msg, name_2)\n",
    "\n",
    "# sort names & output\n",
    "sorted = name_1 + \" \" + name_2 # assume name 1 is first, then flip if necessary\n",
    "if name_2 < name_1:\n",
    "    sorted = name_2 + \" \" + name_1\n",
    "print(\"Alphabetized:\", sorted)\n",
    "print(\"Program ending\")\n"
   ]
  },
  {
   "cell_type": "markdown",
   "id": "c1e6c63d",
   "metadata": {},
   "source": [
    "## Exercise 6-3: Nested if/else\n",
    "\n",
    "Implement this problem. \n",
    "\n",
    "Ask the user if they prefer Windows or Mac. \n",
    "\n",
    "If they prefer Windows, ask them if they think Windows 11 sucks more or less than Windows 10. If more, output \"Word.\" If less, output \"Peace.\"\n",
    "\n",
    "If they prefer Macs, ask them which is more superior, Mac OS 13 or Mac OS 12. If 13, output \"Chill.\" if 12, output \"Groovy.\""
   ]
  },
  {
   "cell_type": "code",
   "execution_count": 4,
   "id": "c54997b7",
   "metadata": {},
   "outputs": [
    {
     "name": "stdout",
     "output_type": "stream",
     "text": [
      "Do you prefer Windows or Mac? [w/m]: w\n",
      "Does Windows 11 suck more or less than Windows 10? [m/l] m\n",
      "Word.\n"
     ]
    }
   ],
   "source": [
    "msg = \"Do you prefer Windows or Mac? [w/m]:\"\n",
    "os_pref = input(msg)\n",
    "print(msg, os_pref)\n",
    "\n",
    "if os_pref == \"w\":\n",
    "    msg = \"Does Windows 11 suck more or less than Windows 10? [m/l]\"\n",
    "    os_pref = input(msg)\n",
    "    print(msg, os_pref)\n",
    "    if os_pref == \"m\":\n",
    "        print(\"Word.\")\n",
    "    elif os_pref == \"l\":\n",
    "        print(\"Peace.\")\n",
    "\n",
    "elif os_pref == \"m\":    \n",
    "    msg = \"Which one is superior, Mac OS 13 or 12? [13/12]\"\n",
    "    os_pref = int(input(msg))\n",
    "    print(msg, os_pref)\n",
    "    if os_pref == 13:\n",
    "        print(\"Chill.\")\n",
    "    elif os_pref == 12:\n",
    "        print(\"Groovy.\")"
   ]
  }
 ],
 "metadata": {
  "kernelspec": {
   "display_name": "base",
   "language": "python",
   "name": "python3"
  },
  "language_info": {
   "codemirror_mode": {
    "name": "ipython",
    "version": 3
   },
   "file_extension": ".py",
   "mimetype": "text/x-python",
   "name": "python",
   "nbconvert_exporter": "python",
   "pygments_lexer": "ipython3",
   "version": "3.9.13"
  },
  "vscode": {
   "interpreter": {
    "hash": "136f7659ec1489f5ebdb35c5f2966560ff09dbc7850cb17af6c2b1b671121bd9"
   }
  }
 },
 "nbformat": 4,
 "nbformat_minor": 5
}
