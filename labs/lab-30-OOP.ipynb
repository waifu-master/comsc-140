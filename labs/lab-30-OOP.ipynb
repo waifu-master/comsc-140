{
 "cells": [
  {
   "cell_type": "markdown",
   "id": "a24a0845",
   "metadata": {},
   "source": [
    "# Lab 30: Object-Oriented Programming\n",
    "\n",
    "First, read sections 10.1 through 10.3 of the book, and watch my video, or this won't make any sense to you.\n",
    "\n",
    "## Creating a Goat class\n",
    "\n",
    "Create a class that will represent a goat. Name the class 'Goat' and code these three attributes: name, age, and color.\n",
    "\n",
    "Your \\_\\_init\\_\\_ function should receive three variables (n, a, c) and set these to the attributes name, age, and color respectively. See Program 10-7 in the book for an example of how the \\_\\_init\\_\\_ function can receve a parameter.\n",
    "\n",
    "Create one class method, birthday(), which will perform these tasks:\n",
    "\n",
    "1. Increment the goat's age\n",
    "2. Print \"Happy Birthday, <name>\" as well as the goat's new age.\n",
    "    \n",
    "In your main program, create one goat object (remember to provide the three pieces of data that the \\_\\_init\\_\\_ methods needs as the constructor), and call the birthday() method on it.\n",
    "\n",
    "Sample output:\n",
    "\n",
    "    Happy Birthday, Joe! You're now 11!"
   ]
  },
  {
   "cell_type": "code",
   "execution_count": null,
   "id": "3ab842bb",
   "metadata": {},
   "outputs": [],
   "source": []
  },
  {
   "cell_type": "markdown",
   "id": "c8f6b3ad",
   "metadata": {},
   "source": [
    "## Adding the \\_\\_str\\_\\_ method\n",
    "\n",
    "Add the \\_\\_str\\_\\_ method now that will custom output the object data in a format you prescribe. Remember that the \\_\\_str\\_\\_ method will return a string, and that string is what's printed when the method is called. Make your string return the object data in this format:\n",
    "\n",
    "    Joe (11) [Blue]\n",
    "\n",
    "In your main program you may call the \\_\\_str\\_\\_ method by simply printing your object: print(goat1) for example.\n",
    "\n",
    "Also, in your main program, create a second Goat object, and output that as well.\n",
    "\n",
    "Sample output:\n",
    "\n",
    "    Happy Birthday, Joe! You're now 11!\n",
    "    Joe (11) [Blue]\n",
    "    Jen (4) [Red]"
   ]
  },
  {
   "cell_type": "code",
   "execution_count": null,
   "id": "153cb4ed",
   "metadata": {},
   "outputs": [],
   "source": []
  },
  {
   "cell_type": "markdown",
   "id": "7e54026d",
   "metadata": {},
   "source": [
    "## Protecting Object Data With Private Attributes\n",
    "\n",
    "One issue with our code is that our object data is not protected. If I tried to print a goat's name in the main() function, which is completely apart from the class, I could do that with this statement inside main():\n",
    "\n",
    "    print(goat1.name)\n",
    "\n",
    "Try adding this to your previous code, and see how you can get a goat's name output in your main function. The problem is that the object data can be directly accessed by code outside of the class (meaning in our main function). This is a violation of the data encapsulation principles of object oriented printing.\n",
    "\n",
    "Let's fix this now. \n",
    "\n",
    "Change your code now so the attributes are hidden (see page 532). We do this by putting two underscores in front of our data attributes in the \\_\\_init\\_\\_ method and in front of all other references to those attributes.\n",
    "\n",
    "After you've changed your attributes names, try adding the print(goat1.name) code to your program, and this time see the AttributeError being thrown. "
   ]
  },
  {
   "cell_type": "code",
   "execution_count": null,
   "id": "a52f7747",
   "metadata": {},
   "outputs": [],
   "source": []
  },
  {
   "cell_type": "markdown",
   "id": "53a71c32",
   "metadata": {},
   "source": [
    "## Accessing Protected Attribute Data With Setters and Getters\n",
    "\n",
    "Now that our data is properly protected and hidden from code outside the class, the only way to access it is by creating setters and getters. See page 547 and Program 10-12.\n",
    "\n",
    "Create new class methods for these setters and getters. Each attribute needs its own setter and getter.\n",
    "\n",
    "To show the setters and getters in action, code these tasks in your main program:\n",
    "\n",
    "1. Output both objects' data (using print())\n",
    "2. Change the name, age, and color of each goat using a setter\n",
    "3. Output both objects' data again to verify the changes were made\n",
    "4. Output just each goat's name using the getter for goat_name\n",
    "\n",
    "Sample output:\n",
    "\n",
    "    Happy Birthday, Joe! You're now 11!\n",
    "    Joe (11) [Blue]\n",
    "    Jen (4) [Red]\n",
    "    Frank (15) [Black]\n",
    "    Francine (22) [Brown]\n",
    "    Frank\n",
    "    Francine"
   ]
  },
  {
   "cell_type": "code",
   "execution_count": null,
   "id": "c433b8ae",
   "metadata": {},
   "outputs": [],
   "source": []
  },
  {
   "cell_type": "markdown",
   "id": "492042f3",
   "metadata": {},
   "source": [
    "## Lists of Objects\n",
    "\n",
    "Let's create a list of Goat objects now. This will follow Program 10-14 in the book.\n",
    "\n",
    "The pseudocode for this will be:\n",
    "\n",
    "    create an empty list\n",
    "    in a loop running x times:\n",
    "        obtain object data from the console or from a file\n",
    "        create a temporary object\n",
    "        append that object to the list\n",
    "    output the list contents in a loop\n",
    "\n",
    "Create a list of 3 goat objects. Create an external file 'goats.txt' with this data in it:\n",
    "\n",
    "    Joe\n",
    "    15\n",
    "    Black\n",
    "    Jane\n",
    "    19\n",
    "    Brown\n",
    "    Jeff\n",
    "    2\n",
    "    Beige\n",
    "\n",
    "Have your program read the goat data from this external file. Create your trip of goat objects. Output the list using a loop and using the native \\_\\_str\\_\\_ method.\n",
    "\n",
    "#### Fun Fact:\n",
    "A collection of goats is called a 'trip'. Use this to name your list.\n",
    "\n",
    "Sample output:\n",
    "\n",
    "    Joe (15) [Black]\n",
    "    Jane (19) [Brown]\n",
    "    Jeff (2) [Beige]"
   ]
  },
  {
   "cell_type": "code",
   "execution_count": null,
   "id": "8f63d358",
   "metadata": {},
   "outputs": [],
   "source": []
  },
  {
   "cell_type": "markdown",
   "id": "118dadf0",
   "metadata": {},
   "source": [
    "Now add a bit of functionality: in a loop, celebrate a birthday for a goat if it's an even index number in the list.\n",
    "\n",
    "Output the original goat trip, then celebrate birthdays, then output the goat trip again to see the birthday differences.\n",
    "\n",
    "Sample output:\n",
    "\n",
    "    Joe (15) [Black]\n",
    "    Jane (19) [Brown]\n",
    "    Jeff (2) [Beige]\n",
    "    Happy Birthday, Joe! You're now 16!\n",
    "    Happy Birthday, Jeff! You're now 3!\n",
    "    Joe (16) [Black]\n",
    "    Jane (19) [Brown]\n",
    "    Jeff (3) [Beige]"
   ]
  },
  {
   "cell_type": "code",
   "execution_count": null,
   "id": "4493b791",
   "metadata": {},
   "outputs": [],
   "source": []
  }
 ],
 "metadata": {
  "kernelspec": {
   "display_name": "Python 3",
   "language": "python",
   "name": "python3"
  },
  "language_info": {
   "codemirror_mode": {
    "name": "ipython",
    "version": 3
   },
   "file_extension": ".py",
   "mimetype": "text/x-python",
   "name": "python",
   "nbconvert_exporter": "python",
   "pygments_lexer": "ipython3",
   "version": "3.8.8"
  }
 },
 "nbformat": 4,
 "nbformat_minor": 5
}
