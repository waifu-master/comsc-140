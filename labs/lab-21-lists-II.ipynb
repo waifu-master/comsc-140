{
 "cells": [
  {
   "cell_type": "markdown",
   "id": "13adf346",
   "metadata": {},
   "source": [
    "# Lab 21: List Functions and Methods\n",
    "\n",
    "#### First, read sections 7.5 and 7.6 of the textbook before proceeding with this lab.\n",
    "\n",
    "## Adding a list element: list.append()\n",
    "\n",
    "Lists can grow in size and don't always have to be initialized to a certain size. You can create an empty list, and simply append elements to it. This makes the size of the list grow as needed. Remember that len(list) will always return the list's current size.\n",
    "\n",
    "This code will append SIZE random numbers to a list."
   ]
  },
  {
   "cell_type": "code",
   "execution_count": 1,
   "id": "7e425f1c",
   "metadata": {},
   "outputs": [
    {
     "name": "stdout",
     "output_type": "stream",
     "text": [
      "[12, 18, 14, 13, 11, 29, 48, 38, 25, 41, 38, 49, 10, 48, 34, 15, 27, 39, 34, 36]\n"
     ]
    }
   ],
   "source": [
    "import random\n",
    "SIZE = 20\n",
    "numbers = []   # create the empty list\n",
    "for i in range(SIZE):\n",
    "    numbers.append(random.randint(10,50))\n",
    "print(numbers)"
   ]
  },
  {
   "cell_type": "markdown",
   "id": "365d4623",
   "metadata": {},
   "source": [
    "## 21-1 ==================\n",
    "\n",
    "A string behaves like a list. If we have a string 'name' containing 'Jennifer', we can actually reference individual letters through list indexing. name[0] refers to 'J', name[i] refers to 'e', and so forth. Try this code below to demonstrate this behavior."
   ]
  },
  {
   "cell_type": "code",
   "execution_count": 2,
   "id": "bb0026e2",
   "metadata": {},
   "outputs": [
    {
     "name": "stdout",
     "output_type": "stream",
     "text": [
      "J   e   n   n   i   f   e   r   "
     ]
    }
   ],
   "source": [
    "name = 'Jennifer'\n",
    "for i in range(len(name)):\n",
    "    print(name[i], '  ', end='')"
   ]
  },
  {
   "cell_type": "markdown",
   "id": "86d75586",
   "metadata": {},
   "source": [
    "Write a program that will randomly select ten (use a constant) letters from the string 'letters' below, and store them in their own list. Output the list natively for confirmation. Sample output:\n",
    "\n",
    "    ['v', 'i', 'q', 'z', 'd', 'd', 'b', 'o', 'n', 'm']"
   ]
  },
  {
   "cell_type": "code",
   "execution_count": 3,
   "id": "81b5f1ba",
   "metadata": {},
   "outputs": [],
   "source": [
    "# run this statement first\n",
    "letters = 'abcdefghijklmnopqrstuvwxyz'"
   ]
  },
  {
   "cell_type": "code",
   "execution_count": 4,
   "id": "228add60",
   "metadata": {},
   "outputs": [
    {
     "name": "stdout",
     "output_type": "stream",
     "text": [
      "['a', 'o', 'a', 'n', 'j', 't', 'x', 'g', 'a', 'c']\n"
     ]
    }
   ],
   "source": [
    "# code in this cell\n"
   ]
  },
  {
   "cell_type": "markdown",
   "id": "40cc414f",
   "metadata": {},
   "source": [
    "## Removing a List Element: list.remove(item)\n",
    "\n",
    "Remove an element with list.remove(item), where 'item' is the element to be removed...not the index number, the element. This method will then remove the FIRST INSTANCE of 'item' that it finds in the list. \n",
    "\n",
    "Here's a list of values. Let's remove the first instance of 12:"
   ]
  },
  {
   "cell_type": "code",
   "execution_count": 5,
   "id": "7a79164e",
   "metadata": {},
   "outputs": [
    {
     "name": "stdout",
     "output_type": "stream",
     "text": [
      "[12, 23, 34, 45, 56, 56, 67, 78, 89, 97, 86, 75, 64, 53, 42, 31, 20, 12]\n",
      "[23, 34, 45, 56, 56, 67, 78, 89, 97, 86, 75, 64, 53, 42, 31, 20, 12]\n"
     ]
    }
   ],
   "source": [
    "values = [12,23,34,45,56,56,67,78,89,97,86,75,64,53,42,31,20,12]\n",
    "print(values)\n",
    "values.remove(12)\n",
    "print(values)"
   ]
  },
  {
   "cell_type": "markdown",
   "id": "802f810c",
   "metadata": {},
   "source": [
    "## Confirming if a List Contains an Item: list.count()\n",
    "\n",
    "If we try removing an item that's not in the list. we get an error message back from the Python interpreter. A common practice is to use list.count() first to confirm the existance of the item in the list. If the count comes back as 1 or greater, we know there's at least one of those items in the list. We place a guard against the error this way.\n",
    "\n",
    "Run this code to see the error:"
   ]
  },
  {
   "cell_type": "code",
   "execution_count": 6,
   "id": "d25fd5d2",
   "metadata": {},
   "outputs": [
    {
     "name": "stdout",
     "output_type": "stream",
     "text": [
      "[12, 23, 34, 45, 56, 56, 67, 78, 89, 97, 86, 75, 64, 53, 42, 31, 20, 12]\n"
     ]
    },
    {
     "ename": "ValueError",
     "evalue": "list.remove(x): x not in list",
     "output_type": "error",
     "traceback": [
      "\u001b[1;31m---------------------------------------------------------------------------\u001b[0m",
      "\u001b[1;31mValueError\u001b[0m                                Traceback (most recent call last)",
      "\u001b[1;32m<ipython-input-6-c77f18a2a33d>\u001b[0m in \u001b[0;36m<module>\u001b[1;34m\u001b[0m\n\u001b[0;32m      1\u001b[0m \u001b[0mvalues\u001b[0m \u001b[1;33m=\u001b[0m \u001b[1;33m[\u001b[0m\u001b[1;36m12\u001b[0m\u001b[1;33m,\u001b[0m\u001b[1;36m23\u001b[0m\u001b[1;33m,\u001b[0m\u001b[1;36m34\u001b[0m\u001b[1;33m,\u001b[0m\u001b[1;36m45\u001b[0m\u001b[1;33m,\u001b[0m\u001b[1;36m56\u001b[0m\u001b[1;33m,\u001b[0m\u001b[1;36m56\u001b[0m\u001b[1;33m,\u001b[0m\u001b[1;36m67\u001b[0m\u001b[1;33m,\u001b[0m\u001b[1;36m78\u001b[0m\u001b[1;33m,\u001b[0m\u001b[1;36m89\u001b[0m\u001b[1;33m,\u001b[0m\u001b[1;36m97\u001b[0m\u001b[1;33m,\u001b[0m\u001b[1;36m86\u001b[0m\u001b[1;33m,\u001b[0m\u001b[1;36m75\u001b[0m\u001b[1;33m,\u001b[0m\u001b[1;36m64\u001b[0m\u001b[1;33m,\u001b[0m\u001b[1;36m53\u001b[0m\u001b[1;33m,\u001b[0m\u001b[1;36m42\u001b[0m\u001b[1;33m,\u001b[0m\u001b[1;36m31\u001b[0m\u001b[1;33m,\u001b[0m\u001b[1;36m20\u001b[0m\u001b[1;33m,\u001b[0m\u001b[1;36m12\u001b[0m\u001b[1;33m]\u001b[0m\u001b[1;33m\u001b[0m\u001b[1;33m\u001b[0m\u001b[0m\n\u001b[0;32m      2\u001b[0m \u001b[0mprint\u001b[0m\u001b[1;33m(\u001b[0m\u001b[0mvalues\u001b[0m\u001b[1;33m)\u001b[0m\u001b[1;33m\u001b[0m\u001b[1;33m\u001b[0m\u001b[0m\n\u001b[1;32m----> 3\u001b[1;33m \u001b[0mvalues\u001b[0m\u001b[1;33m.\u001b[0m\u001b[0mremove\u001b[0m\u001b[1;33m(\u001b[0m\u001b[1;36m999\u001b[0m\u001b[1;33m)\u001b[0m\u001b[1;33m\u001b[0m\u001b[1;33m\u001b[0m\u001b[0m\n\u001b[0m\u001b[0;32m      4\u001b[0m \u001b[0mprint\u001b[0m\u001b[1;33m(\u001b[0m\u001b[0mvalues\u001b[0m\u001b[1;33m)\u001b[0m\u001b[1;33m\u001b[0m\u001b[1;33m\u001b[0m\u001b[0m\n",
      "\u001b[1;31mValueError\u001b[0m: list.remove(x): x not in list"
     ]
    }
   ],
   "source": [
    "values = [12,23,34,45,56,56,67,78,89,97,86,75,64,53,42,31,20,12]\n",
    "print(values)\n",
    "values.remove(999)\n",
    "print(values)"
   ]
  },
  {
   "cell_type": "markdown",
   "id": "29e40b2a",
   "metadata": {},
   "source": [
    "Run this code to see how we place the guard:"
   ]
  },
  {
   "cell_type": "code",
   "execution_count": 7,
   "id": "9be3c215",
   "metadata": {},
   "outputs": [
    {
     "name": "stdout",
     "output_type": "stream",
     "text": [
      "[12, 23, 34, 45, 56, 56, 67, 78, 89, 97, 86, 75, 64, 53, 42, 31, 20, 12]\n",
      "999 was not found in the list.\n",
      "45 was removed from the list.\n"
     ]
    }
   ],
   "source": [
    "values = [12,23,34,45,56,56,67,78,89,97,86,75,64,53,42,31,20,12]\n",
    "print(values)\n",
    "\n",
    "# try removing 999\n",
    "term = 999\n",
    "if values.count(term) > 0:\n",
    "    values.remove(term)\n",
    "    print(f'{term} was removed from the list.')\n",
    "else:\n",
    "    print(f'{term} was not found in the list.')\n",
    "    \n",
    "# try removing 45\n",
    "term = 45\n",
    "if values.count(term) > 0:\n",
    "    values.remove(term)\n",
    "    print(f'{term} was removed from the list.')\n",
    "else:\n",
    "    print(f'{term} was not found in the list.')"
   ]
  },
  {
   "cell_type": "markdown",
   "id": "b95b9a9d",
   "metadata": {},
   "source": [
    "### We can also use the IN operator\n",
    "\n",
    "Note that this .count() method works great and is another tool for us. We can also use the IN operator to ensure that the value is in the list before we try removing it.\n",
    "\n",
    "## 21-2 ==================\n",
    "\n",
    "Use IN rather than the list.count() method.\n",
    "\n",
    "Use this list provided. Present the list to the user. Ask them which item they'd like to remove. If the item's in the list, remove it; otherwise display an appropriate message back to the user. Sample output from separate program runs:\n",
    "\n",
    "    Jan  Jed  Jax  Joo  Jiu  Jef  Jen  Job  Jon  Jeb  Which name to remove? Joo\n",
    "    Joo was removed from the list.\n",
    "    \n",
    "    Jan  Jed  Jax  Jiu  Jef  Jen  Job  Jon  Jeb  Which name to remove? Jqk\n",
    "    Jqk was not in the list."
   ]
  },
  {
   "cell_type": "code",
   "execution_count": 8,
   "id": "98f7fceb",
   "metadata": {},
   "outputs": [],
   "source": [
    "# run this cell first\n",
    "names = ['Jan','Jed','Jax','Joo','Jiu','Jef','Jen','Job','Jon','Jeb']"
   ]
  },
  {
   "cell_type": "code",
   "execution_count": 9,
   "id": "e739d3c9",
   "metadata": {},
   "outputs": [
    {
     "name": "stdout",
     "output_type": "stream",
     "text": [
      "Jan  Jed  Jax  Joo  Jiu  Jef  Jen  Job  Jon  Jeb  Which name to remove? Jax\n",
      "Jax was removed from the list.\n"
     ]
    }
   ],
   "source": [
    "# write your code in this cell\n"
   ]
  },
  {
   "cell_type": "markdown",
   "id": "88f40ef9",
   "metadata": {},
   "source": [
    "## Finding the Index of an Item: list.index(item)\n",
    "\n",
    "In the code above, we tried removing 45 and were successful. Let's add code that also reports WHERE in the list the item was found. list.index(item) will return the index number of 'item'. We want this output:\n",
    "\n",
    "    45 was removed from the list at index 3."
   ]
  },
  {
   "cell_type": "code",
   "execution_count": 10,
   "id": "4e69b692",
   "metadata": {},
   "outputs": [
    {
     "name": "stdout",
     "output_type": "stream",
     "text": [
      "[12, 23, 34, 45, 56, 56, 67, 78, 89, 97, 86, 75, 64, 53, 42, 31, 20, 12]\n",
      "999 was not found in the list.\n",
      "45 was removed from the list at index 3.\n"
     ]
    }
   ],
   "source": [
    "values = [12,23,34,45,56,56,67,78,89,97,86,75,64,53,42,31,20,12]\n",
    "print(values)\n",
    "\n",
    "# try removing 999\n",
    "term = 999\n",
    "if term in values:\n",
    "    index = values.index(term)\n",
    "    values.remove(term)\n",
    "    print(f'{term} was removed from the list at index {index}.')\n",
    "else:\n",
    "    print(f'{term} was not found in the list.')\n",
    "    \n",
    "# try removing 45\n",
    "term = 45\n",
    "if term in values:\n",
    "    index = values.index(term)\n",
    "    values.remove(term)\n",
    "    print(f'{term} was removed from the list at index {index}.')\n",
    "else:\n",
    "    print(f'{term} was not found in the list.')"
   ]
  },
  {
   "cell_type": "markdown",
   "id": "1d90b1bd",
   "metadata": {},
   "source": [
    "## 21-3 ==================\n",
    "\n",
    "Update your 10-2-2 code to also report the index number that a removed search term was located:\n",
    "\n",
    "    Jan  Jed  Jax  Jiu  Jef  Jen  Job  Jon  Jeb  Which name to remove? Jax\n",
    "    Jax was removed from the list at index 3."
   ]
  },
  {
   "cell_type": "code",
   "execution_count": 11,
   "id": "510e114c",
   "metadata": {},
   "outputs": [
    {
     "name": "stdout",
     "output_type": "stream",
     "text": [
      "Jan  Jed  Jax  Joo  Jiu  Jef  Jen  Job  Jon  Jeb  Which name to remove? Jef\n",
      "Jef was removed from the list at index 3.\n"
     ]
    }
   ],
   "source": [
    "# write your code in this cell\n"
   ]
  },
  {
   "cell_type": "markdown",
   "id": "78db2673",
   "metadata": {},
   "source": [
    "## Inserting an Item into a List: list.insert(index, item)\n",
    "\n",
    "This method inserts the item at the specified index. The order of the arguments is index first, then item. \n",
    "\n",
    "This method is different from list.append() which will insert the item at the end of the list. \n",
    "\n",
    "If the index number entered is beyond the list's bounds, the item will be appended to the end of the list.\n",
    "\n",
    "Run this code to demonstrate:"
   ]
  },
  {
   "cell_type": "code",
   "execution_count": 12,
   "id": "6d3d8642",
   "metadata": {},
   "outputs": [
    {
     "name": "stdout",
     "output_type": "stream",
     "text": [
      "[12, 23, 34, 56, 56, 67, 78, 89, 97, 86, -9999, 75, 64, 53, 42, 31, 20, 12]\n"
     ]
    }
   ],
   "source": [
    "values.insert(10, -9999)\n",
    "print(values)"
   ]
  },
  {
   "cell_type": "markdown",
   "id": "798d7df2",
   "metadata": {},
   "source": [
    "## 21-4 ==================\n",
    "\n",
    "Reset your names list with:\n",
    "\n",
    "    names = ['Jan','Jed','Jax','Joo','Jiu','Jef','Jen','Job','Jon','Jeb']\n",
    "\n",
    "Ask the user for a name they'd like to insert, as well as the index number. Sample output:\n",
    "\n",
    "    ['Jan', 'Jed', 'Jax', 'Joo', 'Jiu', 'Jef', 'Jen', 'Job', 'Jon', 'Jeb']\n",
    "    What name do you want to insert? Juk\n",
    "    Enter 1 to insert as new 1st position, 2 for new 2nd, etc.: 5\n",
    "    ['Jan', 'Jed', 'Jax', 'Joo', 'Juk', 'Jiu', 'Jef', 'Jen', 'Job', 'Jon', 'Jeb']"
   ]
  },
  {
   "cell_type": "code",
   "execution_count": 13,
   "id": "e24a0943",
   "metadata": {},
   "outputs": [
    {
     "name": "stdout",
     "output_type": "stream",
     "text": [
      "['Jan', 'Jed', 'Jax', 'Joo', 'Jiu', 'Jef', 'Jen', 'Job', 'Jon', 'Jeb']\n",
      "What name do you want to insert? Jqk\n",
      "Enter 1 to insert as new 1st position, 2 for new 2nd, etc.: 4\n",
      "['Jan', 'Jed', 'Jax', 'Jqk', 'Joo', 'Jiu', 'Jef', 'Jen', 'Job', 'Jon', 'Jeb']\n"
     ]
    }
   ],
   "source": [
    "# write your code in this cell\n",
    "names = ['Jan','Jed','Jax','Joo','Jiu','Jef','Jen','Job','Jon','Jeb']\n",
    "print(names)\n"
   ]
  },
  {
   "cell_type": "markdown",
   "id": "3022375f",
   "metadata": {},
   "source": [
    "## Removing a List Element: del\n",
    "\n",
    "Use the delete statement, del, to delete a specific list element, referred to by an index number. For example,\n",
    "\n",
    "    del values[4]\n",
    "\n",
    "...will delete the fifth element in the values list. Use this when you have an index number that you want to delete.\n",
    "\n",
    "#### Fun Fact\n",
    "\n",
    "The del statement is just that -- a Python statement. It's not a Python function, and it's not a method specific to lists like .append() or .remove().\n",
    "\n",
    "This code will remove that -9999 that we just inserted above."
   ]
  },
  {
   "cell_type": "code",
   "execution_count": 14,
   "id": "a04393b9",
   "metadata": {},
   "outputs": [
    {
     "name": "stdout",
     "output_type": "stream",
     "text": [
      "[12, 23, 34, 56, 56, 67, 78, 89, 97, 86, 75, 64, 53, 42, 31, 20, 12]\n"
     ]
    }
   ],
   "source": [
    "del values[10]\n",
    "print(values)"
   ]
  },
  {
   "cell_type": "markdown",
   "id": "23cb40de",
   "metadata": {},
   "source": [
    "## Lists Can Be Sorted: list.sort()\n",
    "\n",
    "Sort any list with list.sort():"
   ]
  },
  {
   "cell_type": "code",
   "execution_count": 15,
   "id": "c8138a87",
   "metadata": {},
   "outputs": [
    {
     "name": "stdout",
     "output_type": "stream",
     "text": [
      "[12, 12, 20, 23, 31, 34, 42, 53, 56, 56, 64, 67, 75, 78, 86, 89, 97]\n"
     ]
    }
   ],
   "source": [
    "values.sort()\n",
    "print(values)"
   ]
  },
  {
   "cell_type": "markdown",
   "id": "104e9d01",
   "metadata": {},
   "source": [
    "## Lists Can Be Reversed: list.reverse()\n",
    "\n",
    "Just like the name says:"
   ]
  },
  {
   "cell_type": "code",
   "execution_count": 16,
   "id": "fd4907d9",
   "metadata": {},
   "outputs": [
    {
     "name": "stdout",
     "output_type": "stream",
     "text": [
      "[97, 89, 86, 78, 75, 67, 64, 56, 56, 53, 42, 34, 31, 23, 20, 12, 12]\n"
     ]
    }
   ],
   "source": [
    "values.reverse()\n",
    "print(values)"
   ]
  },
  {
   "cell_type": "markdown",
   "id": "ea367610",
   "metadata": {},
   "source": [
    "## Finding the Max/Min Value in a List: min(list) and max(list)\n",
    "\n",
    "This is a Python function: min(list) that takes a list as an argument. It returns the minimum value in the list. \n",
    "\n",
    "Same for max(list)."
   ]
  },
  {
   "cell_type": "code",
   "execution_count": 17,
   "id": "03ddeb76",
   "metadata": {},
   "outputs": [
    {
     "name": "stdout",
     "output_type": "stream",
     "text": [
      "Max value: 97\n",
      "Min value: 12\n"
     ]
    }
   ],
   "source": [
    "print(f'Max value: {max(values)}')\n",
    "print(f'Min value: {min(values)}')"
   ]
  },
  {
   "cell_type": "markdown",
   "id": "7d97dcc3",
   "metadata": {},
   "source": [
    "## Finding the Sum in a List: sum(list)\n",
    "\n",
    "sum(list) returns the sum. Since we know the length of the list, we can calculate the average. Run this example:"
   ]
  },
  {
   "cell_type": "code",
   "execution_count": 18,
   "id": "08a5aa1a",
   "metadata": {},
   "outputs": [
    {
     "name": "stdout",
     "output_type": "stream",
     "text": [
      "Sum of values list: 895\n",
      "Avg of values list: 52.65\n"
     ]
    }
   ],
   "source": [
    "print(f'Sum of values list: {sum(values)}')\n",
    "print(f'Avg of values list: {sum(values)/len(values):.2f}')"
   ]
  },
  {
   "cell_type": "markdown",
   "id": "22ecae08",
   "metadata": {},
   "source": [
    "## COPYING LISTS -- THIS IS SUPER IMPORTANT\n",
    "\n",
    "Due to Python programming properties, which are all of course intentional, if we try coping one list to another using conventional approaches, we will run into trouble.\n",
    "\n",
    "Suppose we have this list:\n",
    "\n",
    "    cities = ['Atlanta','Boston','Philadephia','San Francisco']\n",
    "    \n",
    "Also suppose we want to make a copy of this list, so we can edit the copy while retaining the original for safekeeping:\n",
    "\n",
    "    temp_cities = cities\n",
    "\n",
    "Here's the problem. 'cities' and 'temp_cities' actually refer to the exact same list in memory. It's just as though there's a new name pointing to the same list. \n",
    "\n",
    "To demonstrate this, I'll reassign one element in 'cities', and we'll see that change apparent when we print 'temp_cities'. This means we altered 'temp_cities' without directly accessing the 'temp_cities' list! That's bad!"
   ]
  },
  {
   "cell_type": "code",
   "execution_count": 19,
   "id": "58a60d6c",
   "metadata": {},
   "outputs": [
    {
     "name": "stdout",
     "output_type": "stream",
     "text": [
      "['Atlanta', 'Charleston', 'Philadephia', 'San Francisco']\n"
     ]
    }
   ],
   "source": [
    "cities = ['Atlanta','Boston','Philadephia','San Francisco']\n",
    "# try to copy the list to a new list\n",
    "temp_cities = cities\n",
    "# modify second element in 'cities' list\n",
    "cities[1] = 'Charleston'\n",
    "# note how 'Charleston' appears in 'temp_cities' list\n",
    "print(temp_cities)\n",
    "# this is very bad"
   ]
  },
  {
   "cell_type": "markdown",
   "id": "37bc457c",
   "metadata": {},
   "source": [
    "There are two workarounds for this behavior. One is a for loop that can iterate over the list and append:"
   ]
  },
  {
   "cell_type": "code",
   "execution_count": 20,
   "id": "ca7bfef5",
   "metadata": {},
   "outputs": [
    {
     "name": "stdout",
     "output_type": "stream",
     "text": [
      "['Atlanta', 'Boston', 'Philadephia', 'San Francisco']\n"
     ]
    }
   ],
   "source": [
    "cities = ['Atlanta','Boston','Philadephia','San Francisco']\n",
    "# create a new list that's empty\n",
    "temp_cities = []\n",
    "# append elements to the new list\n",
    "for item in cities:\n",
    "    temp_cities.append(item)\n",
    "# modify second element in 'cities' list\n",
    "cities[1] = 'Charleston'\n",
    "# note how 'Charleston' doesn't appear\n",
    "print(temp_cities)"
   ]
  },
  {
   "cell_type": "markdown",
   "id": "1656aca1",
   "metadata": {},
   "source": [
    "#### This is the more popular workaround\n",
    "\n",
    "The other more popular workaround is to just create an empty list and append the target list to it:\n",
    "\n",
    "    temp_cities = [] + cities"
   ]
  },
  {
   "cell_type": "code",
   "execution_count": 21,
   "id": "9cb47d1c",
   "metadata": {},
   "outputs": [
    {
     "name": "stdout",
     "output_type": "stream",
     "text": [
      "['Atlanta', 'Boston', 'Philadephia', 'San Francisco']\n"
     ]
    }
   ],
   "source": [
    "cities = ['Atlanta','Boston','Philadephia','San Francisco']\n",
    "# copy lists\n",
    "temp_cities = [] + cities\n",
    "# modify second element in 'cities' list\n",
    "cities[1] = 'Charleston'\n",
    "# note how 'Charleston' doesn't appear\n",
    "print(temp_cities)"
   ]
  },
  {
   "cell_type": "markdown",
   "id": "11079017",
   "metadata": {},
   "source": [
    "## Parallel Lists\n",
    "\n",
    "You can keep two lists in synchronization to represent various attributes that are related. For example, let's say we have a collection of cars. In one list we could store the car manufacturers such as 'Toyota'. In another list, we keep the years they were manufactured. \n",
    "\n",
    "Corresponding list elements refer to the same car:\n",
    "\n",
    "    cars[0] is the manufacturer 'Mazda' and years[0] is the year it was made\n",
    "\n",
    "## 21-5 ==================\n",
    "\n",
    "See the next cell and run it to load the two lists into memory. These lists represent a car collection. The list 'cars' represents the vehicle manufacturer. The 'years' list represents the years they were made. Corresponding list elements refer to the same car.\n",
    "\n",
    "Output the car collection in the format shown in the sample output.\n",
    "\n",
    "Then ask the user to enter the **name only** of the car they'd like to remove from the collection.\n",
    "\n",
    "Then remove that car using list.remove(), as well as the corresponding year entry in the 'years' list. You'll have to obtain the index number with list.index() and use that to delete the correct element in 'years'.\n",
    "\n",
    "Then output the resulting list, showing the removed car.\n",
    "\n",
    "Sample output:\n",
    "\n",
    "    ***Car Collection***\n",
    "           Mazda : 2020\n",
    "          Toyota : 1998\n",
    "           Lexus : 2015\n",
    "           Dodge : 2004\n",
    "      Volkswagen : 2015\n",
    "            Ford : 2009\n",
    "          Nissan : 2022\n",
    "    Which car do you want to delete? Enter the name only: Dodge\n",
    "    Dodge was removed from the list at index 3.\n",
    "           Mazda : 2020\n",
    "          Toyota : 1998\n",
    "           Lexus : 2015\n",
    "      Volkswagen : 2015\n",
    "            Ford : 2009\n",
    "          Nissan : 2022"
   ]
  },
  {
   "cell_type": "code",
   "execution_count": 22,
   "id": "75706994",
   "metadata": {},
   "outputs": [
    {
     "name": "stdout",
     "output_type": "stream",
     "text": [
      "['Mazda', 'Toyota', 'Lexus', 'Dodge', 'Volkswagen', 'Ford', 'Nissan']\n",
      "[2020, 1998, 2015, 2004, 2015, 2009, 2022]\n"
     ]
    }
   ],
   "source": [
    "# run this cell first to load the list into memory\n",
    "cars = ['Mazda','Toyota','Lexus','Dodge','Volkswagen','Ford','Nissan']\n",
    "years = [2020,1998,2015,2004,2015,2009,2022]\n",
    "print(cars)\n",
    "print(years)"
   ]
  },
  {
   "cell_type": "code",
   "execution_count": 23,
   "id": "cf77e4fa",
   "metadata": {},
   "outputs": [
    {
     "name": "stdout",
     "output_type": "stream",
     "text": [
      "***Car Collection***\n",
      "       Mazda : 2020\n",
      "      Toyota : 1998\n",
      "       Lexus : 2015\n",
      "       Dodge : 2004\n",
      "  Volkswagen : 2015\n",
      "        Ford : 2009\n",
      "      Nissan : 2022\n",
      "Which car do you want to delete? Enter the name only: Mazda\n",
      "Mazda was removed from the list at index 0.\n",
      "      Toyota : 1998\n",
      "       Lexus : 2015\n",
      "       Dodge : 2004\n",
      "  Volkswagen : 2015\n",
      "        Ford : 2009\n",
      "      Nissan : 2022\n"
     ]
    }
   ],
   "source": [
    "# write your code in this cell\n"
   ]
  },
  {
   "cell_type": "markdown",
   "id": "f391ab40",
   "metadata": {},
   "source": [
    "## 21-6 ==================\n",
    "\n",
    "This time, rather than having the user enter the **name** of the car to delete, we'll simply present them a simple menu to choose from. They then enter the corresponding integer. The menu would look like this:\n",
    "\n",
    "    ***Car Collection***\n",
    "    [1] 2020 Mazda\n",
    "    [2] 1998 Toyota\n",
    "    [3] 2015 Lexus\n",
    "    [4] 2004 Dodge\n",
    "    [5] 2015 Volkswagen\n",
    "    [6] 2009 Ford\n",
    "    [7] 2022 Nissan\n",
    "    Which car do you want to delete? 4\n",
    "\n",
    "Use the del statement to delete the appropriate entries from both lists."
   ]
  },
  {
   "cell_type": "code",
   "execution_count": 24,
   "id": "0888b090",
   "metadata": {},
   "outputs": [
    {
     "name": "stdout",
     "output_type": "stream",
     "text": [
      "***Car Collection***\n",
      "[1] 2020 Mazda\n",
      "[2] 1998 Toyota\n",
      "[3] 2015 Lexus\n",
      "[4] 2004 Dodge\n",
      "[5] 2015 Volkswagen\n",
      "[6] 2009 Ford\n",
      "[7] 2022 Nissan\n",
      "Which car do you want to delete? 1\n",
      "\n",
      "Car removed. Resulting collection:\n",
      "\n",
      "***Car Collection***\n",
      "[1] 1998 Toyota\n",
      "[2] 2015 Lexus\n",
      "[3] 2004 Dodge\n",
      "[4] 2015 Volkswagen\n",
      "[5] 2009 Ford\n",
      "[6] 2022 Nissan\n"
     ]
    }
   ],
   "source": [
    "cars = ['Mazda','Toyota','Lexus','Dodge','Volkswagen','Ford','Nissan']\n",
    "years = [2020,1998,2015,2004,2015,2009,2022]\n",
    "\n"
   ]
  },
  {
   "cell_type": "markdown",
   "id": "6490f2ca",
   "metadata": {},
   "source": [
    "## 21-7 ====================\n",
    "\n",
    "Write a program that writes 1000 random numbers (range: 1-5000) to a list.\n",
    "\n",
    "Using the various list functions, output the sum, average, min, max, location of min, and location of max.\n",
    "\n",
    "Sample output:\n",
    "\n",
    "    Sum: 2450460\n",
    "    Avg: 2450.46\n",
    "    Min: 3 (at index 636)\n",
    "    Min: 4990 (at index 11)"
   ]
  },
  {
   "cell_type": "code",
   "execution_count": 25,
   "id": "70c4466a",
   "metadata": {},
   "outputs": [
    {
     "name": "stdout",
     "output_type": "stream",
     "text": [
      "Sum: 2482653\n",
      "Avg: 2482.65\n",
      "Min: 5 (at index 349)\n",
      "Min: 4997 (at index 28)\n"
     ]
    }
   ],
   "source": [
    "# write your code here\n"
   ]
  }
 ],
 "metadata": {
  "kernelspec": {
   "display_name": "Python 3",
   "language": "python",
   "name": "python3"
  },
  "language_info": {
   "codemirror_mode": {
    "name": "ipython",
    "version": 3
   },
   "file_extension": ".py",
   "mimetype": "text/x-python",
   "name": "python",
   "nbconvert_exporter": "python",
   "pygments_lexer": "ipython3",
   "version": "3.8.8"
  }
 },
 "nbformat": 4,
 "nbformat_minor": 5
}
