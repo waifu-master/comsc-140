{
 "cells": [
  {
   "cell_type": "markdown",
   "id": "28917c50",
   "metadata": {},
   "source": [
    "# Lab 28: Python Dictionaries\n",
    "\n",
    "First, read Section 9.1 in the book, or this won't make any sense.\n",
    "\n",
    "Read and review these items in Section 9.1:\n",
    "\n",
    "    What dictionaries are\n",
    "    Creating a dictionary\n",
    "    Creating an empty dictionary\n",
    "    Retrieving a value from a dictionary\n",
    "    Using in and not to see if a value exists in the dictionary\n",
    "    Adding elements to a dictionary\n",
    "    Deleting elements in a dictionary\n",
    "    Using len() to get the number of dictionary elements\n",
    "    Mixing data types in a dictionary\n",
    "    Iterating over a dictionary using a for loop\n",
    "    Dictionary methods:\n",
    "        clear()\n",
    "        get()\n",
    "        items()\n",
    "        keys()\n",
    "        pop()\n",
    "        popitem()\n",
    "        values()\n",
    "    Dictionary comprehension\n",
    "\n",
    "## In the Spotlight: Using a Dictionary to Simulate a Deck of Cards\n",
    "\n",
    "We'll examine this code from 'In the Spotlight.' This code is in Chapter 9, starting on page 480. Run this code and experience the program flow and results.\n",
    "\n",
    "#### Fun Fact: Line Numbers\n",
    "\n",
    "With the cell selected (click to the left of the cell to select it), just press 'L' to turn on line numbers in your code."
   ]
  },
  {
   "cell_type": "code",
   "execution_count": 7,
   "id": "5255a1dc",
   "metadata": {},
   "outputs": [
    {
     "name": "stdout",
     "output_type": "stream",
     "text": [
      "King of Spades\n",
      "9 of Clubs\n",
      "3 of Clubs\n",
      "Queen of Diamonds\n",
      "5 of Spades\n",
      "Value of this hand: 37\n"
     ]
    }
   ],
   "source": [
    "# This program uses a dictionary as a deck of cards.\n",
    "import random\n",
    "\n",
    "def main():\n",
    "    # Create a deck of cards.\n",
    "    deck = create_deck()\n",
    "\n",
    "    # Get the number of cards to deal.\n",
    "    num_cards = int(input('How many cards should I deal? '))\n",
    "\n",
    "    # Deal the cards.\n",
    "    deal_cards(deck, num_cards)\n",
    "\n",
    "# The create_deck function returns a dictionary\n",
    "# representing a deck of cards.\n",
    "\n",
    "def create_deck():\n",
    "    # Create a dictionary with each card and its value\n",
    "    # stored as key-value pairs.\n",
    "    deck = {'Ace of Spades':1, '2 of Spades':2, '3 of Spades':3,\n",
    "            '4 of Spades':4, '5 of Spades':5, '6 of Spades':6,\n",
    "            '7 of Spades':7, '8 of Spades':8, '9 of Spades':9,\n",
    "            '10 of Spades':10, 'Jack of Spades':10,\n",
    "            'Queen of Spades':10, 'King of Spades': 10,\n",
    "            \n",
    "            'Ace of Hearts':1, '2 of Hearts':2, '3 of Hearts':3,\n",
    "            '4 of Hearts':4, '5 of Hearts':5, '6 of Hearts':6,\n",
    "            '7 of Hearts':7, '8 of Hearts':8, '9 of Hearts':9,\n",
    "            '10 of Hearts':10, 'Jack of Hearts':10,\n",
    "            'Queen of Hearts':10, 'King of Hearts': 10,\n",
    "            \n",
    "            'Ace of Clubs':1, '2 of Clubs':2, '3 of Clubs':3,\n",
    "            '4 of Clubs':4, '5 of Clubs':5, '6 of Clubs':6,\n",
    "            '7 of Clubs':7, '8 of Clubs':8, '9 of Clubs':9,\n",
    "            '10 of Clubs':10, 'Jack of Clubs':10,\n",
    "            'Queen of Clubs':10, 'King of Clubs': 10,\n",
    "            \n",
    "            'Ace of Diamonds':1, '2 of Diamonds':2, '3 of Diamonds':3,\n",
    "            '4 of Diamonds':4, '5 of Diamonds':5, '6 of Diamonds':6,\n",
    "            '7 of Diamonds':7, '8 of Diamonds':8, '9 of Diamonds':9,\n",
    "            '10 of Diamonds':10, 'Jack of Diamonds':10,\n",
    "            'Queen of Diamonds':10, 'King of Diamonds': 10}\n",
    "\n",
    "    # Return the deck.\n",
    "    return deck\n",
    "\n",
    "# The deal_cards function deals a specified number of cards\n",
    "# from the deck.\n",
    "\n",
    "def deal_cards(deck, number):\n",
    "    # Initialize an accumulator for the hand value.\n",
    "    hand_value = 0\n",
    "\n",
    "    # Make sure the number of cards to deal is not\n",
    "    # greater than the number of cards in the deck.\n",
    "    if number > len(deck):\n",
    "        number = len(deck)\n",
    "\n",
    "    # Deal the cards and accumulate their values.\n",
    "    for count in range(number):\n",
    "        card = random.choice(list(deck))\n",
    "        print(card)\n",
    "        hand_value += deck[card]\n",
    "\n",
    "    # Display the value of the hand.\n",
    "    print(f'Value of this hand: {hand_value}')\n",
    "\n",
    "# Call the main function.\n",
    "if __name__ == '__main__':\n",
    "    main()"
   ]
  },
  {
   "cell_type": "markdown",
   "id": "48d23fa2",
   "metadata": {},
   "source": [
    "In the **create_deck() function** starting on line 17, this code will create and initialize a dictionary 'deck' based on supplied values:\n",
    "\n",
    "    deck = {'Ace of Spades':1, '2 of Spades':2, '3 of Spades':3...code continues...}\n",
    "\n",
    "Note that each element in this list is a tuple: (card name, point value of the card)\n",
    "\n",
    "The 'deck' dictionary is returned by the function to the calling statement. In this case, it's assigned in main() to a dictionary 'deck'.\n",
    "\n",
    "In the **deal_cards() function** starting on line 50, let's look at the for loop:\n",
    "\n",
    "    # Deal the cards and accumulate their values.\n",
    "    for count in range(number):\n",
    "        card = random.choice(list(deck))\n",
    "        print(card)\n",
    "        hand_value += deck[card]\n",
    "\n",
    "Notice that the first line in the for loop uses list(). This is a Python function that will convert any iterable container, such as a dictionary, to a list. In the case of a dictionary, it will only convert the dictionary's keys to a list. The values are untouched. 'card' then is a list of keys in the dictionary 'deck'.\n",
    "\n",
    "As you know from your reading, we can also retrieve the keys of a dictionary with .keys(). However, the data structure that's returned is a sequence container, not a Python list. Run this cell to see the results. This cell creates a dictionary of my kids' names and their birth order."
   ]
  },
  {
   "cell_type": "code",
   "execution_count": 13,
   "id": "f9bfd2ce",
   "metadata": {},
   "outputs": [
    {
     "name": "stdout",
     "output_type": "stream",
     "text": [
      "{'Ellen': 1, 'John': 2, 'Mary': 3, 'Julia': 4}\n",
      "['Ellen', 'John', 'Mary', 'Julia']\n",
      "dict_keys(['Ellen', 'John', 'Mary', 'Julia'])\n",
      "['Ellen', 'John', 'Mary', 'Julia']\n",
      "[1, 2, 3, 4]\n"
     ]
    }
   ],
   "source": [
    "dict = {'Ellen':1, 'John':2, 'Mary':3, 'Julia':4}\n",
    "print(dict)  # this outputs the dictionary in a view format\n",
    "\n",
    "names = list(dict)\n",
    "print(names)  # this outputs the keys/names in a list format\n",
    "\n",
    "names2 = dict.keys()\n",
    "print(names2)  # this outputs the keys/names in a type of view format\n",
    "\n",
    "# since names2 is an iterable, we can convert it to a list with this:\n",
    "names3 = list(names2)\n",
    "print(names3)\n",
    "\n",
    "# key takeaway: list() is very versatile and powerful as a Python function\n",
    "\n",
    "print(list(dict.values()))"
   ]
  },
  {
   "cell_type": "markdown",
   "id": "2b598fbc",
   "metadata": {},
   "source": [
    "This statement returns the card's value from the dictionary 'deck':\n",
    "\n",
    "    deck[card]\n",
    "\n",
    "By providing the key, 'card', we get the value returned. The function continues then to add this to the running subtotal of card values:\n",
    "\n",
    "    hand_value += deck[card]\n",
    "\n",
    "### Updating a Dictionary Entry: .update()\n",
    "\n",
    "We can use the .update() method to update a key/value pair in a dictionary. Run this cell for a demo. Note the dictionary syntax consistently uses braces rather than square brackets. Also note that dictionaries are not sorted, but we can use sorted() to output the dictionary sorted by key."
   ]
  },
  {
   "cell_type": "code",
   "execution_count": 2,
   "id": "78eb2263",
   "metadata": {},
   "outputs": [
    {
     "name": "stdout",
     "output_type": "stream",
     "text": [
      "Ellen      Order: 2\n",
      "John       Order: 1\n",
      "Julia      Order: 4\n",
      "Mary       Order: 3\n"
     ]
    }
   ],
   "source": [
    "dict = {'Ellen':1, 'John':2, 'Mary':3, 'Julia':4}\n",
    "\n",
    "# let's swap Ellen's and John's birth order with dict.update()\n",
    "dict.update({'Ellen':2})\n",
    "dict.update({'John':1})\n",
    "\n",
    "for key in sorted(dict):  # sorts by key (not value)\n",
    "    print(f'{key:10s} Order: {dict[key]}')"
   ]
  },
  {
   "cell_type": "markdown",
   "id": "3a349822",
   "metadata": {},
   "source": [
    "## In the Spotlight: Storing Names and Birthdays in a Dictionary\n",
    "\n",
    "We'll now shift to the next 'In the Spotlight' and discuss certain statements. Run the code, enter a few birthdays, and see the program flow and results."
   ]
  },
  {
   "cell_type": "code",
   "execution_count": null,
   "id": "0b9f2a21",
   "metadata": {},
   "outputs": [],
   "source": [
    "# This program uses a dictionary to keep friends'\n",
    "# names and birthdays.\n",
    "\n",
    "LOOK_UP, QUIT = 1, 5\n",
    "\n",
    "# main function\n",
    "def main():\n",
    "    birthdays = {} # Create an empty dictionary.\n",
    "    choice = 0 # Initialize a variable for the user's choice.\n",
    "\n",
    "    while choice != 5:\n",
    "        # Get the user's menu choice.\n",
    "        choice = get_menu_choice()\n",
    "        # Process the choice.\n",
    "        if choice == 1:\n",
    "            look_up(birthdays)\n",
    "        elif choice == 2:\n",
    "            add(birthdays)\n",
    "        elif choice == 3:\n",
    "            change(birthdays)\n",
    "        elif choice == 4:\n",
    "            delete(birthdays)\n",
    "\n",
    "# The get_menu_choice function displays the menu\n",
    "# and gets a validated choice from the user.\n",
    "def get_menu_choice():\n",
    "    print()\n",
    "    print('Friends and Their Birthdays')\n",
    "    print('---------------------------')\n",
    "    print('1. Look up a birthday')\n",
    "    print('2. Add a new birthday')\n",
    "    print('3. Change a birthday')\n",
    "    print('4. Delete a birthday')\n",
    "    print('5. Quit the program')\n",
    "    print()\n",
    "\n",
    "    # Get the user's choice.\n",
    "    choice = int(input('Enter your choice: '))\n",
    "    # Validate the choice.\n",
    "    while choice < LOOK_UP or choice > QUIT:\n",
    "        choice = int(input('Enter a valid choice: '))\n",
    "    return choice\n",
    "\n",
    "# The look_up function looks up a name in the\n",
    "# birthdays dictionary.\n",
    "def look_up(birthdays):\n",
    "    # Get a name to look up.\n",
    "    name = input('Enter a name: ')\n",
    "    # Look it up in the dictionary.\n",
    "    print(birthdays.get(name, 'Not found.'))\n",
    "\n",
    "# The add function adds a new entry into the\n",
    "# birthdays dictionary.\n",
    "def add(birthdays):\n",
    "    # Get a name and birthday.\n",
    "    name = input('Enter a name: ')\n",
    "    bday = input('Enter a birthday: ')\n",
    "    # If the name does not exist, add it.\n",
    "    if name not in birthdays:\n",
    "        birthdays[name] = bday\n",
    "    else:\n",
    "        print('That entry already exists.')\n",
    "\n",
    "# The change function changes an existing\n",
    "# entry in the birthdays dictionary.\n",
    "def change(birthdays):\n",
    "    # Get a name to look up.\n",
    "    name = input('Enter a name: ')\n",
    "    if name in birthdays:\n",
    "        # Get a new birthday.\n",
    "        bday = input('Enter the new birthday: ')\n",
    "        # Update the entry.\n",
    "        birthdays[name] = bday\n",
    "    else:\n",
    "        print('That name is not found.')\n",
    "\n",
    "# The delete function deletes an entry from the\n",
    "# birthdays dictionary.\n",
    "def delete(birthdays):\n",
    "    # Get a name to look up.\n",
    "    name = input('Enter a name: ')\n",
    "    # If the name is found, delete the entry.\n",
    "    if name in birthdays:\n",
    "        del birthdays[name]\n",
    "    else:\n",
    "        print('That name is not found.')\n",
    "\n",
    "# Call the main function.\n",
    "if __name__ == '__main__':\n",
    "    main()"
   ]
  },
  {
   "cell_type": "markdown",
   "id": "ab2f0bfc",
   "metadata": {},
   "source": [
    "### Avoiding errors when we look up dictionary keys\n",
    "\n",
    "#### dict[key] will draw an error if the key is not in the dictionary\n",
    "\n",
    "One issue with dictionaries is the program will terminate with an exception/error if we try to locate a key in a dictionary, and the key isn't present. Run this code to see an example:"
   ]
  },
  {
   "cell_type": "code",
   "execution_count": 6,
   "id": "32205c57",
   "metadata": {},
   "outputs": [
    {
     "name": "stdout",
     "output_type": "stream",
     "text": [
      "1\n"
     ]
    }
   ],
   "source": [
    "dict = {'Ellen':1, 'John':2, 'Mary':3, 'Julia':4}\n",
    "\n",
    "print(dict['Ellen'])\n",
    "# print(dict['Joe'])  # this throws an error since 'Joe' isn't a key"
   ]
  },
  {
   "cell_type": "markdown",
   "id": "b8696fef",
   "metadata": {},
   "source": [
    "#### .get()\n",
    "\n",
    "Look at line 48 in the demo code above. .get() will either return the value associated with the key 'name', or return the statement 'Not found.' which is the second argument.\n",
    "\n",
    ".get() is an outstanding way to search for a key without drawing an error.\n",
    "\n",
    "    print(birthdays.get(name, 'Not found.'))\n",
    "\n",
    "#### in\n",
    "\n",
    "We can also avoid the error by using 'in' and 'not in'. Run this code to see the lack of errors:"
   ]
  },
  {
   "cell_type": "code",
   "execution_count": 5,
   "id": "72b3920c",
   "metadata": {},
   "outputs": [
    {
     "name": "stdout",
     "output_type": "stream",
     "text": [
      "1\n"
     ]
    }
   ],
   "source": [
    "dict = {'Ellen':1, 'John':2, 'Mary':3, 'Julia':4}\n",
    "\n",
    "if 'Ellen' in dict:\n",
    "    print(dict['Ellen'])\n",
    "if 'Joe' in dict:\n",
    "    print(dict['Joe'])"
   ]
  },
  {
   "cell_type": "markdown",
   "id": "e34dc3c9",
   "metadata": {},
   "source": [
    "### Dictionaries are not ordered\n",
    "\n",
    "Run this code and see how the key/value pairs in the dictionary 'dict' are entered in a certain order that's unsorted. The output is in order of entry, not in any sorted order."
   ]
  },
  {
   "cell_type": "code",
   "execution_count": 3,
   "id": "9e5c210b",
   "metadata": {},
   "outputs": [
    {
     "name": "stdout",
     "output_type": "stream",
     "text": [
      "1 Ellen\n",
      "3 Mary\n",
      "4 Julia\n",
      "2 John\n"
     ]
    }
   ],
   "source": [
    "dict = {}\n",
    "dict['Ellen'] = 1\n",
    "dict['Mary'] = 3\n",
    "dict['Julia'] = 4\n",
    "dict['John'] = 2\n",
    "\n",
    "for key in dict:\n",
    "    print(dict[key], key)"
   ]
  },
  {
   "cell_type": "markdown",
   "id": "61858059",
   "metadata": {},
   "source": [
    "#### Sorting by key\n",
    "\n",
    "We can sort by key with the sorted() function. Note that this doesn't sort the actual dictionary, but it sorts the view of the results. "
   ]
  },
  {
   "cell_type": "code",
   "execution_count": 4,
   "id": "4f610a31",
   "metadata": {},
   "outputs": [
    {
     "name": "stdout",
     "output_type": "stream",
     "text": [
      "1 Ellen\n",
      "2 John\n",
      "4 Julia\n",
      "3 Mary\n",
      "{'Ellen': 1, 'Mary': 3, 'Julia': 4, 'John': 2}\n"
     ]
    }
   ],
   "source": [
    "dict = {}\n",
    "dict['Ellen'] = 1\n",
    "dict['Mary'] = 3\n",
    "dict['Julia'] = 4\n",
    "dict['John'] = 2\n",
    "\n",
    "# sort the results (but not the dictionary)\n",
    "for key in sorted(dict):\n",
    "    print(dict[key], key)\n",
    "    \n",
    "# print the dictionary natively to show it's not sorted\n",
    "print(dict)"
   ]
  },
  {
   "cell_type": "markdown",
   "id": "f74cb454",
   "metadata": {},
   "source": [
    "#### Sorting by value\n",
    "\n",
    "Sorting by value is outside the scope of this course but we cover it in COMSC-240. This is because sorting by value requires extra coding called lambda functions.\n",
    "\n",
    "## Dictionary Comprehension\n",
    "\n",
    "Have you read the text starting at page 490? If not, this won't make any sense to you.\n",
    "\n",
    "Suppose we have two lists: of keys and of values. We can create a dictionary using dictionary comprehension, similar to our studies with list comprehension. Run this code for an example."
   ]
  },
  {
   "cell_type": "code",
   "execution_count": null,
   "id": "9e3b5b02",
   "metadata": {},
   "outputs": [],
   "source": [
    "a = ['Joe','Jan','Jil']  # list of names\n",
    "b = [54905, 65184, 31548]  # parallel list of ID numbers\n",
    "dict = {a[i]: b[i] for i in range(len(a))}\n",
    "for k,v in dict.items():\n",
    "    print(k, v)"
   ]
  },
  {
   "cell_type": "markdown",
   "id": "972093f8",
   "metadata": {},
   "source": [
    "Let's break down this dictionary comprehension:\n",
    "\n",
    "    dict = {a[i]:b[i] for i in range(len(a))}\n",
    "\n",
    "This code is the equivalent of:\n",
    "    \n",
    "    dict = {}  # create empty dictionary\n",
    "    for i in range(len(a):  # iterate len(a) times\n",
    "        dict[a[i]] = b[i]   # make dictionary entry with key:value a[i]:b[i]\n",
    "\n",
    "dict - the name of our dictionary\n",
    "\n",
    "len(a) - returns the number of elements in the list 'a'\n",
    "\n",
    "for i in range(int) - iterates over a range specified by the integer argument\n",
    "\n",
    "a[i] and b[i] simply return the list elements at that specified index\n",
    "\n",
    "a[i]:b[i] uses the colon character to specify that these are the key and value, respectively\n",
    "\n",
    "for k, v in dict.items() - .items() returns a sequence of tuples in key/value pairs\n",
    "\n",
    "## Exercise 28-1\n",
    "\n",
    "Find ten of the most common elements in the universe. Note their atomic numbers. Create lists for these, and using dictionary comprehension, create a dictionary. Output the dictionary in sorted order in nicely formatted columns. You can use element abbreviations instead of element names if desired."
   ]
  },
  {
   "cell_type": "code",
   "execution_count": 11,
   "id": "5ef38551",
   "metadata": {},
   "outputs": [
    {
     "name": "stdout",
     "output_type": "stream",
     "text": [
      "10 most common elements, sorted by atomic number\n",
      "  Z  Symbol\n",
      "  1  H\n",
      "  2  He\n",
      "  6  C\n",
      "  7  N\n",
      "  8  O\n",
      " 10  Ne\n",
      " 12  Mg\n",
      " 14  Si\n",
      " 16  S\n",
      " 26  Fe\n"
     ]
    }
   ],
   "source": [
    "common_elements = ['H', 'He', 'O', 'C', 'Ne', 'Fe', 'N', 'Si', 'Mg', 'S']\n",
    "atomic_nums = [1, 2, 8, 6, 10, 26, 7, 14, 12, 16]\n",
    "\n",
    "element_data = {\n",
    "    atomic_nums[i]: common_elements[i] \n",
    "    for i in range(len(atomic_nums))\n",
    "}\n",
    "\n",
    "print('10 most common elements, sorted by atomic number')\n",
    "print('  Z  Symbol')\n",
    "for z in sorted(atomic_nums):\n",
    "    print(f'{z:>3}  {element_data[z]}')"
   ]
  },
  {
   "cell_type": "markdown",
   "id": "707f3127",
   "metadata": {},
   "source": [
    "## Exercise 28-2\n",
    "\n",
    "Create a dictionary with at least 10 elements in it containing popular airport codes and the city they represent. For example, 'SFO' would map to the value 'San Francisco'.\n",
    "\n",
    "First, output just the keys, sorted.\n",
    "\n",
    "Second, output just the values, sorted.\n",
    "\n",
    "Third, output keys and values in a nicely-formatted table."
   ]
  },
  {
   "cell_type": "code",
   "execution_count": 21,
   "id": "3d35682a",
   "metadata": {},
   "outputs": [
    {
     "name": "stdout",
     "output_type": "stream",
     "text": [
      "AMS\n",
      "CDG\n",
      "DOH\n",
      "DXB\n",
      "FRA\n",
      "IST\n",
      "LGW\n",
      "LHR\n",
      "MAD\n",
      "SIN\n",
      "-------------------------\n",
      "Amsterdam Airport Schiphol, Netherlands\n",
      "Doha Hamad International Airport, Qatar\n",
      "Dubai International Airport, UAE\n",
      "Frankfurt Airport, Germany\n",
      "Istanbul Airport, Turkey\n",
      "London Gatwick Airport, UK\n",
      "London Heathrow Airport, UK\n",
      "Madrid-Barajas Airport, Spain\n",
      "Paris-Charles de Gaulle Airport, France\n",
      "Singapore Changi Airport, Singapore\n",
      "-------------------------\n",
      "AMS  Amsterdam Airport Schiphol, Netherlands\n",
      "CDG  Paris-Charles de Gaulle Airport, France\n",
      "DOH  Doha Hamad International Airport, Qatar\n",
      "DXB  Dubai International Airport, UAE\n",
      "FRA  Frankfurt Airport, Germany\n",
      "IST  Istanbul Airport, Turkey\n",
      "LGW  London Gatwick Airport, UK\n",
      "LHR  London Heathrow Airport, UK\n",
      "MAD  Madrid-Barajas Airport, Spain\n",
      "SIN  Singapore Changi Airport, Singapore\n"
     ]
    }
   ],
   "source": [
    "iata_codes = [\n",
    "    'DXB', \n",
    "    'LHR',\n",
    "    'AMS',\n",
    "    'CDG',\n",
    "    'IST',\n",
    "    'FRA',\n",
    "    'MAD',\n",
    "    'DOH',\n",
    "    'SIN',\n",
    "    'LGW'\n",
    "]\n",
    "\n",
    "airport_names = [\n",
    "    'Dubai International Airport, UAE',\n",
    "    'London Heathrow Airport, UK',\n",
    "    'Amsterdam Airport Schiphol, Netherlands',\n",
    "    'Paris-Charles de Gaulle Airport, France',\n",
    "    'Istanbul Airport, Turkey',\n",
    "    'Frankfurt Airport, Germany',\n",
    "    'Madrid-Barajas Airport, Spain',\n",
    "    'Doha Hamad International Airport, Qatar',\n",
    "    'Singapore Changi Airport, Singapore',\n",
    "    'London Gatwick Airport, UK'\n",
    "]\n",
    "\n",
    "airports = {\n",
    "    iata_codes[i]: airport_names[i]\n",
    "    for i in range(len(iata_codes))\n",
    "}\n",
    "\n",
    "for airport in sorted(list(airports.keys())):\n",
    "    print(airport)\n",
    "print('-' * 25)\n",
    "for airport in sorted(list(airports.values())):\n",
    "    print(airport)\n",
    "print('-' * 25)\n",
    "for iata_code in sorted(airports):\n",
    "    print(f'{iata_code:5}{airports[iata_code]}')"
   ]
  }
 ],
 "metadata": {
  "kernelspec": {
   "display_name": "Python 3",
   "language": "python",
   "name": "python3"
  },
  "language_info": {
   "codemirror_mode": {
    "name": "ipython",
    "version": 3
   },
   "file_extension": ".py",
   "mimetype": "text/x-python",
   "name": "python",
   "nbconvert_exporter": "python",
   "pygments_lexer": "ipython3",
   "version": "3.9.13"
  }
 },
 "nbformat": 4,
 "nbformat_minor": 5
}
