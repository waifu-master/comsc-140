{
 "cells": [
  {
   "cell_type": "markdown",
   "id": "95a6be2d",
   "metadata": {},
   "source": [
    "# Lab  22: Processing Lists & List Comprehension\n",
    "\n",
    "**First, read sections 7.7 and 7.8** in the book, or this lab won't make much sense to you.\n",
    "\n",
    "## Passing Lists to Functions\n",
    "\n",
    "Here's a program that passes the list 'values' to a function 'stats', which outputs various statistics about the list.\n",
    "\n",
    "Note that we pass the list just as we'd pass any other variable. The function receives it as a parameter, assigns a formal parameter name 'lst', and uses that name to perform the function's tasks."
   ]
  },
  {
   "cell_type": "code",
   "execution_count": 1,
   "id": "e5129d4a",
   "metadata": {},
   "outputs": [
    {
     "name": "stdout",
     "output_type": "stream",
     "text": [
      "Sum: 1023\n",
      "Max: 94\n",
      "Min: 2\n",
      "Avg: 51.15\n",
      "Count: 20\n"
     ]
    }
   ],
   "source": [
    "def main():\n",
    "    values = [15,94,32,50,74,86,44,90,82,12,9,16,33,58,46,72,82,38,88,2]\n",
    "    stats(values)\n",
    "\n",
    "def stats(lst):\n",
    "    print(f'Sum: {sum(lst)}')\n",
    "    print(f'Max: {max(lst)}')\n",
    "    print(f'Min: {min(lst)}')\n",
    "    print(f'Avg: {sum(lst)/len(lst):.2f}')\n",
    "    print(f'Count: {len(lst)}')\n",
    "\n",
    "main()"
   ]
  },
  {
   "cell_type": "markdown",
   "id": "c34240c4",
   "metadata": {},
   "source": [
    "## Returning Lists from Functions\n",
    "\n",
    "Here's a program featuring a function that returns a list of [SIZE] random numbers. It'll do this any time the function is called.  The list is returned to the calling statement, where it needs to be assigned to a list that's in scope in the main() program, or used in some other fashion like printing, using in another operation or function call, etc."
   ]
  },
  {
   "cell_type": "code",
   "execution_count": 2,
   "id": "a9868a2f",
   "metadata": {},
   "outputs": [
    {
     "name": "stdout",
     "output_type": "stream",
     "text": [
      "[951, 4555, 1531, 2021, 3903, 1924, 3008, 4213, 4606, 1363]\n"
     ]
    }
   ],
   "source": [
    "import random\n",
    "SIZE = 10\n",
    "MIN, MAX = 100, 5000\n",
    "\n",
    "def main():\n",
    "    values = generate_random_list()\n",
    "    print(values)\n",
    "\n",
    "def generate_random_list():\n",
    "    lst = []\n",
    "    for _ in range(SIZE):\n",
    "        lst.append(random.randint(MIN, MAX))\n",
    "    return lst\n",
    "\n",
    "main()"
   ]
  },
  {
   "cell_type": "markdown",
   "id": "df50757a",
   "metadata": {},
   "source": [
    "This code doesn't store the return list; it just outputs it. It also features a loop, where we create [ITERATIONS] different lists of random numbers."
   ]
  },
  {
   "cell_type": "code",
   "execution_count": 3,
   "id": "d8a7c9e7",
   "metadata": {},
   "outputs": [
    {
     "name": "stdout",
     "output_type": "stream",
     "text": [
      "[4340, 2630, 4994, 4184, 479, 2621, 3242, 4705, 3212, 275]\n",
      "[4604, 711, 1198, 3140, 120, 611, 3584, 4088, 2966, 4632]\n",
      "[4772, 2985, 2727, 3968, 327, 4028, 1083, 2862, 2749, 2403]\n",
      "[466, 2429, 3799, 1434, 2978, 652, 4390, 818, 3662, 2750]\n",
      "[646, 2528, 2928, 2357, 1550, 4185, 1173, 4372, 113, 4916]\n"
     ]
    }
   ],
   "source": [
    "import random\n",
    "SIZE, ITERATIONS = 10, 5\n",
    "MIN, MAX = 100, 5000\n",
    "\n",
    "def main():\n",
    "    for _ in range(ITERATIONS):\n",
    "        print(generate_random_list())\n",
    "\n",
    "def generate_random_list():\n",
    "    lst = []\n",
    "    for _ in range(SIZE):\n",
    "        lst.append(random.randint(MIN, MAX))\n",
    "    return lst\n",
    "\n",
    "main()"
   ]
  },
  {
   "cell_type": "markdown",
   "id": "0822808c",
   "metadata": {},
   "source": [
    "## Exercise 22-1 =========================\n",
    "\n",
    "Write a function that receives a starting value and an increment as parameters. The function creates and returns a list that's comprised of the starting number, followed by the starting number plus the increment, plus the increment again, etc. Make the list size 10 (use a constant for this).\n",
    "\n",
    "In your main() program, generate a random number for the starting value (range 1-500) and a random number for the increment (range 1-10). Call the function with these two values. The function returns the list. You can print that list natively (print(lst)) or use a loop to iterate over it if you'd prefer output formatting.\n",
    "\n",
    "Put this operation in a loop running 5 times (use a constant for this) that will ultimately generate five lists with varying starting values and increments.\n",
    "\n",
    "Sample output:\n",
    "\n",
    "    Start: 82, increment: 3  [82, 85, 88, 91, 94, 97, 100, 103, 106]\n",
    "    Start: 227, increment: 5  [227, 232, 237, 242, 247, 252, 257, 262, 267]\n",
    "    Start: 385, increment: 1  [385, 386, 387, 388, 389, 390, 391, 392, 393]\n",
    "    Start: 28, increment: 8  [28, 36, 44, 52, 60, 68, 76, 84, 92]\n",
    "    Start: 410, increment: 7  [410, 417, 424, 431, 438, 445, 452, 459, 466]"
   ]
  },
  {
   "cell_type": "code",
   "execution_count": 2,
   "id": "f9ccfac6",
   "metadata": {},
   "outputs": [
    {
     "name": "stdout",
     "output_type": "stream",
     "text": [
      "Start: 448, increment: 4\t[448, 452, 456, 460, 464, 468, 472, 476, 480, 484]\n",
      "Start: 283, increment: 4\t[283, 287, 291, 295, 299, 303, 307, 311, 315, 319]\n",
      "Start: 465, increment: 10\t[465, 475, 485, 495, 505, 515, 525, 535, 545, 555]\n",
      "Start: 350, increment: 6\t[350, 356, 362, 368, 374, 380, 386, 392, 398, 404]\n",
      "Start: 455, increment: 7\t[455, 462, 469, 476, 483, 490, 497, 504, 511, 518]\n"
     ]
    }
   ],
   "source": [
    "import random\n",
    "MIN_RAND = 1\n",
    "MAX_RAND = 500\n",
    "MIN_INC = 1\n",
    "MAX_INC = 10\n",
    "LIST_SIZE = 10\n",
    "REPS = 5\n",
    "\n",
    "def generate_list(start, increment):\n",
    "    the_list = []\n",
    "    for i in range(LIST_SIZE):\n",
    "        the_list.append(start + i * increment)\n",
    "    return the_list\n",
    "\n",
    "def main():\n",
    "    for _ in range(REPS):\n",
    "        rand_num = random.randint(MIN_RAND, MAX_RAND)\n",
    "        rand_inc = random.randint(MIN_INC, MAX_INC)\n",
    "        num_list = generate_list(rand_num, rand_inc)\n",
    "        print(f'Start: {rand_num}, increment: {rand_inc}\\t{num_list}')\n",
    "\n",
    "main()"
   ]
  },
  {
   "cell_type": "markdown",
   "id": "58529d6e",
   "metadata": {},
   "source": [
    "### In the Spotlight: Processing a List\n",
    "\n",
    "This is the code from the \"In the Spotlight\" in Section 7.7, page 390 of the textbook. I've altered the code to conform to my personal coding standards. This program generates a list of exam grades and drops the lowest grade. It outputs the average of all grades and the average of all grades with the lowest score dropped.\n",
    "\n",
    "Take note of how the function returns the lists, and how that list is used in the main() function."
   ]
  },
  {
   "cell_type": "code",
   "execution_count": 5,
   "id": "d24d9ae5",
   "metadata": {},
   "outputs": [
    {
     "name": "stdout",
     "output_type": "stream",
     "text": [
      "List of grades: 92, 70, 75, 62, 85\n",
      "Average of all scores: 76.8\n",
      "Average with lowest score dropped: 80.5\n"
     ]
    }
   ],
   "source": [
    "import random\n",
    "\n",
    "SIZE, MIN_SCORE, MAX_SCORE = 5, 40, 100\n",
    "\n",
    "def main():\n",
    "    scores = get_scores()  # obtain list of grades\n",
    "    \n",
    "    # output list of grades\n",
    "    print('List of grades: ', end='')\n",
    "    for i in range(len(scores)):\n",
    "        if i != len(scores) - 1:\n",
    "            print(f'{scores[i]}, ', end='')\n",
    "        else:\n",
    "            print(f'{scores[i]}', end='')  # avoids trailing comma\n",
    "    print()\n",
    "    \n",
    "    # calculations\n",
    "    lowest = min(scores)  # determine lowest score\n",
    "    average_o = sum(scores) / len(scores)\n",
    "    average = (sum(scores) - lowest) / (len(scores) - 1)  # subtract lowest\n",
    "    \n",
    "    # output final average\n",
    "    print(f'Average of all scores: {average_o}')\n",
    "    print(f'Average with lowest score dropped: {average}')\n",
    "\n",
    "def get_scores():\n",
    "    # create an empty list\n",
    "    test_scores = []\n",
    "    \n",
    "    # append SIZE random scores to the list\n",
    "    for _ in range(SIZE):\n",
    "        # append a random grade between MIN_SCORE, MAX_SCORE\n",
    "        score = random.randint(MIN_SCORE, MAX_SCORE)\n",
    "        test_scores.append(score)\n",
    "        \n",
    "    return test_scores\n",
    "\n",
    "main()"
   ]
  },
  {
   "cell_type": "markdown",
   "id": "fcd34252",
   "metadata": {},
   "source": [
    "## Exercise 22-2 ============================\n",
    "\n",
    "Amend the program above such that a third average is calculated and displayed: the lowest score is still dropped, and the highest score is counted twice (it's as though your best score replaces your lowest score).\n",
    "\n",
    "Note there is **additional formatted output** to include in this program. \n",
    "\n",
    "Sample output:\n",
    "\n",
    "    List of grades: 49, 62, 57, 74, 53\n",
    "    Average of all scores: 59.0\n",
    "    Average with lowest score (49) dropped: 61.5\n",
    "    Average with lowest score (49) dropped and highest (74) counted twice: 64.0"
   ]
  },
  {
   "cell_type": "code",
   "execution_count": 2,
   "id": "99f523b8",
   "metadata": {},
   "outputs": [
    {
     "name": "stdout",
     "output_type": "stream",
     "text": [
      "List of grades: 47, 46, 59, 53, 77\n",
      "Average of all scores: 56.4\n",
      "Average with lowest score (46) dropped: 59.0\n",
      "Average with lowest score (46) dropped and highest (77) counted twice: 62.6\n"
     ]
    }
   ],
   "source": [
    "import random\n",
    "\n",
    "SIZE, MIN_SCORE, MAX_SCORE = 5, 40, 100\n",
    "\n",
    "def main():\n",
    "    scores = get_scores()  # obtain list of grades\n",
    "    \n",
    "    # output list of grades\n",
    "    print('List of grades: ', end='')\n",
    "    for i in range(len(scores)):\n",
    "        if i != len(scores) - 1:\n",
    "            print(f'{scores[i]}, ', end='')\n",
    "        else:\n",
    "            print(f'{scores[i]}', end='')  # avoids trailing comma\n",
    "    print()\n",
    "    \n",
    "    # calculations\n",
    "    lowest = min(scores)  # determine lowest score\n",
    "    highest = max(scores)\n",
    "    average_o = sum(scores) / len(scores)\n",
    "    average = (sum(scores) - lowest) / (len(scores) - 1)  # subtract lowest\n",
    "    average_plus = (sum(scores) - lowest + highest) / len(scores)\n",
    "    \n",
    "    # output final average\n",
    "    print(f'Average of all scores: {average_o}')\n",
    "    print(f'Average with lowest score ({lowest}) dropped: {average}')\n",
    "    print(f'Average with lowest score ({lowest}) dropped and highest ({highest}) counted twice: {average_plus}')\n",
    "\n",
    "def get_scores():\n",
    "    # create an empty list\n",
    "    test_scores = []\n",
    "    \n",
    "    # append SIZE random scores to the list\n",
    "    for _ in range(SIZE):\n",
    "        # append a random grade between MIN_SCORE, MAX_SCORE\n",
    "        score = random.randint(MIN_SCORE, MAX_SCORE)\n",
    "        test_scores.append(score)\n",
    "        \n",
    "    return test_scores\n",
    "\n",
    "main()"
   ]
  },
  {
   "cell_type": "markdown",
   "id": "2c312350",
   "metadata": {},
   "source": [
    "## Selecting Random List Element (with substitution)\n",
    "\n",
    "If this is a list: [1, 2, 3], and we randomly select 5 values from this list, we might end up with [1, 1, 3, 2, 3]. This selection is considered \"with substitution\" because after each random selection, that selected number remains in the list. It's eligible to be chosen again. The random library function 'random.choices()' will generate 'n' random selections from the list 'list', and remember there may be duplicates in the list.\n",
    "\n",
    "    random.choices(list, k=n) \n",
    "    \n",
    "Run this tester code for an example. You'll see that duplicates appear in the list. That's fine, because 'random.choices()' allows duplicate selections (\"with substitution\")."
   ]
  },
  {
   "cell_type": "code",
   "execution_count": 7,
   "id": "3f188d18",
   "metadata": {},
   "outputs": [
    {
     "name": "stdout",
     "output_type": "stream",
     "text": [
      "10 random students: Jen Jul Jeb Jil Jen Jil Jin Jeb Jeb Jeb "
     ]
    }
   ],
   "source": [
    "students = ['Jin','Joe','Jen','Jil','Jeb','Jul']\n",
    "num = 10  # select random students\n",
    "selected = random.choices(students, k=num)\n",
    "print(f'{num} random students: ', end='')\n",
    "for i in range(num):\n",
    "    print(f'{selected[i]} ', end='')"
   ]
  },
  {
   "cell_type": "markdown",
   "id": "138b1404",
   "metadata": {},
   "source": [
    "## Selecting Random List Elements (without substitution)\n",
    "\n",
    "We can ensure that only **unique** elements are selected in our random selection list. This is what \"without substitution\" means: when an element is selected, it's removed from the eligibility pool for future selections. Use 'random.sample()' rather than 'random.choices()' for this. This will return a unique list. Note that you can't select more than the number of elements in the list, because the list will gradually become empty.\n",
    "\n",
    "Run this sample code many times and see that the results remain unique lists."
   ]
  },
  {
   "cell_type": "code",
   "execution_count": 8,
   "id": "e629ff83",
   "metadata": {},
   "outputs": [
    {
     "name": "stdout",
     "output_type": "stream",
     "text": [
      "4 random students: Jul Joo Jeb Jac "
     ]
    }
   ],
   "source": [
    "students = ['Jin','Joe','Jen','Jil','Jeb','Jul','Job','Joo','Jac','Jer']\n",
    "num = 4  # select random students\n",
    "selected = random.sample(students, k=num)\n",
    "print(f'{num} random students: ', end='')\n",
    "for i in range(num):\n",
    "    print(f'{selected[i]} ', end='')\n"
   ]
  },
  {
   "cell_type": "markdown",
   "id": "8965393f",
   "metadata": {},
   "source": [
    "## Exercise 22-3 ==========================\n",
    "\n",
    "Write a Magic 8-Ball toy simulator (google this if necessary). We want to ask our Magic 8-Ball who will win the World Series this year, with baseball season starting this month. Write a program that will randomly select one team from a list of baseball teams as the winner. For convenience, here's a list of 10 teams:\n",
    "\n",
    "    teams = ['Giants','Angels','Rockies','Mariners','Pirates','Red Sox',\n",
    "                 'Royals','Yankees','Astros','Athletics']\n",
    "\n",
    "Your main() function should call a function 'select_winner() that receives a list, randomly selects a list element as the winner, and returns a string representing the winner. \n",
    "\n",
    "Use random.choices() for this code. Remember that random.choices() returns a **Python List** so you'll need to 'unpack' it to get the element itself. If you're only selecting one element, it's at index [0] so just add [0] at the end and it accesses the first element in the list of one element.\n",
    "\n",
    "Sample output:\n",
    "\n",
    "    This year's World Series winner will be: Red Sox"
   ]
  },
  {
   "cell_type": "code",
   "execution_count": 9,
   "id": "ceeb823e",
   "metadata": {},
   "outputs": [
    {
     "name": "stdout",
     "output_type": "stream",
     "text": [
      "This year's World Series winner will be: Yankees\n"
     ]
    }
   ],
   "source": [
    "def main():\n",
    "    teams = [\n",
    "        'Giants',\n",
    "        'Angels',\n",
    "        'Rockies',\n",
    "        'Mariners',\n",
    "        'Pirates',\n",
    "        'Red Sox',\n",
    "        'Royals',\n",
    "        'Yankees',\n",
    "        'Astros',\n",
    "        'Athletics'\n",
    "    ]\n",
    "    winner = select_winner(teams)\n",
    "    print(f\"This year's World Series winner will be: {winner}\")\n",
    "\n",
    "def select_winner(teams: list[str]):\n",
    "    return random.choices(teams, k = 1)[0]\n",
    "    \n",
    "main()"
   ]
  },
  {
   "cell_type": "markdown",
   "id": "9e625168",
   "metadata": {},
   "source": [
    "## List Comprehension\n",
    "\n",
    "First **read Section 7.8 in the book** or else this won't make much sense to you.\n",
    "\n",
    "List comprehension is a compact, concise way to generate lists based on other lists. How we do this is by simple rearrangement of some of the syntax.\n",
    "\n",
    "Look at this code which will copy the list 'totals1' to the new list 'totals2':"
   ]
  },
  {
   "cell_type": "code",
   "execution_count": 10,
   "id": "9f15cb3a",
   "metadata": {},
   "outputs": [
    {
     "name": "stdout",
     "output_type": "stream",
     "text": [
      "totals1: [120.6, 522.1, 345.5, 761.2]\n",
      "totals2: [120.6, 522.1, 345.5, 761.2]\n"
     ]
    }
   ],
   "source": [
    "totals1 = [120.6, 522.1, 345.5, 761.2]\n",
    "totals2 = []\n",
    "for val in totals1:\n",
    "    totals2.append(val)\n",
    "print(f'totals1: {totals1}')\n",
    "print(f'totals2: {totals2}')"
   ]
  },
  {
   "attachments": {
    "a.png": {
     "image/png": "[encoded data removed]"
    }
   },
   "cell_type": "markdown",
   "id": "4841bd69",
   "metadata": {},
   "source": [
    "We can rearrange the for loop a bit this way:\n",
    "\n",
    "    for val in totals1:      \n",
    "        totals2.append(val)\n",
    "        \n",
    "...becomes:\n",
    "\n",
    "    totals2 = [val for val in totals1]\n",
    "\n",
    "![a.png](attachment:a.png)\n",
    "\n",
    "A way to interpret this is: we will traverse the list 'totals1' and each time refer to the list element as 'val'. We will then append 'val' to the new list.\n",
    "\n",
    "Run this code now and see how the two lists are identical."
   ]
  },
  {
   "cell_type": "code",
   "execution_count": 11,
   "id": "42dafd2a",
   "metadata": {},
   "outputs": [
    {
     "name": "stdout",
     "output_type": "stream",
     "text": [
      "totals1: [120.6, 522.1, 345.5, 761.2]\n",
      "totals2: [120.6, 522.1, 345.5, 761.2]\n"
     ]
    }
   ],
   "source": [
    "totals1 = [120.6, 522.1, 345.5, 761.2]\n",
    "totals2 = [val for val in totals1]\n",
    "print(f'totals1: {totals1}')\n",
    "print(f'totals2: {totals2}')"
   ]
  },
  {
   "attachments": {
    "a.png": {
     "image/png": "[encoded data removed]"
    }
   },
   "cell_type": "markdown",
   "id": "7e335441",
   "metadata": {},
   "source": [
    "### Altering 'val' in interesting ways\n",
    "\n",
    "See this val? That is just a variable. \n",
    "\n",
    "![a.png](attachment:a.png)\n",
    "\n",
    "Let's take the original 'totals1' list now, and double every element to create the new list.\n",
    "\n",
    "All we do is use 'val * 2' instead of this circled 'val' variable. Run this code:"
   ]
  },
  {
   "cell_type": "code",
   "execution_count": 12,
   "id": "0f1c505e",
   "metadata": {},
   "outputs": [
    {
     "name": "stdout",
     "output_type": "stream",
     "text": [
      "totals1: [120.6, 522.1, 345.5, 761.2]\n",
      "totals2: [241.2, 1044.2, 691.0, 1522.4]\n"
     ]
    }
   ],
   "source": [
    "totals1 = [120.6, 522.1, 345.5, 761.2]\n",
    "totals2 = [val * 2 for val in totals1]\n",
    "print(f'totals1: {totals1}')\n",
    "print(f'totals2: {totals2}')"
   ]
  },
  {
   "cell_type": "markdown",
   "id": "da98a49e",
   "metadata": {},
   "source": [
    "## Exercise 22-4 ============================\n",
    "\n",
    "Alter the code such that the 'totals2' list represents the squared values of the 'totals1' list. Round 'val' to 2 decimal places. Sample output:\n",
    "\n",
    "totals1: [120.6, 522.1, 345.5, 761.2]\n",
    "totals2: [14544.36, 272588.41, 119370.25, 579425.44]"
   ]
  },
  {
   "cell_type": "code",
   "execution_count": 11,
   "id": "194b5bd4",
   "metadata": {},
   "outputs": [
    {
     "name": "stdout",
     "output_type": "stream",
     "text": [
      "totals1: [120.6, 522.1, 345.5, 761.2]\n",
      "totals2: [14544.359999999999, 272588.41000000003, 119370.25, 579425.4400000001]\n"
     ]
    }
   ],
   "source": [
    "totals1 = [120.6, 522.1, 345.5, 761.2]\n",
    "totals2 = [val ** 2 for val in totals1]\n",
    "print(f'totals1: {totals1}')\n",
    "print(f'totals2: {totals2}')"
   ]
  },
  {
   "cell_type": "markdown",
   "id": "ded91f19",
   "metadata": {},
   "source": [
    "## Filtering Using If \n",
    "\n",
    "Suppose we have this list of baseball teams:\n",
    "\n",
    "    teams = ['Giants','Angels','Rockies','Mariners','Pirates','Red Sox',\n",
    "                 'Royals','Yankees','Astros','Athletics']\n",
    "         \n",
    "Let's create a second list of teams that have names that are exactly six characters. We'll include them in the new list if this condition is true:\n",
    "\n",
    "    len(name) == 6\n",
    "\n",
    "We can use an If Statement with list comprehension. We just put the If Statement within the brackets.\n",
    "\n",
    "#### Suppose this is the original code\n",
    "\n",
    "Run this code that **doesn't** use list comprehension. It accomplishes the task, but note the program length."
   ]
  },
  {
   "cell_type": "code",
   "execution_count": 14,
   "id": "db8a5843",
   "metadata": {},
   "outputs": [
    {
     "name": "stdout",
     "output_type": "stream",
     "text": [
      "Teams with 6 letters:  ['Giants', 'Angels', 'Royals', 'Astros']\n"
     ]
    }
   ],
   "source": [
    "teams = ['Giants','Angels','Rockies','Mariners','Pirates','Red Sox',\n",
    "         'Royals','Yankees','Astros','Athletics']\n",
    "teams2 = []  # create empty list for teams with 6 letters\n",
    "for name in teams:\n",
    "    if len(name) == 6:\n",
    "        teams2.append(name)\n",
    "print(f'Teams with 6 letters: ', teams2)"
   ]
  },
  {
   "cell_type": "markdown",
   "id": "ea2c7701",
   "metadata": {},
   "source": [
    "#### Note the ease of list comprehension, injecting the IF statement at the end:"
   ]
  },
  {
   "cell_type": "code",
   "execution_count": 15,
   "id": "aaaf0ca1",
   "metadata": {},
   "outputs": [
    {
     "name": "stdout",
     "output_type": "stream",
     "text": [
      "Teams with 6 letters:  ['Giants', 'Angels', 'Royals', 'Astros']\n"
     ]
    }
   ],
   "source": [
    "teams = ['Giants','Angels','Rockies','Mariners','Pirates','Red Sox',\n",
    "         'Royals','Yankees','Astros','Athletics']\n",
    "teams2 = [name for name in teams if len(name) == 6]\n",
    "print(f'Teams with 6 letters: ', teams2)"
   ]
  },
  {
   "cell_type": "markdown",
   "id": "d2700a6f",
   "metadata": {},
   "source": [
    "## Exercise 22-5 =====================\n",
    "\n",
    "Here's a scenario: we got a database from our company's HR department containing employee last names. However, the list we got also appended the employee's first initial onto the last name, for example \"dietrichm\" or \"bidenj\". We need to fix that, because our information system needs a clean list of last names with nothing else appended to them.\n",
    "\n",
    "Write a program that will create a correct new list based on the names list below (US government cabinet members). Do this using list comprehension.\n",
    "\n",
    "    cabinet_incorrect = ['bidenj','harrisk','austinl','buttigiegp','blinkena','yellenj','garlandm']\n",
    "\n",
    "Hint: list slicing from the previous lab. Remember list slicing works on strings too!\n",
    "\n",
    "Hint: you can do this in three lines of code, including printing.\n",
    "\n",
    "Sample output:\n",
    "\n",
    "    ['biden', 'harris', 'austin', 'buttigieg', 'blinken', 'yellen', 'garland']"
   ]
  },
  {
   "cell_type": "code",
   "execution_count": 15,
   "id": "9621297e",
   "metadata": {},
   "outputs": [
    {
     "name": "stdout",
     "output_type": "stream",
     "text": [
      "['biden', 'harris', 'austin', 'buttigieg', 'blinken', 'yellen', 'garland']\n"
     ]
    }
   ],
   "source": [
    "cabinet_incorrect = ['bidenj','harrisk','austinl','buttigiegp','blinkena','yellenj','garlandm']\n",
    "cabinet_correct = [val[:len(val) - 1] for val in cabinet_incorrect]\n",
    "print(cabinet_correct)"
   ]
  }
 ],
 "metadata": {
  "kernelspec": {
   "display_name": "Python 3",
   "language": "python",
   "name": "python3"
  },
  "language_info": {
   "codemirror_mode": {
    "name": "ipython",
    "version": 3
   },
   "file_extension": ".py",
   "mimetype": "text/x-python",
   "name": "python",
   "nbconvert_exporter": "python",
   "pygments_lexer": "ipython3",
   "version": "3.9.13"
  }
 },
 "nbformat": 4,
 "nbformat_minor": 5
}
