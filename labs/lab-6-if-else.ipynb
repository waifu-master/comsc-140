{
 "cells": [
  {
   "cell_type": "markdown",
   "id": "33339c34",
   "metadata": {},
   "source": [
    "# Lab 6: If/else and nested if/else\n",
    "\n",
    "\n",
    "## Exercise 6-1: Rectangle Areas\n",
    "\n",
    "This program will output which of two rectangles has the greatest area.\n",
    "\n",
    "The area of a rectangle is length times width. Have the user enter the length and width of two different rectangles. Output which rectangle has the greater area _or if they have the same area_.\n",
    "\n",
    "### Sample Output\n",
    "\n",
    "    Enter the dimensions of 2 rectangles, and I'll calculate which one\n",
    "    has the greater area.\n",
    "\n",
    "    RECTANGLE ONE:\n",
    "    Length: 13.6\n",
    "    Width: 42.1\n",
    "\n",
    "    RECTANGLE TWO:\n",
    "    Length: 54.32\n",
    "    Width: 11.9\n",
    "\n",
    "    Results: Rectangle 2 has the greater area: 646.4 vs. 572.6\n",
    "\n",
    "BEFORE YOU START: think what the step-by-step process would be to code this problem. Place each step you create in your program as a comment. This provides a coding framework for you.\n",
    "\n",
    "See the example below. This problem has these distinct steps:\n",
    "\n",
    "    -- introduction\n",
    "    -- obtain input for rectangle one\n",
    "    -- obtain input for rectangle two\n",
    "    -- calculate areas\n",
    "    -- determine which is larger and output results\n",
    "\n",
    "Code in the proper code blocks. Each code block has a comment above it, introducing what the code block does."
   ]
  },
  {
   "cell_type": "code",
   "execution_count": null,
   "id": "26e7fa3a",
   "metadata": {},
   "outputs": [],
   "source": []
  },
  {
   "cell_type": "markdown",
   "id": "4176e461",
   "metadata": {},
   "source": [
    "## Exercise 6-2: Alphabetize Names\n",
    "\n",
    "This program will alphabetize two names that the user provides.\n",
    "\n",
    "Write a program that asks the user to enter two first names. Use getline() for this input and not cin >>, because the cin object will only read up to the first whitespace. This means a first name like \"Daisy Mae\" wouldn't get read properly.\n",
    "\n",
    "Display those names in alphabetical order, or output that the names are the same.\n",
    "\n",
    "### Output Format Examples\n",
    "\n",
    "Here are three different output examples.\n",
    "\n",
    "    Enter two first names and I'll sort them.\n",
    "    Name #1: Joe\n",
    "    Name #2: Jane\n",
    "    Alphabetized: Jane Joe\n",
    "    Program ending.\n",
    "\n",
    "    Enter two first names and I'll sort them.\n",
    "    Name #1: Joe\n",
    "    Name #2: Joe\n",
    "    These names are the same.\n",
    "    Program ending.\n",
    "\n",
    "    Enter two first names and I'll sort them.\n",
    "    Name #1: Jack\n",
    "    Name #2: Jung\n",
    "    Alphabetized: Jack Jung\n",
    "    Program ending.\n",
    "\n",
    "Code block suggestions:\n",
    "\n",
    "    # introduction\n",
    "    \n",
    "    # obtain names from user\n",
    "    \n",
    "    # determine the sorted order and output results"
   ]
  },
  {
   "cell_type": "code",
   "execution_count": null,
   "id": "bb25d558",
   "metadata": {},
   "outputs": [],
   "source": []
  },
  {
   "cell_type": "markdown",
   "id": "c1e6c63d",
   "metadata": {},
   "source": [
    "## Exercise 6-3: Nested if/else\n",
    "\n",
    "Implement this problem. \n",
    "\n",
    "Ask the user if they prefer Windows or Mac. \n",
    "\n",
    "If they prefer Windows, ask them if they think Windows 11 sucks more or less than Windows 10. If more, output \"Word.\" If less, output \"Peace.\"\n",
    "\n",
    "If they prefer Macs, ask them which is more superior, Mac OS 13 or Mac OS 12. If 13, output \"Chill.\" if 12, output \"Groovy.\""
   ]
  },
  {
   "cell_type": "code",
   "execution_count": null,
   "id": "c54997b7",
   "metadata": {},
   "outputs": [],
   "source": []
  }
 ],
 "metadata": {
  "kernelspec": {
   "display_name": "Python 3",
   "language": "python",
   "name": "python3"
  },
  "language_info": {
   "codemirror_mode": {
    "name": "ipython",
    "version": 3
   },
   "file_extension": ".py",
   "mimetype": "text/x-python",
   "name": "python",
   "nbconvert_exporter": "python",
   "pygments_lexer": "ipython3",
   "version": "3.8.8"
  }
 },
 "nbformat": 4,
 "nbformat_minor": 5
}
