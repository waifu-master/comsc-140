{
 "cells": [
  {
   "cell_type": "markdown",
   "id": "fe1536ed",
   "metadata": {},
   "source": [
    "# Lab 10: Loops III\n",
    "\n",
    "\n",
    "## Exercise 10-1: Calculator using a for loop\n",
    "\n",
    "Write a program that sums the numbers 1 through a value that the user enters.\n",
    "\n",
    "### Sample Output\n",
    "\n",
    "    This program will total the numbers up to the number you enter.\n",
    "    Enter a positive integer greater than 1: 10\n",
    "    The sum of numbers between 1 and 10 is 55."
   ]
  },
  {
   "cell_type": "code",
   "execution_count": null,
   "id": "78c36cf9",
   "metadata": {},
   "outputs": [],
   "source": []
  },
  {
   "cell_type": "markdown",
   "id": "653f2c5b",
   "metadata": {},
   "source": [
    "## Exercise 10-2: Factorial calculator\n",
    "\n",
    "Write a program that outputs the factorial of the integer that the user enters. \n",
    "\n",
    "Use input validation to enforce that the entry has to be between 2-12 inclusive.\n",
    "\n",
    "### Sample Output\n",
    "\n",
    "    This program will generate the factorial of the number you enter.\n",
    "    Enter an integer in the range of 2-12: 6\n",
    "    Result: 6! = 720"
   ]
  },
  {
   "cell_type": "code",
   "execution_count": null,
   "id": "f64ee490",
   "metadata": {},
   "outputs": [],
   "source": []
  }
 ],
 "metadata": {
  "kernelspec": {
   "display_name": "Python 3",
   "language": "python",
   "name": "python3"
  },
  "language_info": {
   "codemirror_mode": {
    "name": "ipython",
    "version": 3
   },
   "file_extension": ".py",
   "mimetype": "text/x-python",
   "name": "python",
   "nbconvert_exporter": "python",
   "pygments_lexer": "ipython3",
   "version": "3.8.8"
  }
 },
 "nbformat": 4,
 "nbformat_minor": 5
}
