{
 "cells": [
  {
   "cell_type": "markdown",
   "id": "fe1536ed",
   "metadata": {},
   "source": [
    "# Lab 10: Loops III\n",
    "\n",
    "\n",
    "## Exercise 10-1: Calculator using a for loop\n",
    "\n",
    "Write a program that sums the numbers 1 through a value that the user enters.\n",
    "\n",
    "### Sample Output\n",
    "\n",
    "    This program will total the numbers up to the number you enter.\n",
    "    Enter a positive integer greater than 1: 10\n",
    "    The sum of numbers between 1 and 10 is 55."
   ]
  },
  {
   "cell_type": "code",
   "execution_count": 5,
   "id": "78c36cf9",
   "metadata": {},
   "outputs": [
    {
     "name": "stdout",
     "output_type": "stream",
     "text": [
      "This program will add up numbers from 1 to the number you enter\n",
      "\n",
      "Enter a positive integer > 1: 10\n",
      "The sum of numbers between 1 and 10 is 55\n"
     ]
    }
   ],
   "source": [
    "# introduce the program\n",
    "print(\"This program will add up numbers from 1 to the number you enter\\n\")\n",
    "\n",
    "# helper variables\n",
    "upper_limit = 0\n",
    "total = 0\n",
    "input_msg = \"Enter a positive integer > 1:\"\n",
    "\n",
    "# input validation\n",
    "while (upper_limit <= 1):\n",
    "    upper_limit = int(input(input_msg))\n",
    "    print(input_msg, upper_limit)\n",
    "\n",
    "# sum up the numbers\n",
    "for i in range(upper_limit):\n",
    "    total += i + 1\n",
    "\n",
    "print(\"The sum of numbers between 1 and\", upper_limit, \"is\", total)"
   ]
  },
  {
   "cell_type": "markdown",
   "id": "653f2c5b",
   "metadata": {},
   "source": [
    "## Exercise 10-2: Factorial calculator\n",
    "\n",
    "Write a program that outputs the factorial of the integer that the user enters. \n",
    "\n",
    "Use input validation to enforce that the entry has to be between 2-12 inclusive.\n",
    "\n",
    "### Sample Output\n",
    "\n",
    "    This program will generate the factorial of the number you enter.\n",
    "    Enter an integer in the range of 2-12: 6\n",
    "    Result: 6! = 720"
   ]
  },
  {
   "cell_type": "code",
   "execution_count": 7,
   "id": "f64ee490",
   "metadata": {},
   "outputs": [
    {
     "name": "stdout",
     "output_type": "stream",
     "text": [
      "This program will calculate the factorial of a number\n",
      "\n",
      "Enter an integer in range 2-12: 0\n",
      "Enter an integer in range 2-12: 20\n",
      "Enter an integer in range 2-12: 10\n",
      "Result: 10! = 3628800\n"
     ]
    }
   ],
   "source": [
    "# introduce the program\n",
    "print(\"This program will calculate the factorial of a number\\n\")\n",
    "\n",
    "# helper variables\n",
    "factorial_num = -1\n",
    "total = 1\n",
    "input_msg = \"Enter an integer in range 2-12:\"\n",
    "\n",
    "# input validation\n",
    "while (factorial_num < 2 or factorial_num > 12):\n",
    "    factorial_num = int(input(input_msg))\n",
    "    print(input_msg, factorial_num)\n",
    "\n",
    "# multiply the numbers\n",
    "for i in range(factorial_num, 0, -1):\n",
    "    total = total * i\n",
    "\n",
    "print(f\"Result: {factorial_num}! = {total}\")"
   ]
  }
 ],
 "metadata": {
  "kernelspec": {
   "display_name": "base",
   "language": "python",
   "name": "python3"
  },
  "language_info": {
   "codemirror_mode": {
    "name": "ipython",
    "version": 3
   },
   "file_extension": ".py",
   "mimetype": "text/x-python",
   "name": "python",
   "nbconvert_exporter": "python",
   "pygments_lexer": "ipython3",
   "version": "3.9.13"
  },
  "vscode": {
   "interpreter": {
    "hash": "136f7659ec1489f5ebdb35c5f2966560ff09dbc7850cb17af6c2b1b671121bd9"
   }
  }
 },
 "nbformat": 4,
 "nbformat_minor": 5
}
