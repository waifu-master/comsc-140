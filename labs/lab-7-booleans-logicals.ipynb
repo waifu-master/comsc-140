{
 "cells": [
  {
   "cell_type": "markdown",
   "id": "40e523f0",
   "metadata": {},
   "source": [
    "# Lab 7: Booleans and Logical Operators\n",
    "\n"
   ]
  },
  {
   "cell_type": "markdown",
   "id": "936a1610",
   "metadata": {},
   "source": [
    "Declare and assign a boolean variable 'lights_on' the value 'true'.\n",
    "\n",
    "Process the boolean (if/else structure) and output \"The lights are on\" or \"the lights are off\" accordingly."
   ]
  },
  {
   "cell_type": "code",
   "execution_count": 1,
   "id": "b4049495",
   "metadata": {},
   "outputs": [
    {
     "name": "stdout",
     "output_type": "stream",
     "text": [
      "The lights are on\n"
     ]
    }
   ],
   "source": [
    "lights_on = True\n",
    "if lights_on:\n",
    "    print(\"The lights are on\")\n",
    "else:\n",
    "    print(\"The lights are off\")"
   ]
  },
  {
   "cell_type": "markdown",
   "id": "3d78cdc1",
   "metadata": {},
   "source": [
    "Declare and assign a boolean variable 'found' the value 'false'.\n",
    "\n",
    "Asks the user if they found the item; they will respond with Y or N. If Y: flip the value of 'found' to true; otherwise do nothing.\n",
    "\n",
    "At the end of your program, evaluate the boolean variable (if/else) and output 'The item was found' or 'The item was not found' accordingly."
   ]
  },
  {
   "cell_type": "code",
   "execution_count": 2,
   "id": "ccf81ca3",
   "metadata": {},
   "outputs": [
    {
     "name": "stdout",
     "output_type": "stream",
     "text": [
      "The item was found\n"
     ]
    }
   ],
   "source": [
    "found = False\n",
    "is_found = input(\"Is the item found? [y/n]\")\n",
    "if is_found == \"y\":\n",
    "    found = True\n",
    "\n",
    "if found:\n",
    "    print(\"The item was found\")\n",
    "else:\n",
    "    print(\"The item was not found\")"
   ]
  },
  {
   "cell_type": "markdown",
   "id": "85efd6a4",
   "metadata": {},
   "source": [
    "Declare a = 10, b = 20, c = 30.\n",
    "\n",
    "Code this (if/else with logical operator): if a is less than 15 and b is less than 25, output 'A'; otherwise output 'B'."
   ]
  },
  {
   "cell_type": "code",
   "execution_count": 3,
   "id": "7d86db43",
   "metadata": {},
   "outputs": [
    {
     "name": "stdout",
     "output_type": "stream",
     "text": [
      "A\n"
     ]
    }
   ],
   "source": [
    "a = 10\n",
    "b = 20\n",
    "c = 30\n",
    "\n",
    "if a < 15 and b < 25:\n",
    "    print(\"A\")\n",
    "else:\n",
    "    print(\"B\")"
   ]
  },
  {
   "cell_type": "markdown",
   "id": "caceeb96",
   "metadata": {},
   "source": [
    "Copy your code down and amend your code:\n",
    "\n",
    "If a is less than 15 and b is greater than 15, output 'the number is not 15'; otherwise output 'the number is 15'"
   ]
  },
  {
   "cell_type": "code",
   "execution_count": 4,
   "id": "e12426bb",
   "metadata": {},
   "outputs": [
    {
     "name": "stdout",
     "output_type": "stream",
     "text": [
      "The number is not 15\n"
     ]
    }
   ],
   "source": [
    "if a < 15 and b > 15:\n",
    "    print(\"The number is not 15\")\n",
    "else:\n",
    "    print(\"The number is 15\")"
   ]
  },
  {
   "cell_type": "markdown",
   "id": "65a7748f",
   "metadata": {},
   "source": [
    "Copy down and amend your code:\n",
    "\n",
    "If a + b <= 30 then output \"<= 30\"; otherwise \"> 30\""
   ]
  },
  {
   "cell_type": "code",
   "execution_count": 6,
   "id": "28ef048f",
   "metadata": {},
   "outputs": [
    {
     "name": "stdout",
     "output_type": "stream",
     "text": [
      "<= 30\n"
     ]
    }
   ],
   "source": [
    "if (a + b) <= 30:\n",
    "    print(\"<= 30\")\n",
    "else:\n",
    "    print(\">30\")"
   ]
  },
  {
   "cell_type": "markdown",
   "id": "c7f38d36",
   "metadata": {},
   "source": [
    "Set these boolean variables:\n",
    "\n",
    "hot = False\n",
    "motion = True\n",
    "\n",
    "Using the not() operator, code these as four standalone if statements:\n",
    "\n",
    "    If it's hot and in motion, output \"Hot and in motion\".\n",
    "    If it's hot and not in motion, output \"Hot and not in motion.\"\n",
    "    If it's not hot and in motion, output \"Not hot and in motion.\"\n",
    "    If it's not hot and not in motion, output \"Not hot and not in motion.\"\n",
    "\n",
    "Continuing on, now code the same problem, also using not() as necessary, using nested if/else statements instead of standalone statements.\n",
    "\n",
    "### Sample output\n",
    "\n",
    "    Not hot and in motion.\n",
    "    Not hot and in motion."
   ]
  },
  {
   "cell_type": "code",
   "execution_count": 8,
   "id": "d925a241",
   "metadata": {},
   "outputs": [
    {
     "name": "stdout",
     "output_type": "stream",
     "text": [
      "Not hot and in motion\n"
     ]
    }
   ],
   "source": [
    "hot = False\n",
    "motion = True\n",
    "\n",
    "# use a variable so that we only need 1 print statement\n",
    "msg = \"\"\n",
    "if hot and motion:\n",
    "    msg = \"Hot and in motion\"\n",
    "elif hot and not(motion):\n",
    "    msg = \"Hot and not in motion\"\n",
    "elif not(hot) and motion:\n",
    "    msg = \"Not hot and in motion\"\n",
    "elif not(hot) and not(motion):\n",
    "    msg = \"Not hot and not in motion\"\n",
    "\n",
    "print(msg)"
   ]
  }
 ],
 "metadata": {
  "kernelspec": {
   "display_name": "base",
   "language": "python",
   "name": "python3"
  },
  "language_info": {
   "codemirror_mode": {
    "name": "ipython",
    "version": 3
   },
   "file_extension": ".py",
   "mimetype": "text/x-python",
   "name": "python",
   "nbconvert_exporter": "python",
   "pygments_lexer": "ipython3",
   "version": "3.9.13"
  },
  "vscode": {
   "interpreter": {
    "hash": "136f7659ec1489f5ebdb35c5f2966560ff09dbc7850cb17af6c2b1b671121bd9"
   }
  }
 },
 "nbformat": 4,
 "nbformat_minor": 5
}
