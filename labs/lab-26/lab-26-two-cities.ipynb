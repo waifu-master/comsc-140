{
 "cells": [
  {
   "cell_type": "code",
   "execution_count": 4,
   "metadata": {},
   "outputs": [
    {
     "name": "stdout",
     "output_type": "stream",
     "text": [
      "Character frequencies in \"Tale of Two Cities\n",
      "\n",
      "A:     811\n",
      "B:     494\n",
      "C:     659\n",
      "D:     934\n",
      "E:     287\n",
      "F:     365\n",
      "G:     271\n",
      "H:     858\n",
      "I:    2711\n",
      "J:     273\n",
      "K:      45\n",
      "L:     777\n",
      "M:    1600\n",
      "N:     352\n",
      "O:     264\n",
      "P:     381\n",
      "Q:      28\n",
      "R:     147\n",
      "S:     813\n",
      "T:    1556\n",
      "U:      38\n",
      "V:      86\n",
      "W:     587\n",
      "X:      29\n",
      "Y:     409\n",
      "Z:       0\n",
      "a:   46257\n",
      "b:    7647\n",
      "c:   12570\n",
      "d:   26552\n",
      "e:   72601\n",
      "f:   12792\n",
      "g:   11850\n",
      "h:   37504\n",
      "i:   37079\n",
      "j:     349\n",
      "k:    4591\n",
      "l:   20762\n",
      "m:   13322\n",
      "n:   40961\n",
      "o:   44860\n",
      "p:    9072\n",
      "q:     627\n",
      "r:   35815\n",
      "s:   35963\n",
      "t:   50846\n",
      "u:   16179\n",
      "v:    4980\n",
      "w:   13249\n",
      "x:     637\n",
      "y:   11442\n",
      "z:     213\n"
     ]
    }
   ],
   "source": [
    "frequencies = [0 for _ in range(52)]\n",
    "upper = [65 + i for i in range(26)] # A = 65 in ASCII\n",
    "lower = [97 + i for i in range(26)] # a = 97 in ASCII\n",
    "letters_ascii = upper + lower # combine uppercase & lowercase\n",
    "\n",
    "file = open('tale.txt', 'r')\n",
    "content = file.read()\n",
    "\n",
    "for char in content:\n",
    "    if ord(char) in letters_ascii:\n",
    "        idx = letters_ascii.index(ord(char))\n",
    "        frequencies[idx] += 1\n",
    "\n",
    "print('Character frequencies in \"Tale of Two Cities\\n')\n",
    "for i in range(len(letters_ascii)):\n",
    "    print(f'{chr(letters_ascii[i])}: {frequencies[i]:>7}')"
   ]
  }
 ],
 "metadata": {
  "kernelspec": {
   "display_name": "base",
   "language": "python",
   "name": "python3"
  },
  "language_info": {
   "codemirror_mode": {
    "name": "ipython",
    "version": 3
   },
   "file_extension": ".py",
   "mimetype": "text/x-python",
   "name": "python",
   "nbconvert_exporter": "python",
   "pygments_lexer": "ipython3",
   "version": "3.9.13"
  },
  "orig_nbformat": 4
 },
 "nbformat": 4,
 "nbformat_minor": 2
}
