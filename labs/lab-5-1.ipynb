{
 "cells": [
  {
   "cell_type": "markdown",
   "id": "96c062ec",
   "metadata": {},
   "source": [
    "# Lab 5: Calculations"
   ]
  },
  {
   "cell_type": "markdown",
   "id": "04099293",
   "metadata": {},
   "source": [
    "Ref: Section 2.7. Make sure to read Section 2.7 before starting this exercise.\n",
    "\n",
    "Variables can be declared by way of a math operation, or a calculation, such as:\n",
    "\n",
    "    result = 5 + 5\n",
    "    result = value1 + value2\n",
    "\n",
    "### Exercise 5-1\n",
    "\n",
    "Write a small script in the cell below that gets three integers from the user. Your script then calculates and outputs the sum. Name your variable 'sum' to make the variable name descriptive of the contents it holds.\n",
    "\n",
    "Here's some sample output:\n",
    "\n",
    "    Enter first integer: 15\n",
    "    Enter second integer: 18\n",
    "    Enter third integer: 21\n",
    "    The sum is: 54"
   ]
  },
  {
   "cell_type": "code",
   "execution_count": 1,
   "id": "eee512a6",
   "metadata": {},
   "outputs": [
    {
     "name": "stdout",
     "output_type": "stream",
     "text": [
      "Enter first integer: 123\n",
      "Enter second integer: 654\n",
      "Enter third integer: 159\n",
      "The sum is: 936\n"
     ]
    }
   ],
   "source": []
  },
  {
   "cell_type": "markdown",
   "id": "4f106bb0",
   "metadata": {},
   "source": [
    "### Exercise 5-2\n",
    "\n",
    "Write a small script that will calculate the sales tax of an item. Have the user enter an item's price (use a float). Then calculate and display the sales tax (use a rate of 6% for the tax). Then calculate and display the total bill.\n",
    "\n",
    "Here's some sample output:\n",
    "\n",
    "    Enter item price: 123.33\n",
    "    Item price: 123.33\n",
    "    Tax: 7.3998\n",
    "    Total: 130.7298"
   ]
  },
  {
   "cell_type": "code",
   "execution_count": 2,
   "id": "3e16d6a0",
   "metadata": {},
   "outputs": [
    {
     "name": "stdout",
     "output_type": "stream",
     "text": [
      "Enter item price: 123.45\n",
      "Item price: 123.45\n",
      "Item price: 123.45 1123.45\n",
      "Tax: 7.407\n",
      "Total: 130.857\n"
     ]
    }
   ],
   "source": []
  },
  {
   "cell_type": "markdown",
   "id": "2681ff53",
   "metadata": {},
   "source": [
    "### Exercise 5-3\n",
    "\n",
    "Write a small script that will calculate miles per gallon that a car is obtaining during a trip. The user enters how many miles they drove and how many gallons of fuel they used. Calculate and output the miles per gallon.\n",
    "\n",
    "Here's some sample output:\n",
    "\n",
    "    Enter miles driven: 154.5\n",
    "    Enter gallons used: 6.2\n",
    "    Miles driven: 154.5\n",
    "    Gallons used: 6.2\n",
    "    MPG:  24.919354838709676\n",
    "    \n",
    "If you get a lot of decimal places with some calculations, we'll fix that in a week or so. It's OK for now."
   ]
  },
  {
   "cell_type": "code",
   "execution_count": 3,
   "id": "6e783601",
   "metadata": {},
   "outputs": [
    {
     "name": "stdout",
     "output_type": "stream",
     "text": [
      "Enter miles driven: 224.5\n",
      "Enter gallons used: 9.75\n",
      "Miles driven: 224.5\n",
      "Gallons used: 9.75\n",
      "MPG:  23.025641025641026\n",
      "MPG: 23.03\n"
     ]
    }
   ],
   "source": []
  }
 ],
 "metadata": {
  "kernelspec": {
   "display_name": "Python 3",
   "language": "python",
   "name": "python3"
  },
  "language_info": {
   "codemirror_mode": {
    "name": "ipython",
    "version": 3
   },
   "file_extension": ".py",
   "mimetype": "text/x-python",
   "name": "python",
   "nbconvert_exporter": "python",
   "pygments_lexer": "ipython3",
   "version": "3.8.8"
  }
 },
 "nbformat": 4,
 "nbformat_minor": 5
}
