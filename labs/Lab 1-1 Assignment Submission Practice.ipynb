{
 "cells": [
  {
   "cell_type": "markdown",
   "id": "1bb28f55",
   "metadata": {},
   "source": [
    "# Lab 1-1 Assignment Submission Practice\n",
    "\n",
    "Download this Lab and save it to your COMSC-140 folder or a safe location.\n",
    "\n",
    "Open it in Jupyter Notebooks.\n",
    "\n",
    "In the cell below, type \"1 + 1\" without the double quotes.\n",
    "\n",
    "Then press either the \"Run\" button with the triangle icon above, or the run button to the left of the cell below. Or use the shortcut Ctrl+Enter.\n",
    "\n",
    "You should get output of 2."
   ]
  },
  {
   "cell_type": "code",
   "execution_count": 1,
   "id": "1d7fa12c",
   "metadata": {},
   "outputs": [
    {
     "data": {
      "text/plain": [
       "2"
      ]
     },
     "execution_count": 1,
     "metadata": {},
     "output_type": "execute_result"
    }
   ],
   "source": [
    "1 + 1"
   ]
  }
 ],
 "metadata": {
  "kernelspec": {
   "display_name": "base",
   "language": "python",
   "name": "python3"
  },
  "language_info": {
   "codemirror_mode": {
    "name": "ipython",
    "version": 3
   },
   "file_extension": ".py",
   "mimetype": "text/x-python",
   "name": "python",
   "nbconvert_exporter": "python",
   "pygments_lexer": "ipython3",
   "version": "3.9.13"
  },
  "vscode": {
   "interpreter": {
    "hash": "136f7659ec1489f5ebdb35c5f2966560ff09dbc7850cb17af6c2b1b671121bd9"
   }
  }
 },
 "nbformat": 4,
 "nbformat_minor": 5
}
