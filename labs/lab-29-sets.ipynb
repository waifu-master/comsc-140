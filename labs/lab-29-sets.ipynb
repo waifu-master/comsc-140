{
 "cells": [
  {
   "cell_type": "markdown",
   "id": "c2eff30f",
   "metadata": {},
   "source": [
    "# Lab 29: Python Sets\n",
    "\n",
    "First read Section 9.2 of the textbook or this won't make any sense to you.\n",
    "\n",
    "## Exercise 29-1\n",
    "\n",
    "Since sets contain unique elements, write a small script that will attempt to add several elements to a set that are the same and several that are different. Use a for loop to iterate over and output the set. Verify that the set doesn't contain duplicates."
   ]
  },
  {
   "cell_type": "code",
   "execution_count": 1,
   "id": "af08fde5",
   "metadata": {},
   "outputs": [
    {
     "name": "stdout",
     "output_type": "stream",
     "text": [
      "0\n",
      "1\n",
      "2\n",
      "3\n",
      "4\n",
      "5\n",
      "6\n",
      "7\n",
      "8\n",
      "9\n",
      "10\n",
      "11\n",
      "12\n",
      "all values are unique\n"
     ]
    }
   ],
   "source": [
    "the_set = {i for i in range(10)} # 0 to 9\n",
    "\n",
    "for i in range(7, 13): # 7 to 12\n",
    "    the_set.add(i) # adds the numbers 7-12 to the set\n",
    "\n",
    "values_in_set = []\n",
    "dupes = [] # holds the duplicate values\n",
    "all_unique = True\n",
    "for el in the_set:\n",
    "    print(el)\n",
    "    if el in values_in_set:\n",
    "        all_unique = False\n",
    "        dupes.append(el)\n",
    "    else:\n",
    "        values_in_set.append(el)\n",
    "if all_unique:\n",
    "    print('all values are unique')\n",
    "else:\n",
    "    print('duplicates found')\n",
    "    print(dupes)"
   ]
  },
  {
   "cell_type": "markdown",
   "id": "7995d2a8",
   "metadata": {},
   "source": [
    "## Exercise 29-2\n",
    "\n",
    "Using set comprehension, create a set of 25 random numbers in the range 1-75. Use a for loop to print.\n",
    "\n",
    "Create a second set of 25 randoms 1-75, and print with a for loop.\n",
    "\n",
    "Sample output:\n",
    "\n",
    "    7 11 13 18 29 33 34 38 39 40 44 46 48 52 56 57 62 63 65 71 72 \n",
    "    2 4 6 12 17 18 24 32 36 38 41 42 47 51 56 59 60 63 68 74 "
   ]
  },
  {
   "cell_type": "code",
   "execution_count": 5,
   "id": "43ded248",
   "metadata": {},
   "outputs": [
    {
     "name": "stdout",
     "output_type": "stream",
     "text": [
      "3 4 5 19 20 35 36 41 42 45 47 49 50 51 53 61 64 67 74 75 \n",
      "2 3 6 8 12 21 25 29 31 34 43 46 47 48 49 60 61 64 69 72 73 "
     ]
    }
   ],
   "source": [
    "import random\n",
    "SIZE, RAND_MIN, RAND_MAX = 25, 1, 75\n",
    "\n",
    "set1 = {random.randint(RAND_MIN, RAND_MAX) for _ in range(SIZE)}\n",
    "set2 = {random.randint(RAND_MIN, RAND_MAX) for _ in range(SIZE)}\n",
    "\n",
    "for val in set1:\n",
    "    print(val, end=' ')\n",
    "print() # spacer\n",
    "for val in set2:\n",
    "    print(val, end=' ')"
   ]
  },
  {
   "cell_type": "markdown",
   "id": "84ad6767",
   "metadata": {},
   "source": [
    "## Exercise 29-3\n",
    "\n",
    "With these two sets, determine and output the union, intersection, difference, and symmetric difference between the sets.\n",
    "\n",
    "Sample output:\n",
    "\n",
    "    Union: \n",
    "    {2, 4, 6, 7, 11, 12, 13, 17, 18, 24, 29, 32, 33, 34, 36, 38, 39, 40, 41, 42, 44, 46, 47, 48, 51, 52, 56, 57, 59, 60, 62, 63, 65, 68, 71, 72, 74}\n",
    "\n",
    "    Intersection: \n",
    "    {56, 18, 38, 63}\n",
    "\n",
    "    Difference: \n",
    "    {33, 34, 65, 7, 39, 40, 71, 11, 44, 13, 46, 72, 48, 52, 57, 29, 62}\n",
    "\n",
    "    Symmetric difference: \n",
    "    {65, 2, 4, 68, 6, 7, 71, 72, 74, 11, 12, 13, 17, 24, 29, 32, 33, 34, 36, 39, 40, 41, 42, 44, 46, 47, 48, 51, 52, 57, 59, 60, 62}"
   ]
  },
  {
   "cell_type": "code",
   "execution_count": 7,
   "id": "9795d017",
   "metadata": {},
   "outputs": [
    {
     "name": "stdout",
     "output_type": "stream",
     "text": [
      "{2, 3, 4, 5, 6, 8, 12, 19, 20, 21, 25, 29, 31, 34, 35, 36, 41, 42, 43, 45, 46, 47, 48, 49, 50, 51, 53, 60, 61, 64, 67, 69, 72, 73, 74, 75}\n",
      "{64, 3, 47, 49, 61}\n",
      "{35, 4, 5, 36, 67, 41, 42, 74, 75, 45, 50, 19, 20, 51, 53}\n",
      "{2, 4, 69, 6, 5, 8, 72, 73, 67, 12, 74, 75, 19, 20, 21, 25, 29, 31, 34, 35, 36, 41, 42, 43, 45, 46, 48, 50, 51, 53, 60}\n"
     ]
    }
   ],
   "source": [
    "print(set1.union(set2))\n",
    "print(set1.intersection(set2))\n",
    "print(set1.difference(set2))\n",
    "print(set1.symmetric_difference(set2))"
   ]
  }
 ],
 "metadata": {
  "kernelspec": {
   "display_name": "Python 3",
   "language": "python",
   "name": "python3"
  },
  "language_info": {
   "codemirror_mode": {
    "name": "ipython",
    "version": 3
   },
   "file_extension": ".py",
   "mimetype": "text/x-python",
   "name": "python",
   "nbconvert_exporter": "python",
   "pygments_lexer": "ipython3",
   "version": "3.9.13"
  }
 },
 "nbformat": 4,
 "nbformat_minor": 5
}
