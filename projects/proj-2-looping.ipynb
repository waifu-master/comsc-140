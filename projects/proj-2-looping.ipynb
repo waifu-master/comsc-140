{
 "cells": [
  {
   "cell_type": "markdown",
   "id": "563d24d5",
   "metadata": {},
   "source": [
    "# Project 2: Looping\n",
    "\n",
    "## Exercise 2-1: Mileage Allowance\n",
    "\n",
    "Write a script that will allow a user to enter their monthly mileage allowance (for example, a company car or a leased car might have a mileage allowance). The user enters their weekly mileage data to determine if they're above or below their allowance.\n",
    "\n",
    "Use a constant to hold the sentinel value of -99. Output this constant, rather than the literal \"-99\", when you're instructing the user what to enter.\n",
    "\n",
    "Use a while loop. Make sure to notify the user exactly what to type in to end the loop.\n",
    "\n",
    "Use an accumulator variable to sum the entries.\n",
    "\n",
    "Use a counter variable to keep track of which mileage entry is being entered, number 1, 2, etc. Notice in the sample output below that the prompt is \"Enter mileage entry #1\" -- that '1' will be your counter variable.\n",
    "\n",
    "At the end display if the user is over, under, or at their mileage allowance.\n",
    "\n",
    "Sample output:\n",
    "\n",
    "    Please enter your monthly mileage allowance in whole USD: 500\n",
    "        Enter mileage entry #1 (-99 to quit): 325\n",
    "        Enter mileage entry #2 (-99 to quit): 45.5\n",
    "        Enter mileage entry #3 (-99 to quit): 200\n",
    "        Enter mileage entry #4 (-99 to quit): -99\n",
    "\n",
    "    The sum of mileage is: 570.5\n",
    "    The allowance is: 500.0\n",
    "    You are over your mileage allowance."
   ]
  },
  {
   "cell_type": "code",
   "execution_count": null,
   "id": "ae381502",
   "metadata": {},
   "outputs": [],
   "source": []
  },
  {
   "cell_type": "markdown",
   "id": "a4b3c644",
   "metadata": {},
   "source": [
    "## Exercise 2-2: ASCII Table\n",
    "\n",
    "A for loop would be your use of choice. Use the proper range.\n",
    "\n",
    "If x is an integer, you can display the ASCII-equivalent of that integer with chr(x).\n",
    "\n",
    "Note the output formatting. You'll need to use output formatting (F-strings) to achieve the right-justified first column of data. See page 75 of the textbook, Section 2.10, 'Specifying a Minimum Field Width.'\n",
    "\n",
    "### Sample Output\n",
    "\n",
    "    ASCII Char\n",
    "       33    !\n",
    "       34    \"\n",
    "       35    #\n",
    "       36    $\n",
    "       37    %\n",
    "    ...output truncated; your output will be much more\n",
    "      122    z\n",
    "      123    {\n",
    "      124    |\n",
    "      125    }\n",
    "      126    ~"
   ]
  },
  {
   "cell_type": "code",
   "execution_count": null,
   "id": "932a7aa5",
   "metadata": {},
   "outputs": [],
   "source": [
    "print(f'{\"ASCII\":>5}{\"Char\":>5}')\n",
    "for i in range(33, 127):\n",
    "    print(f'{i:>5}{chr(i):>5}')"
   ]
  },
  {
   "cell_type": "markdown",
   "id": "10d082c4",
   "metadata": {},
   "source": [
    "### Extra credit option [5 pts]\n",
    "\n",
    "Note: if you are pursuing the extra credit option, please put the comment # EXTRA CREDIT OPTION at the top of your code.\n",
    "\n",
    "Create this additional output, which outputs the ASCII table in columns of 17. Note that lots of output formatting will be required!\n",
    "\n",
    "    ASCII:   33  34  35  36  37  38  39  40  41  42  43  44  45  46  47  48  49\n",
    "    Char:     !   \"   #   $   %   &   '   (   )   *   +   ,   -   .   /   0   1\n",
    "\n",
    "    ASCII:   50  51  52  53  54  55  56  57  58  59  60  61  62  63  64  65  66\n",
    "    Char:     2   3   4   5   6   7   8   9   :   ;   <   =   >   ?   @   A   B\n",
    "\n",
    "    ASCII:   67  68  69  70  71  72  73  74  75  76  77  78  79  80  81  82  83\n",
    "    Char:     C   D   E   F   G   H   I   J   K   L   M   N   O   P   Q   R   S\n",
    "\n",
    "    ASCII:   84  85  86  87  88  89  90  91  92  93  94  95  96  97  98  99 100\n",
    "    Char:     T   U   V   W   X   Y   Z   [   \\   ]   ^   _   `   a   b   c   d\n",
    "\n",
    "    ASCII:  101 102 103 104 105 106 107 108 109 110 111 112 113 114 115 116 117\n",
    "    Char:     e   f   g   h   i   j   k   l   m   n   o   p   q   r   s   t   u\n",
    "\n",
    "    ASCII:  118 119 120 121 122 123 124 125 126\n",
    "    Char:     v   w   x   y   z   {   |   }   ~"
   ]
  },
  {
   "cell_type": "code",
   "execution_count": null,
   "id": "04b6de9a",
   "metadata": {},
   "outputs": [],
   "source": []
  },
  {
   "cell_type": "code",
   "execution_count": null,
   "id": "c0a8f794",
   "metadata": {},
   "outputs": [],
   "source": []
  }
 ],
 "metadata": {
  "kernelspec": {
   "display_name": "base",
   "language": "python",
   "name": "python3"
  },
  "language_info": {
   "codemirror_mode": {
    "name": "ipython",
    "version": 3
   },
   "file_extension": ".py",
   "mimetype": "text/x-python",
   "name": "python",
   "nbconvert_exporter": "python",
   "pygments_lexer": "ipython3",
   "version": "3.9.13"
  },
  "vscode": {
   "interpreter": {
    "hash": "136f7659ec1489f5ebdb35c5f2966560ff09dbc7850cb17af6c2b1b671121bd9"
   }
  }
 },
 "nbformat": 4,
 "nbformat_minor": 5
}
