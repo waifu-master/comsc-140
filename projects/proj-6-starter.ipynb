{
 "cells": [
  {
   "cell_type": "code",
   "execution_count": 6,
   "id": "83df62f5",
   "metadata": {},
   "outputs": [
    {
     "name": "stdout",
     "output_type": "stream",
     "text": [
      "R R\n",
      "R S\n",
      "R S\n",
      "S P\n"
     ]
    }
   ],
   "source": [
    "import random\n",
    "MIN, MAX, TOSSES = 0, 2, 4\n",
    "\n",
    "def main():\n",
    "    # declarations\n",
    "    \n",
    "    # play the game\n",
    "    playRPS()\n",
    "    \n",
    "def playRPS():\n",
    "    # game engine\n",
    "  for i in range (TOSSES):\n",
    "        cpu1 = throwRPS()\n",
    "        cpu2 = throwRPS()\n",
    "        print(cpu1, cpu2)\n",
    "    \n",
    "def throwRPS():\n",
    "    tmp = 'RPS'\n",
    "    return tmp[random.randint(MIN, MAX)]\n",
    "\n",
    "# call the main function\n",
    "main()"
   ]
  }
 ],
 "metadata": {
  "kernelspec": {
   "display_name": "Python 3 (ipykernel)",
   "language": "python",
   "name": "python3"
  },
  "language_info": {
   "codemirror_mode": {
    "name": "ipython",
    "version": 3
   },
   "file_extension": ".py",
   "mimetype": "text/x-python",
   "name": "python",
   "nbconvert_exporter": "python",
   "pygments_lexer": "ipython3",
   "version": "3.9.13"
  }
 },
 "nbformat": 4,
 "nbformat_minor": 5
}
