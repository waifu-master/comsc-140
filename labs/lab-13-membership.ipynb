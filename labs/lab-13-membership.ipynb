{
 "cells": [
  {
   "cell_type": "code",
   "execution_count": 8,
   "metadata": {},
   "outputs": [
    {
     "name": "stdout",
     "output_type": "stream",
     "text": [
      "Number of memberships sold:\n",
      "    Gold: 1\n",
      "    Silver: 20\n",
      "    Bronze: 50\n",
      "    Steel: 1000\n",
      "    \n",
      "Revenue generated: $35,500\n"
     ]
    }
   ],
   "source": [
    "GOLD_PRICE = 500\n",
    "SILVER_PRICE = 250\n",
    "BRONZE_PRICE = 100\n",
    "STEEL_PRICE = 25\n",
    "\n",
    "def calc_revenue(gold: int, silver: int, bronze: int, steel: int):\n",
    "    '''print total revenue with with thousands separator'''\n",
    "    revenue = gold * GOLD_PRICE\n",
    "    revenue += silver * SILVER_PRICE\n",
    "    revenue += bronze * BRONZE_PRICE\n",
    "    revenue += steel * STEEL_PRICE\n",
    "    print(f'Revenue generated: ${revenue:,}')\n",
    "\n",
    "def get_sales_count(level: str):\n",
    "    '''get how many memberships are sold for some level'''\n",
    "    msg = f'Enter number of {level} memberships sold'\n",
    "    sold = int(input(msg))\n",
    "    while (sold < 0):\n",
    "        msg = 'ERROR: must be >= 0. Please enter a valid number of {level} memberships sold'\n",
    "        sold = int(input(msg))\n",
    "    return sold\n",
    "\n",
    "# main program\n",
    "def main():\n",
    "    gold = get_sales_count('gold')\n",
    "    silver = get_sales_count('silver')\n",
    "    bronze = get_sales_count('bronze')\n",
    "    steel = get_sales_count('steel')\n",
    "    print(f'''Number of memberships sold:\n",
    "    Gold: {gold}\n",
    "    Silver: {silver}\n",
    "    Bronze: {bronze}\n",
    "    Steel: {steel}\n",
    "    ''')\n",
    "    calc_revenue(gold, silver, bronze, steel)\n",
    "\n",
    "main()\n"
   ]
  }
 ],
 "metadata": {
  "kernelspec": {
   "display_name": "base",
   "language": "python",
   "name": "python3"
  },
  "language_info": {
   "codemirror_mode": {
    "name": "ipython",
    "version": 3
   },
   "file_extension": ".py",
   "mimetype": "text/x-python",
   "name": "python",
   "nbconvert_exporter": "python",
   "pygments_lexer": "ipython3",
   "version": "3.9.13"
  },
  "orig_nbformat": 4,
  "vscode": {
   "interpreter": {
    "hash": "136f7659ec1489f5ebdb35c5f2966560ff09dbc7850cb17af6c2b1b671121bd9"
   }
  }
 },
 "nbformat": 4,
 "nbformat_minor": 2
}
